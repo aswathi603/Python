{
 "cells": [
  {
   "cell_type": "code",
   "execution_count": 2,
   "metadata": {},
   "outputs": [],
   "source": [
    "# Initialize an empty list to store patient information\n",
    "patients_info = []"
   ]
  },
  {
   "cell_type": "code",
   "execution_count": 3,
   "metadata": {},
   "outputs": [],
   "source": [
    "# Add patients to the list\n",
    "patients_info.append({\"id\": 1, \"name\": \"John Doe\", \"place\": \"New York\", \"email\": \"john@example.com\", \"age\": 30})\n",
    "patients_info.append({\"id\": 2, \"name\": \"Jane Doe\", \"place\": \"Los Angeles\", \"email\": \"jane@example.com\", \"age\": 25})\n",
    "patients_info.append({\"id\": 3, \"name\": \"Bob Smith\", \"place\": \"Chicago\", \"email\": \"bob@example.com\", \"age\": 40})\n",
    "patients_info.append({\"id\": 4, \"name\": \"Alice Johnson\", \"place\": \"Houston\", \"email\": \"alice@example.com\", \"age\": 35})\n",
    "patients_info.append({\"id\": 5, \"name\": \"Mike Davis\", \"place\": \"Seattle\", \"email\": \"mike@example.com\", \"age\": 45})\n",
    "patients_info.append({\"id\": 6, \"name\": \"Emily Taylor\", \"place\": \"Boston\", \"email\": \"emily@example.com\", \"age\": 28})\n",
    "patients_info.append({\"id\": 7, \"name\": \"David Lee\", \"place\": \"San Francisco\", \"email\": \"david@example.com\", \"age\": 38})\n",
    "patients_info.append({\"id\": 8, \"name\": \"Sarah Kim\", \"place\": \"Miami\", \"email\": \"sarah@example.com\", \"age\": 32})\n",
    "patients_info.append({\"id\": 9, \"name\": \"Kevin White\", \"place\": \"Dallas\", \"email\": \"kevin@example.com\", \"age\": 42})\n",
    "patients_info.append({\"id\": 10, \"name\": \"Rebecca Brown\", \"place\": \"Denver\", \"email\": \"rebecca@example.com\", \"age\": 29})\n"
   ]
  },
  {
   "cell_type": "code",
   "execution_count": 5,
   "metadata": {},
   "outputs": [
    {
     "name": "stdout",
     "output_type": "stream",
     "text": [
      "Name: Sarah Kim\n",
      "Age: 32\n"
     ]
    }
   ],
   "source": [
    "# Retrieve patient details by ID\n",
    "patient_id = int(input(\"enter a id: \"))\n",
    "for patient in patients_info:\n",
    "    if patient[\"id\"] == patient_id:\n",
    "        print(\"Name:\", patient[\"name\"])\n",
    "        print(\"Age:\", patient[\"age\"])\n",
    "        break\n",
    "else:\n",
    "    print(\"Patient not found\")"
   ]
  },
  {
   "cell_type": "code",
   "execution_count": null,
   "metadata": {},
   "outputs": [],
   "source": []
  },
  {
   "cell_type": "code",
   "execution_count": null,
   "metadata": {},
   "outputs": [],
   "source": []
  },
  {
   "cell_type": "code",
   "execution_count": null,
   "metadata": {},
   "outputs": [],
   "source": []
  },
  {
   "cell_type": "code",
   "execution_count": null,
   "metadata": {},
   "outputs": [],
   "source": []
  }
 ],
 "metadata": {
  "kernelspec": {
   "display_name": "Python 3",
   "language": "python",
   "name": "python3"
  },
  "language_info": {
   "codemirror_mode": {
    "name": "ipython",
    "version": 3
   },
   "file_extension": ".py",
   "mimetype": "text/x-python",
   "name": "python",
   "nbconvert_exporter": "python",
   "pygments_lexer": "ipython3",
   "version": "3.12.0"
  }
 },
 "nbformat": 4,
 "nbformat_minor": 2
}
