{
 "cells": [
  {
   "cell_type": "markdown",
   "id": "25e404f2",
   "metadata": {},
   "source": [
    "### Assignment 1"
   ]
  },
  {
   "cell_type": "code",
   "execution_count": 2,
   "id": "c828579a",
   "metadata": {},
   "outputs": [],
   "source": [
    "# Contact Manager System\n",
    "DATABASE_FILE = 'database.txt'"
   ]
  },
  {
   "cell_type": "code",
   "execution_count": 1,
   "id": "828d03cb",
   "metadata": {},
   "outputs": [],
   "source": [
    "# Step 1: Data Ingestion\n",
    "def add_contact(name, phone, email, group):\n",
    "    with open(DATABASE_FILE, 'a') as db:\n",
    "        db.write(f\"{name},{email},{phone},{group}\\n\")"
   ]
  },
  {
   "cell_type": "code",
   "execution_count": 3,
   "id": "60133764",
   "metadata": {},
   "outputs": [],
   "source": [
    "# Step 2.1: Search contacts via Name\n",
    "def search_by_name(name_query):\n",
    "    with open(DATABASE_FILE, 'r') as db:\n",
    "        results = [line.strip() for line in db if line.lower().startswith(name_query.lower())]\n",
    "    return results"
   ]
  },
  {
   "cell_type": "code",
   "execution_count": 4,
   "id": "9d67e80b",
   "metadata": {},
   "outputs": [],
   "source": [
    "# Step 2.2: Search contacts via Group\n",
    "def search_by_group(group_query):\n",
    "    with open(DATABASE_FILE, 'r') as db:\n",
    "        results = [line.strip() for line in db if line.strip().lower().endswith(group_query.lower())]\n",
    "    return results"
   ]
  },
  {
   "cell_type": "code",
   "execution_count": 5,
   "id": "3c20bfc0",
   "metadata": {},
   "outputs": [],
   "source": [
    "# Step 2.3: Delete contact\n",
    "def delete_contact(email):\n",
    "    with open(DATABASE_FILE, 'r') as db:\n",
    "        lines = db.readlines()\n",
    "    with open(DATABASE_FILE, 'w') as db:\n",
    "        for line in lines:\n",
    "            if email not in line:\n",
    "                db.write(line)\n"
   ]
  },
  {
   "cell_type": "code",
   "execution_count": 6,
   "id": "3e2b41ea",
   "metadata": {},
   "outputs": [
    {
     "name": "stdout",
     "output_type": "stream",
     "text": [
      "Search by name 'Monal':\n",
      "['Monal,xyz@gmail.com,9876543210,home', 'Monalkumar,xyz@gmail.com,9123456789,office']\n",
      "\n",
      "Search by group 'home':\n",
      "['Monal,xyz@gmail.com,9876543210,home', 'Lucas,xyz@gmail.com,9876500000,home', 'Riyan,abc@outlook.com,9876511111,home']\n",
      "\n",
      "After deletion:\n",
      "Monal,xyz@gmail.com,9876543210,home\n",
      "Monalkumar,xyz@gmail.com,9123456789,office\n",
      "Lucas,xyz@gmail.com,9876500000,home\n",
      "\n"
     ]
    }
   ],
   "source": [
    "# Sample usage\n",
    "if __name__ == \"__main__\":\n",
    "    # Add contacts\n",
    "    add_contact(\"Monal\", \"9876543210\", \"xyz@gmail.com\", \"home\")\n",
    "    add_contact(\"Monalkumar\", \"9123456789\", \"xyz@gmail.com\", \"office\")\n",
    "    add_contact(\"Lucas\", \"9876500000\", \"xyz@gmail.com\", \"home\")\n",
    "    add_contact(\"Riyan\", \"9876511111\", \"abc@outlook.com\", \"home\")\n",
    "\n",
    "    # Search by name\n",
    "    print(\"Search by name 'Monal':\")\n",
    "    print(search_by_name(\"Monal\"))\n",
    "\n",
    "    # Search by group\n",
    "    print(\"\\nSearch by group 'home':\")\n",
    "    print(search_by_group(\"home\"))\n",
    "\n",
    "    # Delete a contact by email\n",
    "    delete_contact(\"abc@outlook.com\")\n",
    "    print(\"\\nAfter deletion:\")\n",
    "    print(open(DATABASE_FILE).read())"
   ]
  },
  {
   "cell_type": "markdown",
   "id": "e0a4b4ca",
   "metadata": {},
   "source": [
    "### Assignment 2"
   ]
  },
  {
   "cell_type": "code",
   "execution_count": 7,
   "id": "7ca6a36c",
   "metadata": {},
   "outputs": [],
   "source": [
    "# To-Do List Application\n",
    "\n",
    "todo_list = {}\n",
    "completed_tasks = []\n",
    "task_id = 1"
   ]
  },
  {
   "cell_type": "code",
   "execution_count": 8,
   "id": "5cc8f35c",
   "metadata": {},
   "outputs": [],
   "source": [
    "def add_task(task):\n",
    "    global task_id\n",
    "    todo_list[task_id] = task\n",
    "    print(f\"Task added with ID {task_id}: {task}\")\n",
    "    task_id += 1"
   ]
  },
  {
   "cell_type": "code",
   "execution_count": 9,
   "id": "18ded6fd",
   "metadata": {},
   "outputs": [],
   "source": [
    "def remove_task(task_id_to_remove):\n",
    "    if task_id_to_remove in todo_list:\n",
    "        removed = todo_list.pop(task_id_to_remove)\n",
    "        print(f\"Removed task {task_id_to_remove}: {removed}\")\n",
    "    else:\n",
    "        print(\"Task ID not found.\")"
   ]
  },
  {
   "cell_type": "code",
   "execution_count": 10,
   "id": "ae33b935",
   "metadata": {},
   "outputs": [],
   "source": [
    "def complete_task(task_id_to_complete):\n",
    "    if task_id_to_complete in todo_list:\n",
    "        completed_tasks.append(todo_list[task_id_to_complete])\n",
    "        print(f\"Marked as complete: {todo_list[task_id_to_complete]}\")\n",
    "        del todo_list[task_id_to_complete]\n",
    "    else:\n",
    "        print(\"Task ID not found.\")"
   ]
  },
  {
   "cell_type": "code",
   "execution_count": 11,
   "id": "30545fe2",
   "metadata": {},
   "outputs": [],
   "source": [
    "def show_active_tasks():\n",
    "    if not todo_list:\n",
    "        print(\"No active tasks.\")\n",
    "    else:\n",
    "        print(\"Active tasks:\")\n",
    "        for id, task in todo_list.items():\n",
    "            print(f\"{id}: {task}\")\n"
   ]
  },
  {
   "cell_type": "code",
   "execution_count": 12,
   "id": "4476141d",
   "metadata": {},
   "outputs": [
    {
     "name": "stdout",
     "output_type": "stream",
     "text": [
      "\n",
      "Welcome to to-do list app:\n",
      "Press 1 to add a new task\n",
      "Press 2 to remove a task\n",
      "Press 3 to complete a task\n",
      "Press 4 to view all active tasks\n",
      "Press 5 to exit\n",
      "Task added with ID 1: python chapter \n",
      "\n",
      "Welcome to to-do list app:\n",
      "Press 1 to add a new task\n",
      "Press 2 to remove a task\n",
      "Press 3 to complete a task\n",
      "Press 4 to view all active tasks\n",
      "Press 5 to exit\n",
      "Active tasks:\n",
      "1: python chapter \n",
      "\n",
      "Welcome to to-do list app:\n",
      "Press 1 to add a new task\n",
      "Press 2 to remove a task\n",
      "Press 3 to complete a task\n",
      "Press 4 to view all active tasks\n",
      "Press 5 to exit\n",
      "Exiting... Goodbye!\n"
     ]
    }
   ],
   "source": [
    "# Main loop\n",
    "while True:\n",
    "    print(\"\\nWelcome to to-do list app:\")\n",
    "    print(\"Press 1 to add a new task\")\n",
    "    print(\"Press 2 to remove a task\")\n",
    "    print(\"Press 3 to complete a task\")\n",
    "    print(\"Press 4 to view all active tasks\")\n",
    "    print(\"Press 5 to exit\")\n",
    "\n",
    "    choice = input(\">> \")\n",
    "\n",
    "    if choice == '1':\n",
    "        task = input(\">> Enter task: \")\n",
    "        add_task(task)\n",
    "    elif choice == '2':\n",
    "        try:\n",
    "            task_id_to_remove = int(input(\">> Enter task ID to remove: \"))\n",
    "            remove_task(task_id_to_remove)\n",
    "        except ValueError:\n",
    "            print(\"Please enter a valid number.\")\n",
    "    elif choice == '3':\n",
    "        try:\n",
    "            task_id_to_complete = int(input(\">> Enter task ID to mark as complete: \"))\n",
    "            complete_task(task_id_to_complete)\n",
    "        except ValueError:\n",
    "            print(\"Please enter a valid number.\")\n",
    "    elif choice == '4':\n",
    "        show_active_tasks()\n",
    "    elif choice == '5':\n",
    "        print(\"Exiting... Goodbye!\")\n",
    "        break\n",
    "    else:\n",
    "        print(\"Invalid choice. Try again.\")\n"
   ]
  },
  {
   "cell_type": "markdown",
   "id": "75d105fc",
   "metadata": {},
   "source": [
    "### Assignment 3"
   ]
  },
  {
   "cell_type": "code",
   "execution_count": 13,
   "id": "c6046d34",
   "metadata": {},
   "outputs": [
    {
     "name": "stdout",
     "output_type": "stream",
     "text": [
      "True\n",
      "False\n"
     ]
    }
   ],
   "source": [
    "# Check if a number is a palindrome\n",
    "\n",
    "def is_palindrome(number):\n",
    "    return str(number) == str(number)[::-1]\n",
    "\n",
    "# Example\n",
    "print(is_palindrome(121))  # Output: True\n",
    "print(is_palindrome(123))  # Output: False"
   ]
  },
  {
   "cell_type": "markdown",
   "id": "5bdebbba",
   "metadata": {},
   "source": [
    "### Assignment 4"
   ]
  },
  {
   "cell_type": "code",
   "execution_count": 18,
   "id": "5fe41609",
   "metadata": {},
   "outputs": [
    {
     "name": "stdout",
     "output_type": "stream",
     "text": [
      "[0, 1, 1, 2, 3]\n"
     ]
    }
   ],
   "source": [
    "#  Generate Fibonacci series of given length\n",
    "# n=input(\"Enter the length of Fibonacci series: \")\n",
    "def fibonacci_series(n):\n",
    "    s=[]\n",
    "    a,b=0,1\n",
    "    for i in range(n):\n",
    "        s.append(a)\n",
    "        a,b=b,a+b\n",
    "    return s\n",
    "\n",
    "# Example\n",
    "print(fibonacci_series(5)) #Output: [0, 1, 1, 2, 3]"
   ]
  },
  {
   "cell_type": "markdown",
   "id": "4ac3ee44",
   "metadata": {},
   "source": [
    "### Assignment 5"
   ]
  },
  {
   "cell_type": "code",
   "execution_count": 19,
   "id": "ceb3a61f",
   "metadata": {},
   "outputs": [
    {
     "name": "stdout",
     "output_type": "stream",
     "text": [
      "5\n"
     ]
    }
   ],
   "source": [
    "# Perform dot product of two lists\n",
    "\n",
    "def dot_product(list1, list2):\n",
    "    return sum(a * b for a, b in zip(list1, list2))\n",
    "\n",
    "# Example\n",
    "print(dot_product([1, 2], [1, 2]))  # Output: 5\n"
   ]
  },
  {
   "cell_type": "code",
   "execution_count": null,
   "id": "84264992",
   "metadata": {},
   "outputs": [],
   "source": []
  },
  {
   "cell_type": "code",
   "execution_count": null,
   "id": "5e9b4962",
   "metadata": {},
   "outputs": [],
   "source": []
  },
  {
   "cell_type": "code",
   "execution_count": null,
   "id": "effee35a",
   "metadata": {},
   "outputs": [],
   "source": []
  },
  {
   "cell_type": "code",
   "execution_count": null,
   "id": "ebd97ba4",
   "metadata": {},
   "outputs": [],
   "source": []
  },
  {
   "cell_type": "code",
   "execution_count": null,
   "id": "953e462f",
   "metadata": {},
   "outputs": [],
   "source": []
  },
  {
   "cell_type": "code",
   "execution_count": null,
   "id": "fcb487b3",
   "metadata": {},
   "outputs": [],
   "source": []
  },
  {
   "cell_type": "code",
   "execution_count": null,
   "id": "f39485cc",
   "metadata": {},
   "outputs": [],
   "source": []
  }
 ],
 "metadata": {
  "kernelspec": {
   "display_name": "Python 3",
   "language": "python",
   "name": "python3"
  },
  "language_info": {
   "codemirror_mode": {
    "name": "ipython",
    "version": 3
   },
   "file_extension": ".py",
   "mimetype": "text/x-python",
   "name": "python",
   "nbconvert_exporter": "python",
   "pygments_lexer": "ipython3",
   "version": "3.12.0"
  }
 },
 "nbformat": 4,
 "nbformat_minor": 5
}
