{
 "cells": [
  {
   "cell_type": "markdown",
   "id": "c9a4aad3",
   "metadata": {},
   "source": [
    "🌼 Medium Level\n",
    "\n",
    "9. Reverse a list"
   ]
  },
  {
   "cell_type": "code",
   "execution_count": 1,
   "id": "a22fafff",
   "metadata": {},
   "outputs": [
    {
     "name": "stdout",
     "output_type": "stream",
     "text": [
      "Reversed List: [5, 4, 3, 2, 1]\n"
     ]
    }
   ],
   "source": [
    "lst = [1, 2, 3, 4, 5]\n",
    "lst.reverse()\n",
    "print(\"Reversed List:\", lst)"
   ]
  },
  {
   "cell_type": "markdown",
   "id": "25fb1095",
   "metadata": {},
   "source": [
    "10. Remove duplicates from a list"
   ]
  },
  {
   "cell_type": "code",
   "execution_count": 2,
   "id": "85a02e7b",
   "metadata": {},
   "outputs": [
    {
     "name": "stdout",
     "output_type": "stream",
     "text": [
      "Without Duplicates: [1, 2, 3, 4, 5]\n"
     ]
    }
   ],
   "source": [
    "lst = [1, 2, 2, 3, 4, 4, 5]\n",
    "unique_lst = list(set(lst))\n",
    "print(\"Without Duplicates:\", unique_lst)"
   ]
  },
  {
   "cell_type": "markdown",
   "id": "d526e8a6",
   "metadata": {},
   "source": [
    "11. Find the second largest number"
   ]
  },
  {
   "cell_type": "code",
   "execution_count": 3,
   "id": "9e2ebdaa",
   "metadata": {},
   "outputs": [
    {
     "name": "stdout",
     "output_type": "stream",
     "text": [
      "Second largest: 45\n"
     ]
    }
   ],
   "source": [
    "lst = [10, 20, 4, 45, 99]\n",
    "lst = list(set(lst))  # Remove duplicates\n",
    "lst.sort()\n",
    "print(\"Second largest:\", lst[-2])"
   ]
  },
  {
   "cell_type": "markdown",
   "id": "5ff4273c",
   "metadata": {},
   "source": [
    "12. List comprehension to create a new list of squares"
   ]
  },
  {
   "cell_type": "code",
   "execution_count": 4,
   "id": "389bfaf7",
   "metadata": {},
   "outputs": [
    {
     "name": "stdout",
     "output_type": "stream",
     "text": [
      "Squares: [1, 4, 9, 16, 25]\n"
     ]
    }
   ],
   "source": [
    "nums = [1, 2, 3, 4, 5]\n",
    "squares = [x**2 for x in nums]\n",
    "print(\"Squares:\", squares)"
   ]
  },
  {
   "cell_type": "markdown",
   "id": "60a3625e",
   "metadata": {},
   "source": [
    "13. Split list into two halves"
   ]
  },
  {
   "cell_type": "code",
   "execution_count": 5,
   "id": "88196084",
   "metadata": {},
   "outputs": [
    {
     "name": "stdout",
     "output_type": "stream",
     "text": [
      "First: [1, 2, 3]\n",
      "Second: [4, 5, 6]\n"
     ]
    }
   ],
   "source": [
    "lst = [1, 2, 3, 4, 5, 6]\n",
    "mid = len(lst) // 2\n",
    "first_half = lst[:mid]\n",
    "second_half = lst[mid:]\n",
    "print(\"First:\", first_half)\n",
    "print(\"Second:\", second_half)"
   ]
  },
  {
   "cell_type": "markdown",
   "id": "a077bcd8",
   "metadata": {},
   "source": [
    "🔥 Hard Level\n",
    "\n",
    "14. Rotate a list by k positions"
   ]
  },
  {
   "cell_type": "code",
   "execution_count": 7,
   "id": "f7650972",
   "metadata": {},
   "outputs": [
    {
     "name": "stdout",
     "output_type": "stream",
     "text": [
      "Rotated List: [4, 5, 1, 2, 3]\n"
     ]
    }
   ],
   "source": [
    "def rotate_list(lst, k):\n",
    "    k = k % len(lst)\n",
    "    return lst[-k:] + lst[:-k]\n",
    "\n",
    "lst = [1, 2, 3, 4, 5]\n",
    "k = 2\n",
    "print(\"Rotated List:\", rotate_list(lst, k))"
   ]
  },
  {
   "cell_type": "markdown",
   "id": "019d7c99",
   "metadata": {},
   "source": [
    "15. Find all pairs in list whose sum equals a given value"
   ]
  },
  {
   "cell_type": "code",
   "execution_count": 8,
   "id": "c01b1769",
   "metadata": {},
   "outputs": [
    {
     "name": "stdout",
     "output_type": "stream",
     "text": [
      "Pairs: [(5, 4), (7, 2)]\n"
     ]
    }
   ],
   "source": [
    "def find_pairs(lst, target):\n",
    "    seen = set()\n",
    "    pairs = []\n",
    "    for num in lst:\n",
    "        if target - num in seen:\n",
    "            pairs.append((num, target - num))\n",
    "        seen.add(num)\n",
    "    return pairs\n",
    "lst = [2, 4, 3, 5, 7]\n",
    "target = 9\n",
    "print(\"Pairs:\", find_pairs(lst, target))"
   ]
  },
  {
   "cell_type": "markdown",
   "id": "221ecdc6",
   "metadata": {},
   "source": [
    "16. Flatten a nested list"
   ]
  },
  {
   "cell_type": "code",
   "execution_count": 9,
   "id": "2e7cd1c4",
   "metadata": {},
   "outputs": [
    {
     "name": "stdout",
     "output_type": "stream",
     "text": [
      "Flattened: [1, 2, 3, 4, 5]\n"
     ]
    }
   ],
   "source": [
    "nested = [[1, 2], [3, 4], [5]]\n",
    "flat = [item for sublist in nested for item in sublist]\n",
    "print(\"Flattened:\", flat)"
   ]
  },
  {
   "cell_type": "markdown",
   "id": "c1cef77d",
   "metadata": {},
   "source": [
    "17. Find longest increasing subarray"
   ]
  },
  {
   "cell_type": "code",
   "execution_count": 10,
   "id": "65b36b9c",
   "metadata": {},
   "outputs": [
    {
     "name": "stdout",
     "output_type": "stream",
     "text": [
      "Longest increasing subarray length: 4\n"
     ]
    }
   ],
   "source": [
    "def longest_increasing_subarray(lst):\n",
    "    max_len = 1\n",
    "    curr_len = 1\n",
    "    for i in range(1, len(lst)):\n",
    "        if lst[i] > lst[i-1]:\n",
    "            curr_len += 1\n",
    "            max_len = max(max_len, curr_len)\n",
    "        else:\n",
    "            curr_len = 1\n",
    "    return max_len\n",
    "\n",
    "lst = [1, 2, 2, 4, 5, 6, 1, 2]\n",
    "print(\"Longest increasing subarray length:\", longest_increasing_subarray(lst))"
   ]
  },
  {
   "cell_type": "markdown",
   "id": "5eb675e7",
   "metadata": {},
   "source": [
    "18. Find common elements in two lists"
   ]
  },
  {
   "cell_type": "code",
   "execution_count": 11,
   "id": "c9538061",
   "metadata": {},
   "outputs": [
    {
     "name": "stdout",
     "output_type": "stream",
     "text": [
      "Common Elements: [3, 4]\n"
     ]
    }
   ],
   "source": [
    "a = [1, 2, 3, 4]\n",
    "b = [3, 4, 5, 6]\n",
    "common = list(set(a) & set(b))\n",
    "print(\"Common Elements:\", common)"
   ]
  }
 ],
 "metadata": {
  "kernelspec": {
   "display_name": "Python 3",
   "language": "python",
   "name": "python3"
  },
  "language_info": {
   "codemirror_mode": {
    "name": "ipython",
    "version": 3
   },
   "file_extension": ".py",
   "mimetype": "text/x-python",
   "name": "python",
   "nbconvert_exporter": "python",
   "pygments_lexer": "ipython3",
   "version": "3.12.0"
  }
 },
 "nbformat": 4,
 "nbformat_minor": 5
}
