{
 "cells": [
  {
   "cell_type": "code",
   "execution_count": null,
   "id": "b69ae87a",
   "metadata": {},
   "outputs": [
    {
     "name": "stdout",
     "output_type": "stream",
     "text": [
      "aswathi\n",
      "vivek\n",
      "priya\n",
      "sreejith\n"
     ]
    }
   ],
   "source": [
    "a=['aswathi','monal','vivek','sreeja','priya','sreejith']\n",
    "for name in a:\n",
    "    if 'i' in name: #character to character comparison\n",
    "        print(name)\n"
   ]
  },
  {
   "cell_type": "code",
   "execution_count": 9,
   "id": "0ee848b5",
   "metadata": {},
   "outputs": [
    {
     "name": "stdout",
     "output_type": "stream",
     "text": [
      "3\n"
     ]
    }
   ],
   "source": [
    "a=[1,2,3,4,5,6,7,8,9]\n",
    "\n",
    "for i in a:\n",
    "    if i==3:\n",
    "        print(i)"
   ]
  },
  {
   "cell_type": "code",
   "execution_count": 11,
   "id": "3d54eb5c",
   "metadata": {},
   "outputs": [
    {
     "data": {
      "text/plain": [
       "'aswathi'"
      ]
     },
     "execution_count": 11,
     "metadata": {},
     "output_type": "execute_result"
    }
   ],
   "source": [
    "s=\"Aswathi\"\n",
    "\n",
    "s.lower() #converts the string to lower case"
   ]
  },
  {
   "cell_type": "code",
   "execution_count": 12,
   "id": "cbb71590",
   "metadata": {},
   "outputs": [
    {
     "data": {
      "text/plain": [
       "'ASWATHI'"
      ]
     },
     "execution_count": 12,
     "metadata": {},
     "output_type": "execute_result"
    }
   ],
   "source": [
    "s.upper() #converts the string to upper case"
   ]
  },
  {
   "cell_type": "code",
   "execution_count": 13,
   "id": "cd8f6e80",
   "metadata": {},
   "outputs": [
    {
     "data": {
      "text/plain": [
       "'Aswathi'"
      ]
     },
     "execution_count": 13,
     "metadata": {},
     "output_type": "execute_result"
    }
   ],
   "source": [
    "s.capitalize() #capitalizes the first letter of the string"
   ]
  },
  {
   "cell_type": "code",
   "execution_count": 14,
   "id": "95426c0d",
   "metadata": {},
   "outputs": [
    {
     "data": {
      "text/plain": [
       "'Aswathi'"
      ]
     },
     "execution_count": 14,
     "metadata": {},
     "output_type": "execute_result"
    }
   ],
   "source": [
    "s.title() #capitalizes the first letter of each word in the string"
   ]
  },
  {
   "cell_type": "code",
   "execution_count": null,
   "id": "f15040da",
   "metadata": {},
   "outputs": [
    {
     "name": "stdout",
     "output_type": "stream",
     "text": [
      "Aswathi\n"
     ]
    }
   ],
   "source": [
    "# String are immutable so we have to re assign it to a new variable\n",
    "print(s)"
   ]
  },
  {
   "cell_type": "code",
   "execution_count": 1,
   "id": "77309120",
   "metadata": {},
   "outputs": [],
   "source": [
    "import os"
   ]
  },
  {
   "cell_type": "code",
   "execution_count": 3,
   "id": "dc8affb2",
   "metadata": {},
   "outputs": [
    {
     "data": {
      "text/plain": [
       "'d:\\\\Krish Naik Ultimate Data Science RoadMAp\\\\Python\\\\20-04-2025'"
      ]
     },
     "execution_count": 3,
     "metadata": {},
     "output_type": "execute_result"
    }
   ],
   "source": [
    "os.getcwd() #get current working directory"
   ]
  },
  {
   "cell_type": "code",
   "execution_count": 4,
   "id": "0814a5f6",
   "metadata": {},
   "outputs": [
    {
     "data": {
      "text/plain": [
       "['FileOperation.ipynb']"
      ]
     },
     "execution_count": 4,
     "metadata": {},
     "output_type": "execute_result"
    }
   ],
   "source": [
    "os.listdir() #list the files in the current directory"
   ]
  },
  {
   "cell_type": "code",
   "execution_count": 5,
   "id": "67e8b46a",
   "metadata": {},
   "outputs": [
    {
     "data": {
      "text/plain": [
       "['05-03-2025',\n",
       " '06-03-2025',\n",
       " '1-Python Basic',\n",
       " '12-04-2025',\n",
       " '13-04-2025',\n",
       " '19-04-2025',\n",
       " '20-04-2025',\n",
       " '29-03-2025',\n",
       " '30-03-2025',\n",
       " 'Assignment',\n",
       " 'Pattern Printing',\n",
       " 'Practice _Everyday']"
      ]
     },
     "execution_count": 5,
     "metadata": {},
     "output_type": "execute_result"
    }
   ],
   "source": [
    "os.listdir(\"d:\\\\Krish Naik Ultimate Data Science RoadMAp\\\\Python\") #list the files in the given directory "
   ]
  },
  {
   "cell_type": "code",
   "execution_count": 6,
   "id": "8b292a77",
   "metadata": {},
   "outputs": [
    {
     "name": "stdout",
     "output_type": "stream",
     "text": [
      "['FileOperation.ipynb', 'test.txt']\n"
     ]
    }
   ],
   "source": [
    "print(os.listdir()) #list the files in the current directory"
   ]
  },
  {
   "cell_type": "code",
   "execution_count": null,
   "id": "402cf9c9",
   "metadata": {},
   "outputs": [
    {
     "data": {
      "text/plain": [
       "'d:\\\\Krish Naik Ultimate Data Science RoadMAp\\\\Python\\\\20-04-2025\\\\test.txt'"
      ]
     },
     "execution_count": 7,
     "metadata": {},
     "output_type": "execute_result"
    }
   ],
   "source": [
    "os.path.join(os.getcwd(), 'test.txt') #join the current working directory with the file name"
   ]
  },
  {
   "cell_type": "code",
   "execution_count": 8,
   "id": "46200177",
   "metadata": {},
   "outputs": [
    {
     "data": {
      "text/plain": [
       "'d:\\\\Krish Naik Ultimate Data Science RoadMAp\\\\Python\\\\20-04-2025\\\\testing.txt'"
      ]
     },
     "execution_count": 8,
     "metadata": {},
     "output_type": "execute_result"
    }
   ],
   "source": [
    "#It will join even if the file is not present\n",
    "os.path.join(os.getcwd(), 'testing.txt') "
   ]
  },
  {
   "cell_type": "code",
   "execution_count": 9,
   "id": "c25a143d",
   "metadata": {},
   "outputs": [
    {
     "data": {
      "text/plain": [
       "'d:\\\\Krish Naik Ultimate Data Science RoadMAp\\\\Python\\\\20-04-2025\\\\testing.txt\\\\anc'"
      ]
     },
     "execution_count": 9,
     "metadata": {},
     "output_type": "execute_result"
    }
   ],
   "source": [
    "os.path.join(os.getcwd(), 'testing.txt',\"anc\") "
   ]
  },
  {
   "cell_type": "code",
   "execution_count": null,
   "id": "74d38194",
   "metadata": {},
   "outputs": [],
   "source": [
    "# the above code is working like below code \n",
    "\"hello \" + \"Aswathi\" #concatenation of strings\n"
   ]
  },
  {
   "cell_type": "code",
   "execution_count": null,
   "id": "f6c66e9d",
   "metadata": {},
   "outputs": [],
   "source": [
    "# Relative path\n",
    "# Python\\20-04-2025\\FileOperation.ipynb- Relative path \n",
    "\n",
    "\n",
    "# Absolute path \n",
    "#D:\\Krish Naik Ultimate Data Science RoadMAp\\Python\\20-04-2025\\FileOperation.ipynb"
   ]
  },
  {
   "cell_type": "markdown",
   "id": "856e383a",
   "metadata": {},
   "source": [
    "### Different ways to open a file"
   ]
  },
  {
   "cell_type": "code",
   "execution_count": null,
   "id": "831ad9e3",
   "metadata": {},
   "outputs": [],
   "source": [
    "\n",
    "file = open(\"test.txt\") #open the file in read mode"
   ]
  },
  {
   "cell_type": "code",
   "execution_count": null,
   "id": "1606fee7",
   "metadata": {},
   "outputs": [],
   "source": [
    "file = open(\"./test.txt\") # . means current directory\n"
   ]
  },
  {
   "cell_type": "code",
   "execution_count": 18,
   "id": "17d3a41d",
   "metadata": {},
   "outputs": [
    {
     "name": "stdout",
     "output_type": "stream",
     "text": [
      "d:\\Krish Naik Ultimate Data Science RoadMAp\\Python\\20-04-2025\\test.txt\n"
     ]
    }
   ],
   "source": [
    "full_path =os.path.join(os.getcwd(),\"test.txt\")\n",
    "print(full_path) #print the full path of the file\n",
    "file = open(full_path) #open the file in read mode"
   ]
  },
  {
   "cell_type": "code",
   "execution_count": null,
   "id": "5d0ce983",
   "metadata": {},
   "outputs": [],
   "source": [
    "content =file.read() #read all the content of the file"
   ]
  },
  {
   "cell_type": "code",
   "execution_count": 15,
   "id": "f2d451c2",
   "metadata": {},
   "outputs": [
    {
     "name": "stdout",
     "output_type": "stream",
     "text": [
      "====================================\n",
      "GAN Quiz - Questions and Answers\n",
      "====================================\n",
      "\n",
      "Q1 of 4: GAN stands for __________\n",
      "Answer: Generative Adversarial Network\n",
      "\n",
      "Q2 of 4: GAN can be segmented into ________ sections.\n",
      "Answer: 2 (Generator and Discriminator)\n",
      "\n",
      "Q3 of 4: What are the advantages of GAN models?\n",
      "Answer:\n",
      "- Semi-supervised learning, when limited data is available\n",
      "- Training via backpropagation\n",
      "- Can generate new, similar images from an input\n",
      "(Not an advantage: Sampling requires Markov chain)\n",
      "\n",
      "Q4 of 4: Which of the following is not an example of generative models?\n",
      "Answer: Linear Classifier (It is a discriminative model)\n",
      "\n",
      "------------------------------------\n",
      "\n",
      "Q1 of 3: Identify which of the given problems are generative in nature\n",
      "Answer:\n",
      "- Creating a new music note ✅\n",
      "- What is a sedan and what is an SUV? ✅ *(if interpreted generatively)*\n",
      "(Not generative: Identifying type of fruit, Recognizing handwritten digit)\n",
      "\n",
      "Q2 of 3: The Discriminator in GANs can be\n",
      "Answer: Either a Neural Network or a Classifier Network\n",
      "\n",
      "Q3 of 3: The generative network in GANs takes the following as input\n",
      "Answer: Random Noise data\n",
      "\n",
      "====================================\n",
      "\n"
     ]
    }
   ],
   "source": [
    "print(content) #print the content of the file"
   ]
  },
  {
   "cell_type": "code",
   "execution_count": 52,
   "id": "7910c8f5",
   "metadata": {},
   "outputs": [],
   "source": [
    "file.close() #close the file "
   ]
  },
  {
   "cell_type": "code",
   "execution_count": 26,
   "id": "bd763816",
   "metadata": {},
   "outputs": [
    {
     "name": "stdout",
     "output_type": "stream",
     "text": [
      "D:/AllFiles\\NewFile.txt\n"
     ]
    }
   ],
   "source": [
    "word_dir =\"D:/AllFiles\"\n",
    "file_name=\"NewFile.txt\"\n",
    "full_path = os.path.join(word_dir, file_name) #join the directory and file name\n",
    "print(full_path) #print the full path of the file"
   ]
  },
  {
   "cell_type": "markdown",
   "id": "1ff533e9",
   "metadata": {},
   "source": [
    "Clean File read"
   ]
  },
  {
   "cell_type": "code",
   "execution_count": 27,
   "id": "974a6289",
   "metadata": {},
   "outputs": [],
   "source": [
    "import os "
   ]
  },
  {
   "cell_type": "code",
   "execution_count": 28,
   "id": "51ee01a8",
   "metadata": {},
   "outputs": [
    {
     "name": "stdout",
     "output_type": "stream",
     "text": [
      "d:\\Krish Naik Ultimate Data Science RoadMAp\\Python\\20-04-2025\\test.txt\n"
     ]
    }
   ],
   "source": [
    "file_name = \"test.txt\" #file name\n",
    "cwd = os.getcwd() #get the current working directory\n",
    "full_file_path = os.path.join(cwd, file_name) #join the current working directory with the file name\n",
    "print(full_file_path) #print the full path of the file  "
   ]
  },
  {
   "cell_type": "code",
   "execution_count": 54,
   "id": "c550008a",
   "metadata": {},
   "outputs": [
    {
     "name": "stdout",
     "output_type": "stream",
     "text": [
      "====================================\n",
      "GAN Quiz - Questions and Answers\n",
      "====================================\n",
      "\n",
      "Q1 of 4: GAN stands for __________\n",
      "Answer: Generative Adversarial Network\n",
      "\n",
      "Q2 of 4: GAN can be segmented into ________ sections.\n",
      "Answer: 2 (Generator and Discriminator)\n",
      "\n",
      "Q3 of 4: What are the advantages of GAN models?\n",
      "Answer:\n",
      "- Semi-supervised learning, when limited data is available\n",
      "- Training via backpropagation\n",
      "- Can generate new, similar images from an input\n",
      "(Not an advantage: Sampling requires Markov chain)\n",
      "\n",
      "Q4 of 4: Which of the following is not an example of generative models?\n",
      "Answer: Linear Classifier (It is a discriminative model)\n",
      "\n",
      "------------------------------------\n",
      "\n",
      "Q1 of 3: Identify which of the given problems are generative in nature\n",
      "Answer:\n",
      "- Creating a new music note ✅\n",
      "- What is a sedan and what is an SUV? ✅ *(if interpreted generatively)*\n",
      "(Not generative: Identifying type of fruit, Recognizing handwritten digit)\n",
      "\n",
      "Q2 of 3: The Discriminator in GANs can be\n",
      "Answer: Either a Neural Network or a Classifier Network\n",
      "\n",
      "Q3 of 3: The generative network in GANs takes the following as input\n",
      "Answer: Random Noise data\n",
      "\n",
      "====================================\n",
      "\n"
     ]
    }
   ],
   "source": [
    "file1  = open(full_file_path) #open the file in read mode\n",
    "all_contents = file1.read() #read all content of the file\n",
    "print(all_contents) #print the content of the file"
   ]
  },
  {
   "cell_type": "code",
   "execution_count": null,
   "id": "8de8d7b2",
   "metadata": {},
   "outputs": [
    {
     "name": "stdout",
     "output_type": "stream",
     "text": [
      "['====================================', 'GAN Quiz - Questions and Answers', '====================================', '', 'Q1 of 4: GAN stands for __________', 'Answer: Generative Adversarial Network', '', 'Q2 of 4: GAN can be segmented into ________ sections.', 'Answer: 2 (Generator and Discriminator)', '', 'Q3 of 4: What are the advantages of GAN models?', 'Answer:', '- Semi-supervised learning, when limited data is available', '- Training via backpropagation', '- Can generate new, similar images from an input', '(Not an advantage: Sampling requires Markov chain)', '', 'Q4 of 4: Which of the following is not an example of generative models?', 'Answer: Linear Classifier (It is a discriminative model)', '', '------------------------------------', '', 'Q1 of 3: Identify which of the given problems are generative in nature', 'Answer:', '- Creating a new music note ✅', '- What is a sedan and what is an SUV? ✅ *(if interpreted generatively)*', '(Not generative: Identifying type of fruit, Recognizing handwritten digit)', '', 'Q2 of 3: The Discriminator in GANs can be', 'Answer: Either a Neural Network or a Classifier Network', '', 'Q3 of 3: The generative network in GANs takes the following as input', 'Answer: Random Noise data', '', '====================================', '']\n"
     ]
    }
   ],
   "source": [
    "all_contents_split = all_contents.split(\"\\n\") #split the content of the file into lines\n",
    "print(all_contents_split) #print the content of the file in list format"
   ]
  },
  {
   "cell_type": "code",
   "execution_count": null,
   "id": "c6a83c7c",
   "metadata": {},
   "outputs": [
    {
     "name": "stdout",
     "output_type": "stream",
     "text": [
      "['====================================', 'GAN Quiz - Questions and Answers', '====================================', '', 'Q1 of 4: GAN stands for __________', 'Answer: Generative Adversarial Network', '', 'Q2 of 4: GAN can be segmented into ________ sections.', 'Answer: 2 (Generator and Discriminator)', '', 'Q3 of 4: What are the advantages of GAN models?', 'Answer:', '- Semi-supervised learning, when limited data is available', '- Training via backpropagation', '- Can generate new, similar images from an input', '(Not an advantage: Sampling requires Markov chain)', '', 'Q4 of 4: Which of the following is not an example of generative models?', 'Answer: Linear Classifier (It is a discriminative model)', '', '------------------------------------', '', 'Q1 of 3: Identify which of the given problems are generative in nature', 'Answer:', '- Creating a new music note ✅', '- What is a sedan and what is an SUV? ✅ *(if interpreted generatively)*', '(Not generative: Identifying type of fruit, Recognizing handwritten digit)', '', 'Q2 of 3: The Discriminator in GANs can be', 'Answer: Either a Neural Network or a Classifier Network', '', 'Q3 of 3: The generative network in GANs takes the following as input', 'Answer: Random Noise data', '', '====================================']\n"
     ]
    }
   ],
   "source": [
    "all_contents_split_lines = all_contents.splitlines() #split the content of the file into lines\n",
    "print(all_contents_split_lines) #print the content of the file in list format"
   ]
  },
  {
   "cell_type": "code",
   "execution_count": 51,
   "id": "7f840a1c",
   "metadata": {},
   "outputs": [],
   "source": [
    "file1.close() #close the file"
   ]
  },
  {
   "cell_type": "code",
   "execution_count": 53,
   "id": "c6f5b7e8",
   "metadata": {},
   "outputs": [
    {
     "name": "stdout",
     "output_type": "stream",
     "text": [
      "['====================================\\n', 'GAN Quiz - Questions and Answers\\n', '====================================\\n', '\\n', 'Q1 of 4: GAN stands for __________\\n', 'Answer: Generative Adversarial Network\\n', '\\n', 'Q2 of 4: GAN can be segmented into ________ sections.\\n', 'Answer: 2 (Generator and Discriminator)\\n', '\\n', 'Q3 of 4: What are the advantages of GAN models?\\n', 'Answer:\\n', '- Semi-supervised learning, when limited data is available\\n', '- Training via backpropagation\\n', '- Can generate new, similar images from an input\\n', '(Not an advantage: Sampling requires Markov chain)\\n', '\\n', 'Q4 of 4: Which of the following is not an example of generative models?\\n', 'Answer: Linear Classifier (It is a discriminative model)\\n', '\\n', '------------------------------------\\n', '\\n', 'Q1 of 3: Identify which of the given problems are generative in nature\\n', 'Answer:\\n', '- Creating a new music note ✅\\n', '- What is a sedan and what is an SUV? ✅ *(if interpreted generatively)*\\n', '(Not generative: Identifying type of fruit, Recognizing handwritten digit)\\n', '\\n', 'Q2 of 3: The Discriminator in GANs can be\\n', 'Answer: Either a Neural Network or a Classifier Network\\n', '\\n', 'Q3 of 3: The generative network in GANs takes the following as input\\n', 'Answer: Random Noise data\\n', '\\n', '====================================\\n']\n"
     ]
    }
   ],
   "source": [
    "f = open(full_file_path)  #open the file in read mode\n",
    "lines = f.readlines() #read all the lines of the file\n",
    "print(lines)\n",
    "f.close() #close the file"
   ]
  },
  {
   "cell_type": "code",
   "execution_count": 55,
   "id": "1b03867b",
   "metadata": {},
   "outputs": [],
   "source": [
    "# Difference between readline() and readlines()\n",
    "\n",
    "# readline() reads one line at a time\n",
    "# readlines() reads all the lines at once and returns a list of lines\n",
    "# readlines() is faster than readline() because it reads all the lines at once\n",
    "# readline() is slower than readlines() because it reads one line at a time\n",
    "# readlines() is used when we want to read all the lines at once\n",
    "# readline() is used when we want to read one line at a time\n"
   ]
  },
  {
   "cell_type": "code",
   "execution_count": 57,
   "id": "7c894a6b",
   "metadata": {},
   "outputs": [
    {
     "name": "stdout",
     "output_type": "stream",
     "text": [
      "['====================================\\n', 'GAN Quiz - Questions and Answers\\n', '====================================\\n', '\\n', 'Q1 of 4: GAN stands for __________\\n', 'Answer: Generative Adversarial Network\\n', '\\n', 'Q2 of 4: GAN can be segmented into ________ sections.\\n', 'Answer: 2 (Generator and Discriminator)\\n', '\\n', 'Q3 of 4: What are the advantages of GAN models?\\n', 'Answer:\\n', '- Semi-supervised learning, when limited data is available\\n', '- Training via backpropagation\\n', '- Can generate new, similar images from an input\\n', '(Not an advantage: Sampling requires Markov chain)\\n', '\\n', 'Q4 of 4: Which of the following is not an example of generative models?\\n', 'Answer: Linear Classifier (It is a discriminative model)\\n', '\\n', '------------------------------------\\n', '\\n', 'Q1 of 3: Identify which of the given problems are generative in nature\\n', 'Answer:\\n', '- Creating a new music note ✅\\n', '- What is a sedan and what is an SUV? ✅ *(if interpreted generatively)*\\n', '(Not generative: Identifying type of fruit, Recognizing handwritten digit)\\n', '\\n', 'Q2 of 3: The Discriminator in GANs can be\\n', 'Answer: Either a Neural Network or a Classifier Network\\n', '\\n', 'Q3 of 3: The generative network in GANs takes the following as input\\n', 'Answer: Random Noise data\\n', '\\n', '====================================\\n']\n"
     ]
    }
   ],
   "source": [
    "## with is called as context manager\n",
    "\n",
    "with open(full_file_path) as f: #open the file in read mode\n",
    "    lines = f.readlines() #read all the lines of the file \n",
    "    print(lines) #print the lines of the line \n",
    "\n",
    "#if we are using with statement we dont have to close the file explicitly"
   ]
  },
  {
   "cell_type": "markdown",
   "id": "1beb457a",
   "metadata": {},
   "source": [
    "### Different types of file mode operations"
   ]
  },
  {
   "cell_type": "code",
   "execution_count": null,
   "id": "5213b89b",
   "metadata": {},
   "outputs": [],
   "source": [
    "# r - read mode\n",
    "# r+ - read and write mode\n",
    "# w - write mode\n",
    "# w+ - write and read mode\n",
    "# a - append mode\n",
    "# a+ - append and read mode\n",
    "# x - exclusive creation mode \n",
    "# x+ - exclusive creation and read mode\n",
    "# t - text mode\n",
    "# b - binary mode"
   ]
  },
  {
   "cell_type": "code",
   "execution_count": 58,
   "id": "4736b048",
   "metadata": {},
   "outputs": [
    {
     "name": "stdout",
     "output_type": "stream",
     "text": [
      "['====================================\\n', 'GAN Quiz - Questions and Answers\\n', '====================================\\n', '\\n', 'Q1 of 4: GAN stands for __________\\n', 'Answer: Generative Adversarial Network\\n', '\\n', 'Q2 of 4: GAN can be segmented into ________ sections.\\n', 'Answer: 2 (Generator and Discriminator)\\n', '\\n', 'Q3 of 4: What are the advantages of GAN models?\\n', 'Answer:\\n', '- Semi-supervised learning, when limited data is available\\n', '- Training via backpropagation\\n', '- Can generate new, similar images from an input\\n', '(Not an advantage: Sampling requires Markov chain)\\n', '\\n', 'Q4 of 4: Which of the following is not an example of generative models?\\n', 'Answer: Linear Classifier (It is a discriminative model)\\n', '\\n', '------------------------------------\\n', '\\n', 'Q1 of 3: Identify which of the given problems are generative in nature\\n', 'Answer:\\n', '- Creating a new music note ✅\\n', '- What is a sedan and what is an SUV? ✅ *(if interpreted generatively)*\\n', '(Not generative: Identifying type of fruit, Recognizing handwritten digit)\\n', '\\n', 'Q2 of 3: The Discriminator in GANs can be\\n', 'Answer: Either a Neural Network or a Classifier Network\\n', '\\n', 'Q3 of 3: The generative network in GANs takes the following as input\\n', 'Answer: Random Noise data\\n', '\\n', '====================================\\n']\n"
     ]
    }
   ],
   "source": [
    "with open(full_file_path,\"r\") as f: #open the file in read mode\n",
    "    lines = f.readlines() #read all the lines of the file\n",
    "    print(lines) #print the lines of the line \n",
    "    "
   ]
  },
  {
   "cell_type": "code",
   "execution_count": 64,
   "id": "da1b188c",
   "metadata": {},
   "outputs": [],
   "source": [
    "with open(\"./a.txt\", \"w\") as f: #open the file in write mode\n",
    "    lines = f.write(\"Hello, how are you?\\n\") #write the content to the file \n",
    "    "
   ]
  },
  {
   "cell_type": "code",
   "execution_count": 65,
   "id": "6b89e07c",
   "metadata": {},
   "outputs": [],
   "source": [
    "a= [\"Hello, how are you?\\n\", \"I am fine, thank you.\\n\", \"how are you?\\n\"]\n",
    "\n",
    "with open(\"./a.txt\", \"w\") as f: #open the file in write mode \n",
    "    for line in a: #iterate through the list\n",
    "        f.write(line) #write the content to the file "
   ]
  },
  {
   "cell_type": "code",
   "execution_count": 67,
   "id": "f451fbad",
   "metadata": {},
   "outputs": [],
   "source": [
    "with open(\"./a.txt\",\"a\") as f:\n",
    "    f.write(\"new statements added \\n\") #append the content to the file \n"
   ]
  },
  {
   "cell_type": "code",
   "execution_count": 74,
   "id": "cb77f0ba",
   "metadata": {},
   "outputs": [],
   "source": [
    "# code example\n",
    "\n",
    "id=1"
   ]
  },
  {
   "cell_type": "code",
   "execution_count": 96,
   "id": "9f13e6a3",
   "metadata": {},
   "outputs": [],
   "source": [
    "name = input(\" Enter the name of the student: \")\n",
    "age = input(\"enter age of the student: \") \n",
    "\n",
    "with open(\"codeExample.txt\",\"a+\") as f:\n",
    "    a= str(id) + \",\" + name + \",\" + age + \",\" + \"\\n\"\n",
    "    f.write(a)\n",
    "id+=1"
   ]
  },
  {
   "cell_type": "code",
   "execution_count": 97,
   "id": "fb509451",
   "metadata": {},
   "outputs": [],
   "source": [
    "data_of_student ={}"
   ]
  },
  {
   "cell_type": "code",
   "execution_count": 98,
   "id": "74330a95",
   "metadata": {},
   "outputs": [],
   "source": [
    "def populate_data(data):\n",
    "    data=data.split(\",\")\n",
    "    data_of_student[str(data[0])]={}\n",
    "    data_of_student[str(data[0])][str(\"name\")]=data[1]\n",
    "    data_of_student[str(data[0])][str(\"age\")]=data[2]\n",
    "    \n"
   ]
  },
  {
   "cell_type": "code",
   "execution_count": 99,
   "id": "1628e524",
   "metadata": {},
   "outputs": [
    {
     "name": "stdout",
     "output_type": "stream",
     "text": [
      "['1,Aswathi ,22\\n', '2,Arjun ,27\\n', '3,Sakshi,21\\n', '4,Khushi,21\\n', '5,aswathi ,22,\\n']\n"
     ]
    }
   ],
   "source": [
    "with open(\"codeExample.txt\",\"r+\") as f:\n",
    "    content = f.readlines()\n",
    "    print(content)\n",
    "    for c in content:\n",
    "        populate_data(c)"
   ]
  },
  {
   "cell_type": "code",
   "execution_count": 100,
   "id": "4d379b12",
   "metadata": {},
   "outputs": [
    {
     "data": {
      "text/plain": [
       "{'1': {'name': 'Aswathi ', 'age': '22\\n'},\n",
       " '2': {'name': 'Arjun ', 'age': '27\\n'},\n",
       " '3': {'name': 'Sakshi', 'age': '21\\n'},\n",
       " '4': {'name': 'Khushi', 'age': '21\\n'},\n",
       " '5': {'name': 'aswathi ', 'age': '22'}}"
      ]
     },
     "execution_count": 100,
     "metadata": {},
     "output_type": "execute_result"
    }
   ],
   "source": [
    "data_of_student"
   ]
  },
  {
   "cell_type": "code",
   "execution_count": null,
   "id": "e57a4bb1",
   "metadata": {},
   "outputs": [],
   "source": []
  },
  {
   "cell_type": "code",
   "execution_count": null,
   "id": "da84196f",
   "metadata": {},
   "outputs": [],
   "source": []
  },
  {
   "cell_type": "code",
   "execution_count": null,
   "id": "5622233b",
   "metadata": {},
   "outputs": [],
   "source": []
  },
  {
   "cell_type": "code",
   "execution_count": null,
   "id": "ad1bf865",
   "metadata": {},
   "outputs": [],
   "source": []
  }
 ],
 "metadata": {
  "kernelspec": {
   "display_name": "Python 3",
   "language": "python",
   "name": "python3"
  },
  "language_info": {
   "codemirror_mode": {
    "name": "ipython",
    "version": 3
   },
   "file_extension": ".py",
   "mimetype": "text/x-python",
   "name": "python",
   "nbconvert_exporter": "python",
   "pygments_lexer": "ipython3",
   "version": "3.12.0"
  }
 },
 "nbformat": 4,
 "nbformat_minor": 5
}
