{
 "cells": [
  {
   "cell_type": "code",
   "execution_count": 8,
   "id": "689be05f",
   "metadata": {},
   "outputs": [],
   "source": [
    "#Functions to create a new user and add them to the sudo group"
   ]
  },
  {
   "cell_type": "code",
   "execution_count": 9,
   "id": "645af5e2",
   "metadata": {},
   "outputs": [
    {
     "name": "stdout",
     "output_type": "stream",
     "text": [
      "Add:\n",
      "15\n",
      "Sub:\n",
      "5\n"
     ]
    }
   ],
   "source": [
    "def add():\n",
    "    a=int(input(\"Enter first number: \"))\n",
    "    b=int(input(\"Enter second number: \"))\n",
    "    print(a + b)\n",
    "\n",
    "def sub():\n",
    "    a=int(input(\"Enter first number: \"))\n",
    "    b=int(input(\"Enter second number: \"))\n",
    "    print(a - b)\n",
    "\n",
    "def mul():\n",
    "    a=int(input(\"Enter first number: \"))\n",
    "    b=int(input(\"Enter second number: \"))\n",
    "    print(a * b)\n",
    "\n",
    "def div(): \n",
    "    a=int(input(\"Enter first number: \"))\n",
    "    b=int(input(\"Enter second number: \"))\n",
    "    print(a / b)\n",
    "\n",
    "def mod():\n",
    "    a=int(input(\"Enter first number: \"))\n",
    "    b=int(input(\"Enter second number: \"))\n",
    "    print(a % b)\n",
    "\n",
    "\n",
    "print(\"Add:\")\n",
    "add()\n",
    "print(\"Sub:\")\n",
    "sub()"
   ]
  },
  {
   "cell_type": "code",
   "execution_count": 10,
   "id": "95e009f4",
   "metadata": {},
   "outputs": [
    {
     "data": {
      "text/plain": [
       "7"
      ]
     },
     "execution_count": 10,
     "metadata": {},
     "output_type": "execute_result"
    }
   ],
   "source": [
    "def add(a,b):\n",
    "    return a + b\n",
    "\n",
    "add(3,4)"
   ]
  },
  {
   "cell_type": "code",
   "execution_count": 11,
   "id": "990880f8",
   "metadata": {},
   "outputs": [],
   "source": [
    "def add(a=0,b=0):\n",
    "    print(a)\n",
    "    print(b)\n",
    "    print(a + b)"
   ]
  },
  {
   "cell_type": "code",
   "execution_count": 12,
   "id": "4a351557",
   "metadata": {},
   "outputs": [
    {
     "name": "stdout",
     "output_type": "stream",
     "text": [
      "0\n",
      "0\n",
      "0\n"
     ]
    }
   ],
   "source": [
    "add()"
   ]
  },
  {
   "cell_type": "code",
   "execution_count": 13,
   "id": "1e93c76c",
   "metadata": {},
   "outputs": [
    {
     "name": "stdout",
     "output_type": "stream",
     "text": [
      "5\n",
      "6\n",
      "11\n"
     ]
    }
   ],
   "source": [
    "add(5,6)"
   ]
  },
  {
   "cell_type": "code",
   "execution_count": 14,
   "id": "25f4ec2e",
   "metadata": {},
   "outputs": [
    {
     "name": "stdout",
     "output_type": "stream",
     "text": [
      "4\n",
      "5\n",
      "9\n"
     ]
    }
   ],
   "source": [
    "add(a=4,b=5)"
   ]
  },
  {
   "cell_type": "code",
   "execution_count": 15,
   "id": "2a73a40f",
   "metadata": {},
   "outputs": [
    {
     "name": "stdout",
     "output_type": "stream",
     "text": [
      "0\n",
      "5\n",
      "5\n"
     ]
    }
   ],
   "source": [
    "add(b=5)"
   ]
  },
  {
   "cell_type": "code",
   "execution_count": 16,
   "id": "f55398db",
   "metadata": {},
   "outputs": [],
   "source": [
    "def add_multiple_values(*args):\n",
    "    print(type(args))\n",
    "    sum=0\n",
    "    for val in args:\n",
    "        sum+=val\n",
    "    return sum"
   ]
  },
  {
   "cell_type": "code",
   "execution_count": 17,
   "id": "7a4d5a20",
   "metadata": {},
   "outputs": [
    {
     "name": "stdout",
     "output_type": "stream",
     "text": [
      "<class 'tuple'>\n"
     ]
    },
    {
     "data": {
      "text/plain": [
       "95"
      ]
     },
     "execution_count": 17,
     "metadata": {},
     "output_type": "execute_result"
    }
   ],
   "source": [
    "add_multiple_values(1,3,46,3,2,1,4,5,6,7,8,9)"
   ]
  },
  {
   "cell_type": "code",
   "execution_count": 18,
   "id": "ea1ed858",
   "metadata": {},
   "outputs": [],
   "source": [
    "def get_names(name_1=\"Aswathi\",*args):\n",
    "    for n in args:\n",
    "        print(n)"
   ]
  },
  {
   "cell_type": "code",
   "execution_count": 19,
   "id": "3e9658b6",
   "metadata": {},
   "outputs": [
    {
     "name": "stdout",
     "output_type": "stream",
     "text": [
      "Anu\n",
      "Akhil\n",
      "Adrash\n",
      "Arjun\n"
     ]
    }
   ],
   "source": [
    "get_names(\"Aswathi\",\"Anu\",\"Akhil\",\"Adrash\",\"Arjun\")"
   ]
  },
  {
   "cell_type": "code",
   "execution_count": 20,
   "id": "611f40d1",
   "metadata": {},
   "outputs": [
    {
     "name": "stdout",
     "output_type": "stream",
     "text": [
      "Anu\n",
      "Akhil\n",
      "Adrash\n",
      "Arjun\n",
      "Aswathi\n"
     ]
    }
   ],
   "source": [
    "def get_names( name_1 = \"Veena\" , *args):\n",
    "    for i in args:\n",
    "        print(i)\n",
    "    print(name_1)\n",
    "get_names(\"Aswathi\",\"Anu\",\"Akhil\",\"Adrash\",\"Arjun\")"
   ]
  },
  {
   "cell_type": "code",
   "execution_count": 21,
   "id": "32f86679",
   "metadata": {},
   "outputs": [],
   "source": [
    "def greet_names(greeting, *args):\n",
    "    for name in args:\n",
    "        print(greeting, name)\n",
    "    print(\"Length of args:\",len(args))\n",
    "    print(\"args in the 0 index:\",args[0])\n",
    "    print(\"args in the 1 index:\",args[1])\n",
    "    print(\"args in the 2 index:\",args[2])\n",
    "    print(\"args in the 3 index:\",args[3])"
   ]
  },
  {
   "cell_type": "code",
   "execution_count": 22,
   "id": "51708d7b",
   "metadata": {},
   "outputs": [
    {
     "name": "stdout",
     "output_type": "stream",
     "text": [
      "Hello! Anu\n",
      "Hello! Akhil\n",
      "Hello! Adrash\n",
      "Hello! Arjun\n",
      "Length of args: 4\n",
      "args in the 0 index: Anu\n",
      "args in the 1 index: Akhil\n",
      "args in the 2 index: Adrash\n",
      "args in the 3 index: Arjun\n"
     ]
    }
   ],
   "source": [
    "greet_names(\"Hello!\",\"Anu\",\"Akhil\",\"Adrash\",\"Arjun\")"
   ]
  },
  {
   "cell_type": "code",
   "execution_count": 23,
   "id": "2e90be89",
   "metadata": {},
   "outputs": [
    {
     "name": "stdout",
     "output_type": "stream",
     "text": [
      "<class 'dict'>\n",
      "{'a': 2, 'b': 3, 'c': 4, 'd': 5, 'e': 6, 'f': 7}\n",
      "27\n",
      "12\n"
     ]
    }
   ],
   "source": [
    "def add(**kwargs):\n",
    "    print(type(kwargs))\n",
    "    print(kwargs)\n",
    "    print(kwargs['a'] + kwargs['b'] + kwargs['c'] + kwargs['d'] + kwargs['e'] + kwargs['f'])\n",
    "    print(kwargs.get('a')+ kwargs.get('c') + kwargs.get('e')) \n",
    "\n",
    "add(a=2,b=3,c=4,d=5,e=6,f=7)"
   ]
  },
  {
   "cell_type": "code",
   "execution_count": 24,
   "id": "a1e17852",
   "metadata": {},
   "outputs": [
    {
     "name": "stdout",
     "output_type": "stream",
     "text": [
      "<class 'tuple'>\n",
      "(1, 2, 3, 4)\n",
      "<class 'dict'>\n",
      "{'a': 2, 'b': 3, 'c': 4}\n"
     ]
    },
    {
     "data": {
      "text/plain": [
       "19"
      ]
     },
     "execution_count": 24,
     "metadata": {},
     "output_type": "execute_result"
    }
   ],
   "source": [
    "def addition(*args, **kwargs):\n",
    "    print(type(args))\n",
    "    print(args)\n",
    "    print(type(kwargs))\n",
    "    print(kwargs)\n",
    "    sum=0\n",
    "    for val in args:\n",
    "        sum+=val\n",
    "    return sum + kwargs['a'] + kwargs['b'] + kwargs['c'] \n",
    "\n",
    "addition(1,2,3,4,a=2,b=3,c=4)"
   ]
  },
  {
   "cell_type": "code",
   "execution_count": 25,
   "id": "0e970ff0",
   "metadata": {},
   "outputs": [
    {
     "name": "stdout",
     "output_type": "stream",
     "text": [
      "2\n",
      "3\n",
      "5\n",
      "0\n",
      "0\n",
      "0\n"
     ]
    }
   ],
   "source": [
    "a=0\n",
    "b=0\n",
    "def add(a=1,b=1):\n",
    "    print(a)\n",
    "    print(b)\n",
    "    print(a+b)\n",
    "\n",
    "add(a=2,b=3)\n",
    "print(a)\n",
    "print(b)\n",
    "print(a + b)"
   ]
  },
  {
   "cell_type": "code",
   "execution_count": 26,
   "id": "ed35e192",
   "metadata": {},
   "outputs": [],
   "source": [
    "\n",
    "id = 1\n",
    "patient_info={}"
   ]
  },
  {
   "cell_type": "code",
   "execution_count": 27,
   "id": "d3753b51",
   "metadata": {},
   "outputs": [],
   "source": [
    "def calculate_BMI(weight_kg,height_cm):\n",
    "    BMI= weight_kg /((height_cm/100)**2)\n",
    "    # if BMI < 18.5:\n",
    "    #     print(\"Underweight\")\n",
    "    # elif 18.5 <= BMI < 24.9:\n",
    "    #     print(\"Normal weight\")\n",
    "    # elif 25 <= BMI < 29.9:\n",
    "    #     print(\"Overweight\")\n",
    "    # else:\n",
    "    #     print(\"Obesity\")\n",
    "    return BMI"
   ]
  },
  {
   "cell_type": "code",
   "execution_count": 28,
   "id": "1bc07f8d",
   "metadata": {},
   "outputs": [],
   "source": [
    "#problem staement solution \n",
    "\n",
    "def patient_addmission(f_name,l_name,date_ddmmyy,weight_kg,height_cm,country_lower_case):\n",
    "    global id \n",
    "    global patient_info\n",
    "    #check if the patient is already in the system\n",
    "    patient_info[id]={}\n",
    "    patient_info[id]['f_name']=f_name\n",
    "    patient_info[id]['l_name']=l_name\n",
    "    patient_info[id]['date_ddmmyy']=date_ddmmyy\n",
    "    patient_info[id]['weight_kg']=weight_kg\n",
    "    patient_info[id]['height_cm']=height_cm\n",
    "    patient_info[id]['country']=country_lower_case\n",
    "    patient_info[id][\"temp_ind\"]=None\n",
    "    patient_info[id][\"temp_others\"] = None\n",
    "    patient_info[id][\"BMI\"] = calculate_BMI(weight_kg,height_cm)\n",
    "    #check if the patient is already in the system\n",
    "    #check if the country is india or not\n",
    "    if country_lower_case == \"india\":\n",
    "        patient_info[id][\"temp_ind\"]=float(input(\"Enter patient temperature in celsius : \"))\n",
    "    else:\n",
    "        patient_info[id][\"temp_others\"]=float(input(\"Enter patient temperature in fahrenheit : \"))\n",
    "    #incremetn the id \n",
    "    id+=1"
   ]
  },
  {
   "cell_type": "code",
   "execution_count": 29,
   "id": "439c4078",
   "metadata": {},
   "outputs": [],
   "source": [
    "def get_patient_details_for_opd(patient_id):\n",
    "    temp=None\n",
    "\n",
    "    if patient_info[patient_id]['temp_ind'] is not None:\n",
    "        temp=patient_info[patient_id]['temp_ind']\n",
    "    else:\n",
    "        temp=patient_info[patient_id]['temp_others']\n",
    "    print(\"Patient_Full_Name:\",patient_info[patient_id]['f_name'] + \" \" + patient_info[patient_id]['l_name'],\"Patient temperature is : \",temp,\"Patient  BMI is:\",patient_info[patient_id]['BMI'])"
   ]
  },
  {
   "cell_type": "code",
   "execution_count": 30,
   "id": "0dc53d53",
   "metadata": {},
   "outputs": [],
   "source": [
    "f_name = input(\"Enter patient first name : \")\n",
    "l_name = input(\"Enter patient last name : \")\n",
    "date_ddmmyy = input(\"Enter patient date of birth in dd/mm/yyyy format : \") \n",
    "weight_kg = float(input(\"Enter patient weight in kg : \"))\n",
    "height_cm = float(input(\"Enter patient height in cm : \"))\n",
    "country_lower_case = input(\"Enter patient country name : \")\n",
    "country_lower_case = country_lower_case.lower()\n",
    "\n",
    "patient_addmission(f_name,l_name,date_ddmmyy,weight_kg,height_cm,country_lower_case)"
   ]
  },
  {
   "cell_type": "code",
   "execution_count": 31,
   "id": "a80070d0",
   "metadata": {},
   "outputs": [
    {
     "name": "stdout",
     "output_type": "stream",
     "text": [
      "Patient_Full_Name: washi verma Patient temperature is :  23.23 Patient  BMI is: 19.220984792809087\n"
     ]
    }
   ],
   "source": [
    "get_patient_details_for_opd(1)"
   ]
  },
  {
   "cell_type": "code",
   "execution_count": null,
   "id": "2b9e0e2c",
   "metadata": {},
   "outputs": [],
   "source": []
  },
  {
   "cell_type": "code",
   "execution_count": null,
   "id": "1587cdee",
   "metadata": {},
   "outputs": [],
   "source": []
  },
  {
   "cell_type": "code",
   "execution_count": null,
   "id": "52aded93",
   "metadata": {},
   "outputs": [],
   "source": []
  },
  {
   "cell_type": "code",
   "execution_count": null,
   "id": "050721a8",
   "metadata": {},
   "outputs": [],
   "source": []
  }
 ],
 "metadata": {
  "kernelspec": {
   "display_name": "Python 3",
   "language": "python",
   "name": "python3"
  },
  "language_info": {
   "codemirror_mode": {
    "name": "ipython",
    "version": 3
   },
   "file_extension": ".py",
   "mimetype": "text/x-python",
   "name": "python",
   "nbconvert_exporter": "python",
   "pygments_lexer": "ipython3",
   "version": "3.12.0"
  }
 },
 "nbformat": 4,
 "nbformat_minor": 5
}
