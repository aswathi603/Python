{
 "cells": [
  {
   "cell_type": "code",
   "execution_count": null,
   "id": "6f9a8831",
   "metadata": {},
   "outputs": [],
   "source": [
    "#While Loops\n",
    "\n",
    "\"\"\"\n",
    "while condition :\n",
    "    #do something \n",
    "    # increment or decrement \n",
    "    # update the condition\"\"\""
   ]
  },
  {
   "cell_type": "code",
   "execution_count": 2,
   "id": "7ca20cd0",
   "metadata": {},
   "outputs": [
    {
     "name": "stdout",
     "output_type": "stream",
     "text": [
      "0\n",
      "1\n",
      "2\n",
      "3\n",
      "4\n",
      "5\n",
      "6\n",
      "7\n"
     ]
    }
   ],
   "source": [
    "#Print everything till 8, given values 0-100\n",
    "\n",
    "for i in range(0,101):\n",
    "    if i==8:\n",
    "        break\n",
    "    print(i)"
   ]
  },
  {
   "cell_type": "code",
   "execution_count": null,
   "id": "4c867b7f",
   "metadata": {},
   "outputs": [
    {
     "name": "stdout",
     "output_type": "stream",
     "text": [
      "0\n",
      "1\n",
      "2\n",
      "3\n",
      "4\n",
      "5\n",
      "6\n",
      "7\n",
      "8\n"
     ]
    }
   ],
   "source": [
    "i=0\n",
    "while(i<=8):\n",
    "    print(i)\n",
    "    # increment\n",
    "    i+=1\n",
    "\n",
    "\n",
    "# i=0\n",
    "# while(i<=8):\n",
    "#     print(i)\n",
    "#it will run infinitely"
   ]
  },
  {
   "cell_type": "code",
   "execution_count": 1,
   "id": "c1d16a16",
   "metadata": {},
   "outputs": [
    {
     "name": "stdout",
     "output_type": "stream",
     "text": [
      "Hello Arjun\n",
      "Hello Arjun\n"
     ]
    }
   ],
   "source": [
    "while True:\n",
    "    name=input(\"Please enter your name: \")\n",
    "    if name==\"Ash\":\n",
    "        break\n",
    "    print(\"Hello\",name)"
   ]
  },
  {
   "cell_type": "code",
   "execution_count": null,
   "id": "f55d3388",
   "metadata": {},
   "outputs": [],
   "source": [
    "import cv2\n",
    "cap =cv2.VideoCapture(0)\n",
    "while True:\n",
    "    ret, frame = cap.read()\n",
    "    if not ret:\n",
    "        break\n",
    "    # Convert the frame to grayscale\n",
    "    gray = cv2.cvtColor(frame, cv2.COLOR_BGR2GRAY)\n",
    "    cv2.imshow(\"frame\", frame)\n",
    "    if cv2.waitKey(1) & 0xFF == ord('q'):\n",
    "        break"
   ]
  },
  {
   "cell_type": "code",
   "execution_count": null,
   "id": "6477ac17",
   "metadata": {},
   "outputs": [],
   "source": [
    "# In list we always use for loop\n",
    "# In dictionary we always use for loop\n",
    "# In set we always use for loop\n",
    "# In tuple we always use for loop\n",
    "# In string we always use for loop\n",
    "# In range we always use for loop\n",
    "# In numpy we always use for loop\n",
    "# In file we always use for loop\n",
    "# In pandas we always use for loop\n",
    "\n"
   ]
  },
  {
   "cell_type": "code",
   "execution_count": 1,
   "id": "6c3adb0b",
   "metadata": {},
   "outputs": [
    {
     "name": "stdout",
     "output_type": "stream",
     "text": [
      "1\n",
      "1.0\n",
      "1.5\n",
      "2\n",
      "3\n",
      "4\n",
      "5\n"
     ]
    }
   ],
   "source": [
    "a=[1,1.0,1.5,2,3,4,5]\n",
    "\n",
    "for i in a:\n",
    "    print(i)"
   ]
  },
  {
   "cell_type": "code",
   "execution_count": null,
   "id": "25584587",
   "metadata": {},
   "outputs": [],
   "source": []
  }
 ],
 "metadata": {
  "kernelspec": {
   "display_name": "Python 3",
   "language": "python",
   "name": "python3"
  },
  "language_info": {
   "codemirror_mode": {
    "name": "ipython",
    "version": 3
   },
   "file_extension": ".py",
   "mimetype": "text/x-python",
   "name": "python",
   "nbconvert_exporter": "python",
   "pygments_lexer": "ipython3",
   "version": "3.12.0"
  }
 },
 "nbformat": 4,
 "nbformat_minor": 5
}
