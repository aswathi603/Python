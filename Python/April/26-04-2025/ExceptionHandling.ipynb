{
 "cells": [
  {
   "cell_type": "markdown",
   "id": "b9ebd017",
   "metadata": {},
   "source": [
    "### Exception handling "
   ]
  },
  {
   "cell_type": "code",
   "execution_count": 4,
   "id": "432513db",
   "metadata": {},
   "outputs": [
    {
     "name": "stdout",
     "output_type": "stream",
     "text": [
      "Issue with the input, please enter a number.\n",
      "Hello,World\n"
     ]
    }
   ],
   "source": [
    "try:\n",
    "    for i in range (5):\n",
    "        a=input(\"Enter a number: \")\n",
    "        a=int(a)\n",
    "        print(\"The number is: \", a)\n",
    "except :\n",
    "    print(\"Issue with the input, please enter a number.\")\n",
    "\n",
    "print(\"Hello,World\")\n",
    "# finally:\n",
    "#     print(\"This block always executes.\")\n",
    "#     print(\"End of program.\")\n",
    "#     print(\"Goodbye!\")\n",
    "#     print(\"Thank you for using the program.\")\n"
   ]
  },
  {
   "cell_type": "code",
   "execution_count": null,
   "id": "7583439d",
   "metadata": {},
   "outputs": [],
   "source": [
    "## Try  block is used to test a block of code for errors.\n",
    "## Except block enables you to handle the error.\n",
    "## Finally block is used to execute code, regardless of the result of the try- and except blocks.\n",
    "## The try block will generate an exception, because x is not defined\n",
    "## The except block enables you to handle the error.\n",
    "## The finally block will execute code, after the try and except blocks, regardless of the result:\n",
    "\n",
    "\n"
   ]
  },
  {
   "cell_type": "code",
   "execution_count": 6,
   "id": "c66e3e43",
   "metadata": {},
   "outputs": [
    {
     "name": "stdout",
     "output_type": "stream",
     "text": [
      "Issue with the program\n",
      "This block always executes.\n",
      "End of program.\n",
      "Goodbye!\n",
      "Thank you for using the program.\n"
     ]
    }
   ],
   "source": [
    "try:\n",
    "    for i in range (5):\n",
    "        a=input(\"Enter a number: \")\n",
    "        a=int(a)\n",
    "        print(\"The number is: \", a)\n",
    "except ValueError :\n",
    "    print(\"Issue with the program\")\n",
    "finally:\n",
    "    print(\"This block always executes.\")\n",
    "    print(\"End of program.\")\n",
    "    print(\"Goodbye!\")\n",
    "    print(\"Thank you for using the program.\")\n",
    "\n"
   ]
  },
  {
   "cell_type": "code",
   "execution_count": null,
   "id": "8f3092df",
   "metadata": {},
   "outputs": [],
   "source": [
    "## different types of exceptions \n",
    "\n",
    "# ValueError : \n",
    "# This exception is raised when a function receives an argument of the right type but inappropriate value, \n",
    "# such as passing a string to a function that except an integer.\n",
    "\n",
    "# ZeroDivisionError :\n",
    "# This exception is raised when a number is divided by zero.\n",
    "# This is a runtime error \n",
    "\n",
    "# TypeError :\n",
    "# This exception is raised  when an operation or function is applied to an object of inappropriate type.\n",
    "\n",
    "# NameError :\n",
    "# This exception is raised when a local or global name is not found.\n",
    "\n",
    "# IndexError :\n",
    "# This exception is raised when a sequence subscript is out of range.\n",
    "\n",
    "# KeyError :\n",
    "# This exception is raised when a dictionary key is not found.\n",
    "\n",
    "# AttributeError :\n",
    "# This exception is raised when an invalid attribute reference is made. \n",
    "\n",
    "# ImportError :\n",
    "# This exception is raised when an import statement fails to find the module definition.\n",
    "\n",
    "# FileNotFoundError :\n",
    "# This exception is raised when a file or directory is requested but cannot be found.\n",
    "\n",
    "# EOFError :\n",
    "# This exception is raised when the input() function hits an end-of-file condition (EOF) without reading any data.\n",
    "\n",
    "# OverflowError :\n",
    "# This exception is raised when the result of an arithmetic operation is too large to be expressed in the range of the integer type.\n",
    "\n",
    "# AssertionError :\n",
    "# This exception is raised when an assert statement fails.\n",
    "\n",
    "# ImportError :\n",
    "# This exception is raised when an import statement fails to find the module definition.\n",
    "\n",
    "# IndentationError :\n",
    "# This exception is raised when there is an error in indentation.\n",
    "\n",
    "# SyntaxError :\n",
    "# This exception is raised when there is an error in syntax.\n",
    "\n",
    "# UnicodeError :\n",
    "# This exception is raised when a Unicode-related encoding or decoding error occurs.\n",
    "\n",
    "# KeyboardInterrupt :\n",
    "# This exception is raised when the user interrupts the program execution, usually by pressing Ctrl+C.\n",
    "\n",
    "# SystemExit :\n",
    "# This exception is raised when the sys.exit() function is called to exit the program.\n",
    "\n",
    "# StopIteration :\n",
    "# This exception is raised when the next() method of an iterator does not return a value.\n",
    "\n",
    "# MemoryError :\n",
    "# This exception is raised when an operation runs out of memory.\n",
    "\n",
    "# RecursionError :\n",
    "# This exception is raised when the maximum recursion depth is exceeded.\n",
    "\n",
    "# SystemError :\n",
    "# This exception is raised when the interpreter finds an internal error, but the program is still running.\n",
    "\n",
    "# ReferenceError :\n",
    "# This exception is raised when a weak reference proxy is used to access an object that has been garbage collected.\n",
    "\n",
    "# EnvironmentError :\n",
    "# This exception is raised when a system-related error occurs, such as file not found or permission denied.\n",
    "\n",
    "# OSError :\n",
    "# This exception is raised when a system-related error occurs, such as file not found or permission denied.\n",
    "\n",
    "# WindowsError :\n",
    "# This exception is raised when a Windows-specific error occurs, such as file not found or permission denied.\n",
    "\n",
    "# BlockingIOError :\n",
    "# This exception is raised when an operation would block on an object (such as a socket) that is not ready for the operation.\n",
    "\n",
    "# ChildProcessError :\n",
    "# This exception is raised when a child process fails to execute.\n",
    "\n",
    "# ConnectionError :\n",
    "# This exception is raised when a connection-related error occurs, such as a network connection failure.\n",
    "\n",
    "# FileExistsError :\n",
    "# This exception is raised when a file or directory already exists and cannot be created.\n"
   ]
  },
  {
   "cell_type": "code",
   "execution_count": null,
   "id": "666e43b8",
   "metadata": {},
   "outputs": [],
   "source": [
    "# In exception block we can use more then one exception "
   ]
  },
  {
   "cell_type": "code",
   "execution_count": 8,
   "id": "02b3826a",
   "metadata": {},
   "outputs": [
    {
     "name": "stdout",
     "output_type": "stream",
     "text": [
      "Issue with the program:  invalid literal for int() with base 10: 'h'\n"
     ]
    }
   ],
   "source": [
    "try:\n",
    "    a = input(\"Enter a first number: \")\n",
    "    b = input(\"Enter a  second number: \")\n",
    "    res=int(a)/int(b)\n",
    "    print(\"The result is: \", res)\n",
    "except (ValueError,ZeroDivisionError) as e:\n",
    "    print(\"Issue with the program: \", e)"
   ]
  },
  {
   "cell_type": "code",
   "execution_count": 9,
   "id": "ff512e4d",
   "metadata": {},
   "outputs": [
    {
     "name": "stdout",
     "output_type": "stream",
     "text": [
      "Issue with the program:  division by zero\n"
     ]
    }
   ],
   "source": [
    "try :\n",
    "    a = input(\"Enter a first number: \")\n",
    "    b = input(\"Enter a  second number: \")\n",
    "    res=int(a)/int(b)\n",
    "    print(\"The result is: \", res)\n",
    "except Exception as e:\n",
    "    print(\"Issue with the program: \", e)\n"
   ]
  },
  {
   "cell_type": "code",
   "execution_count": 19,
   "id": "d805ef88",
   "metadata": {},
   "outputs": [
    {
     "name": "stdout",
     "output_type": "stream",
     "text": [
      "The result is:  1.1666666666666667\n"
     ]
    }
   ],
   "source": [
    "try :\n",
    "    a = input(\"Enter a first number: \")\n",
    "    b = input(\"Enter a  second number: \")\n",
    "\n",
    "except Exception as e:\n",
    "    print(\"Issue with the program: \", e)\n",
    "else:\n",
    "    res=int(a)/int(b)\n",
    "    print(\"The result is: \", res)\n"
   ]
  },
  {
   "cell_type": "code",
   "execution_count": null,
   "id": "4bdca818",
   "metadata": {},
   "outputs": [
    {
     "name": "stdout",
     "output_type": "stream",
     "text": [
      "2.0\n",
      "The value is:  1\n",
      "No errors occurreds.\n",
      "This block always executes.\n",
      "End of program.\n"
     ]
    }
   ],
   "source": [
    "try: \n",
    "    a = int(input(\"Enter a number: \"))\n",
    "    b = input(\"Enter a value: \")\n",
    "    print(10/a)\n",
    "    int(b)\n",
    "    print(\"The value is: \",b)\n",
    "except (ZeroDivisionError, ValueError) as e:\n",
    "    print(\"Error: \", e)\n",
    "except Exception as e1:\n",
    "    print(\"An unexcepted error occurred: \", e1)\n",
    "else: # it will only execute if no exception occurs\n",
    "    print(\"No errors occurreds.\")\n",
    "finally:\n",
    "    print(\"This block always executes.\")\n",
    "    print(\"End of program.\")"
   ]
  },
  {
   "cell_type": "code",
   "execution_count": 14,
   "id": "b59e1faf",
   "metadata": {},
   "outputs": [],
   "source": [
    "import os \n"
   ]
  },
  {
   "cell_type": "code",
   "execution_count": 15,
   "id": "ec0df42a",
   "metadata": {},
   "outputs": [
    {
     "name": "stdout",
     "output_type": "stream",
     "text": [
      "File not found. Please check the file path.\n",
      "file is not open or already closed.\n"
     ]
    }
   ],
   "source": [
    "try:\n",
    "    file = open(\"test.txt\", \"r\")\n",
    "    content = file.read()\n",
    "    print(content)\n",
    "except FileNotFoundError:\n",
    "    print(\"File not found. Please check the file path.\")\n",
    "except IOError:\n",
    "    print(\"An I/O error occurred. Please check the file permissions, or if the file is open in another program.\")\n",
    "except Exception as e:\n",
    "    print(\"An unexpected error occurred: \", e)\n",
    "finally:\n",
    "    try:\n",
    "        file.close()\n",
    "    except:\n",
    "        print(\"file is not open or already closed.\")\n",
    "\n"
   ]
  },
  {
   "cell_type": "code",
   "execution_count": 18,
   "id": "9c570bfc",
   "metadata": {},
   "outputs": [
    {
     "name": "stdout",
     "output_type": "stream",
     "text": [
      "['This is a sample text written to t1.txt.\\n', 'You can add more content as needed.']\n",
      "No errors occurreds.\n",
      "File not found. Please check the file path.\n",
      "['Why do Java developers wear glasses?\\n', \"Because they don't see sharp!\\n\", '\\n', 'Why was the computer cold?\\n', 'It left its Windows open.\\n', '\\n', 'Why do programmers hate nature?\\n', 'It has too many bugs.\\n', '\\n', 'Why did the developer go broke?\\n', 'Because he used up all his cache.']\n",
      "No errors occurreds.\n"
     ]
    }
   ],
   "source": [
    "a= [\"t1.txt\", \"t2.txt\", \"t3.txt\"]\n",
    "for i in a:\n",
    "    try:\n",
    "        file = open(i, \"r\")\n",
    "        content =file.readlines()\n",
    "        print(content)\n",
    "    except FileNotFoundError:\n",
    "        print(\"File not found. Please check the file path.\")\n",
    "    except IOError:\n",
    "        print(\"An I/O error occurred. Please check the file permissions, or if the file is open in another program.\")\n",
    "    except Exception as e:\n",
    "        print(\"An unexpected error occurred: \", e)\n",
    "    else:\n",
    "        print(\"No errors occurreds.\")\n",
    "    finally: \n",
    "        try:\n",
    "            file.close()\n",
    "        except:\n",
    "            print(\"File is not open or already closed.\")\n",
    "# The above code will read the content of the files t1.txt, t2.txt, and t3.txt.\n",
    "# If any of the files are not found, it will print an error message.\n",
    "# If there is an I/O error, it will print an error message.\n",
    "# If any other unexpected error occurs, it will print an error message.\n",
    "# Finally, it will close the file if it is open.\n",
    "# The finally block will always execute\n",
    "# regardless of whether an exception occurred or not."
   ]
  },
  {
   "cell_type": "code",
   "execution_count": 31,
   "id": "da894de8",
   "metadata": {},
   "outputs": [],
   "source": [
    "def take_age(age):\n",
    "    try:\n",
    "        age_val=int(age)\n",
    "        if age_val < 0 or age_val >100:\n",
    "            raise ValueError(\"Age is not in a valid range.\")\n",
    "        else:\n",
    "            print(\"The age is: \", age_val)\n",
    "    except Exception as e:\n",
    "        print(e)"
   ]
  },
  {
   "cell_type": "code",
   "execution_count": 32,
   "id": "7662bac9",
   "metadata": {},
   "outputs": [
    {
     "name": "stdout",
     "output_type": "stream",
     "text": [
      "Age is not in a valid range.\n"
     ]
    }
   ],
   "source": [
    "take_age(-1)"
   ]
  },
  {
   "cell_type": "code",
   "execution_count": null,
   "id": "4b6f5031",
   "metadata": {},
   "outputs": [],
   "source": []
  },
  {
   "cell_type": "code",
   "execution_count": null,
   "id": "b699474e",
   "metadata": {},
   "outputs": [],
   "source": []
  },
  {
   "cell_type": "code",
   "execution_count": null,
   "metadata": {},
   "outputs": [],
   "source": []
  },
  {
   "cell_type": "code",
   "execution_count": null,
   "id": "fda69f02",
   "metadata": {},
   "outputs": [],
   "source": []
  },
  {
   "cell_type": "code",
   "execution_count": null,
   "id": "913afb29",
   "metadata": {},
   "outputs": [],
   "source": []
  },
  {
   "cell_type": "code",
   "execution_count": null,
   "id": "d98f33c3",
   "metadata": {},
   "outputs": [],
   "source": []
  }
 ],
 "metadata": {
  "kernelspec": {
   "display_name": "Python 3",
   "language": "python",
   "name": "python3"
  },
  "language_info": {
   "codemirror_mode": {
    "name": "ipython",
    "version": 3
   },
   "file_extension": ".py",
   "mimetype": "text/x-python",
   "name": "python",
   "nbconvert_exporter": "python",
   "pygments_lexer": "ipython3",
   "version": "3.12.0"
  }
 },
 "nbformat": 4,
 "nbformat_minor": 5
}
