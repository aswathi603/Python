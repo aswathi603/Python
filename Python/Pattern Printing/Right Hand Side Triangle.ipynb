{
 "cells": [
  {
   "cell_type": "code",
   "execution_count": null,
   "id": "e5841c96",
   "metadata": {},
   "outputs": [
    {
     "name": "stdout",
     "output_type": "stream",
     "text": [
      "1 \n",
      "1 2 \n",
      "1 2 3 \n",
      "1 2 3 4 \n",
      "1 2 3 4 5 \n"
     ]
    }
   ],
   "source": [
    "# 🔢 1. Left-Aligned Triangle\n",
    "\n",
    "# Input: n==4\n",
    "# 1\n",
    "# 1 2\n",
    "# 1 2 3 \n",
    "# 1 2 3 4\n",
    "\n",
    "\n",
    "\n",
    "n=int(input(\"enter the number: \"))\n",
    "for i in range(1,n+1):\n",
    "    for j in range(1,i+1):\n",
    "        print(j,end=\" \")\n",
    "    print()\n"
   ]
  },
  {
   "cell_type": "code",
   "execution_count": null,
   "id": "a43eae19",
   "metadata": {},
   "outputs": [
    {
     "name": "stdout",
     "output_type": "stream",
     "text": [
      "      1 \n",
      "    2 1 \n",
      "  3 2 1 \n",
      "4 3 2 1 \n"
     ]
    }
   ],
   "source": [
    "# 🔢 2. Right-Aligned Triangle\n",
    "\n",
    "# Input: n==4\n",
    "# Output:\n",
    "#       1\n",
    "#     2 1\n",
    "#   3 2 1\n",
    "# 4 3 2 1\n",
    "\n",
    "\n",
    "n=int(input(\"enter a number: \"))\n",
    "for i in range(1,n+1):\n",
    "    for j in range(n-i):\n",
    "        print(\" \",end=\" \")\n",
    "    for j in range(i,0,-1):\n",
    "        print(j,end=\" \")\n",
    "    print()"
   ]
  },
  {
   "cell_type": "code",
   "execution_count": null,
   "id": "5eddcc23",
   "metadata": {},
   "outputs": [],
   "source": [
    "# Input: n = 4\n",
    "\n",
    "# Output:\n",
    "#    * \n",
    "#   * * \n",
    "#  * * * \n",
    "# * * * *\n",
    "\n",
    "\n",
    "n = int(input(\"Enter n: \"))\n",
    "for i in range(1, n + 1):\n",
    "    print(\" \" * (n - i), end=\"\")\n",
    "    print(\"* \" * i)\n",
    "\n"
   ]
  },
  {
   "cell_type": "code",
   "execution_count": null,
   "id": "a2197adf",
   "metadata": {},
   "outputs": [],
   "source": [
    "# Input: n = 4\n",
    "\n",
    "# Output:\n",
    "#       * \n",
    "#     * * \n",
    "#   * * * \n",
    "# * * * * \n",
    "\n",
    "n = int(input(\"Enter n: \"))\n",
    "for i in range(1, n + 1):\n",
    "    print(\" \" * (n - i), end=\"\")\n",
    "    print(\"* \" * i)\n",
    "\n"
   ]
  },
  {
   "cell_type": "code",
   "execution_count": null,
   "id": "d04adf61",
   "metadata": {},
   "outputs": [],
   "source": []
  },
  {
   "cell_type": "code",
   "execution_count": null,
   "id": "258f3225",
   "metadata": {},
   "outputs": [],
   "source": []
  }
 ],
 "metadata": {
  "kernelspec": {
   "display_name": "Python 3",
   "language": "python",
   "name": "python3"
  },
  "language_info": {
   "codemirror_mode": {
    "name": "ipython",
    "version": 3
   },
   "file_extension": ".py",
   "mimetype": "text/x-python",
   "name": "python",
   "nbconvert_exporter": "python",
   "pygments_lexer": "ipython3",
   "version": "3.12.0"
  }
 },
 "nbformat": 4,
 "nbformat_minor": 5
}
