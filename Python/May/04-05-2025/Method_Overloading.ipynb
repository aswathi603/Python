{
 "cells": [
  {
   "cell_type": "code",
   "execution_count": 3,
   "id": "5a16de09",
   "metadata": {},
   "outputs": [],
   "source": [
    "# Method Overloading and Method Overriding"
   ]
  },
  {
   "cell_type": "markdown",
   "id": "9daa38a7",
   "metadata": {},
   "source": [
    "🔁 Method Overriding vs Method Overloading\n",
    "Method Overriding\t                                Method Overloading (Python)\n",
    "Redefining a parent class method in a child class\tSame method name with different parameters                  Inheritance\tRequired (child overrides parent)\t    Not required (can be in same class)\n",
    "Runtime polymorphism\t                            Compile-time polymorphism (simulated in Python)\n",
    "Specializing behavior\t                            Performing different tasks with same method name"
   ]
  },
  {
   "cell_type": "code",
   "execution_count": 5,
   "id": "4ae0a679",
   "metadata": {},
   "outputs": [
    {
     "name": "stdout",
     "output_type": "stream",
     "text": [
      "  Method Overriding:\n",
      "Performing BMW-specific car service\n",
      "\n",
      " Method Overloading:\n",
      "General booking\n",
      "Booking made for Aswathi\n",
      "Booking made for Aswathi on 2025-05-21\n"
     ]
    }
   ],
   "source": [
    "# Method Overriding\n",
    "class CarService:\n",
    "    def service(self):\n",
    "        print(\"Performing general car service\")\n",
    "\n",
    "class BMWService(CarService):\n",
    "    # Overriding the parent class method\n",
    "    def service(self):\n",
    "        print(\"Performing BMW-specific car service\")\n",
    "\n",
    "# Method Overloading (Simulated)\n",
    "class BookingSystem:\n",
    "    def booking(self, customer=None, date=None):\n",
    "        if customer and date:\n",
    "            print(f\"Booking made for {customer} on {date}\")\n",
    "        elif customer:\n",
    "            print(f\"Booking made for {customer}\")\n",
    "        else:\n",
    "            print(\"General booking\")\n",
    "\n",
    "# Testing\n",
    "print(\"  Method Overriding:\")\n",
    "car = BMWService()\n",
    "car.service()  # Calls the overridden method\n",
    "\n",
    "print(\"\\n Method Overloading:\")\n",
    "b = BookingSystem()\n",
    "b.booking()\n",
    "b.booking(\"Aswathi\")\n",
    "b.booking(\"Aswathi\", \"2025-05-21\")\n"
   ]
  },
  {
   "cell_type": "markdown",
   "id": "2fcec5bf",
   "metadata": {},
   "source": [
    "#### Method Overriding "
   ]
  },
  {
   "cell_type": "code",
   "execution_count": null,
   "id": "a9ff7b6e",
   "metadata": {},
   "outputs": [],
   "source": [
    "class Employee:\n",
    "    def work(self):\n",
    "        print(\"Employee works 9 to 5.\")\n",
    "\n",
    "class Manager(Employee):  # Inherits from Employee\n",
    "    def work(self):  # Overriding the work method\n",
    "        print(\"Manager works 24/7 and attends meetings.\")\n",
    "\n",
    "# Create objects\n",
    "emp = Employee()\n",
    "mgr = Manager()\n",
    "\n",
    "emp.work()   # Output: Employee works 9 to 5.\n",
    "mgr.work()   # Output: Manager works 24/7 and attends meetings.\n"
   ]
  },
  {
   "cell_type": "markdown",
   "id": "f0c9100a",
   "metadata": {},
   "source": [
    "Method Overloading \n",
    "\n",
    "by default the method overloading doesn't happen in the python \n",
    "\n",
    "In python the latest implementation is used whenever we try to use overloading .\n",
    "\n",
    "❌ Overloading  in Python \n",
    "It is due reasons are :\n",
    "    1.Interpter\n",
    "    2.Dynammic data type \n",
    "    "
   ]
  },
  {
   "cell_type": "code",
   "execution_count": 6,
   "id": "810b325f",
   "metadata": {},
   "outputs": [],
   "source": [
    "class A:\n",
    "    def add(self,a,b):\n",
    "        print(f\"The value of A is {a} and value of b is {b}. The final result is {a+b}\")\n",
    "\n",
    "    def add(self,a,b,c):\n",
    "        print(f\"The value of a is {a} , value of b is {b} and value of c is {c}. The final result is {a+b+c} \")"
   ]
  },
  {
   "cell_type": "code",
   "execution_count": 7,
   "id": "3d3b18d4",
   "metadata": {},
   "outputs": [],
   "source": [
    "arjun  = A()"
   ]
  },
  {
   "cell_type": "code",
   "execution_count": 11,
   "id": "825e071c",
   "metadata": {},
   "outputs": [],
   "source": [
    "# arjun.add(1,5)\n",
    "\n",
    "# ---------------------------------------------------------------------------\n",
    "# TypeError                                 Traceback (most recent call last)\n",
    "# Cell In[10], line 1\n",
    "# ----> 1 arjun.add(1,5)\n",
    "\n",
    "# TypeError: A.add() missing 1 required positional argument: 'c'"
   ]
  },
  {
   "cell_type": "code",
   "execution_count": null,
   "id": "f8725e8a",
   "metadata": {},
   "outputs": [
    {
     "name": "stdout",
     "output_type": "stream",
     "text": [
      "The value of a is 2 , value of b is 4 and value of c is 4. The final result is 10 \n"
     ]
    }
   ],
   "source": [
    "arjun.add(2,4,4)  # This is the recent method with the name of add so it is taking this"
   ]
  },
  {
   "cell_type": "code",
   "execution_count": null,
   "id": "524c5ae1",
   "metadata": {},
   "outputs": [],
   "source": []
  },
  {
   "cell_type": "code",
   "execution_count": null,
   "id": "cda2949b",
   "metadata": {},
   "outputs": [],
   "source": []
  },
  {
   "cell_type": "code",
   "execution_count": null,
   "id": "e089f13d",
   "metadata": {},
   "outputs": [],
   "source": []
  },
  {
   "cell_type": "code",
   "execution_count": null,
   "id": "87da8ae4",
   "metadata": {},
   "outputs": [
    {
     "data": {
      "text/plain": [
       "1"
      ]
     },
     "execution_count": 1,
     "metadata": {},
     "output_type": "execute_result"
    }
   ],
   "source": []
  }
 ],
 "metadata": {
  "kernelspec": {
   "display_name": "Python 3",
   "language": "python",
   "name": "python3"
  },
  "language_info": {
   "codemirror_mode": {
    "name": "ipython",
    "version": 3
   },
   "file_extension": ".py",
   "mimetype": "text/x-python",
   "name": "python",
   "nbconvert_exporter": "python",
   "pygments_lexer": "ipython3",
   "version": "3.12.0"
  }
 },
 "nbformat": 4,
 "nbformat_minor": 5
}
