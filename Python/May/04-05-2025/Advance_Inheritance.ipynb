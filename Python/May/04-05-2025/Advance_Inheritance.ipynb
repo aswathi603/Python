{
 "cells": [
  {
   "cell_type": "code",
   "execution_count": 3,
   "id": "d95fa34b",
   "metadata": {},
   "outputs": [],
   "source": [
    "# Inheritance : what if the multiple parents have same method name , hoe to invoke the selected "
   ]
  },
  {
   "cell_type": "code",
   "execution_count": 15,
   "id": "107c9aed",
   "metadata": {},
   "outputs": [],
   "source": [
    "class B:\n",
    "    def greet(self):\n",
    "        print(\"Hello from B.\")\n",
    "\n",
    "class C:\n",
    "    def greet(self):\n",
    "        print(\"Hello from C.\")\n",
    "    \n",
    "class A(B,C):\n",
    "    def greet(self):\n",
    "        super().greet()\n",
    "        print(\"Hello from A.\")"
   ]
  },
  {
   "cell_type": "code",
   "execution_count": 16,
   "id": "f836b476",
   "metadata": {},
   "outputs": [],
   "source": [
    "cls_obj_1=A()"
   ]
  },
  {
   "cell_type": "code",
   "execution_count": 18,
   "id": "d0d084bf",
   "metadata": {},
   "outputs": [
    {
     "name": "stdout",
     "output_type": "stream",
     "text": [
      "Hello from B.\n",
      "Hello from A.\n"
     ]
    }
   ],
   "source": [
    "cls_obj_1.greet()"
   ]
  },
  {
   "cell_type": "code",
   "execution_count": 11,
   "id": "0c233ee6",
   "metadata": {},
   "outputs": [],
   "source": [
    "class B:\n",
    "    def greet(self):\n",
    "        print(\"Hello from B.\")\n",
    "\n",
    "class C:\n",
    "    def greet(self):\n",
    "        print(\"Hello from C.\")\n",
    "    \n",
    "class A(B,C):\n",
    "    def greet(self):\n",
    "        print(\"Hello from A.\")"
   ]
  },
  {
   "cell_type": "code",
   "execution_count": 12,
   "id": "a7311ff9",
   "metadata": {},
   "outputs": [],
   "source": [
    "cls_obj_2 = A()"
   ]
  },
  {
   "cell_type": "code",
   "execution_count": 13,
   "id": "a271200a",
   "metadata": {},
   "outputs": [
    {
     "name": "stdout",
     "output_type": "stream",
     "text": [
      "Hello from A.\n"
     ]
    }
   ],
   "source": [
    "cls_obj_2.greet()"
   ]
  },
  {
   "cell_type": "code",
   "execution_count": 14,
   "id": "177a89da",
   "metadata": {},
   "outputs": [
    {
     "name": "stdout",
     "output_type": "stream",
     "text": [
      "[<class '__main__.A'>, <class '__main__.B'>, <class '__main__.C'>, <class 'object'>]\n"
     ]
    }
   ],
   "source": [
    "print(A.mro())"
   ]
  },
  {
   "cell_type": "code",
   "execution_count": 29,
   "id": "d16b9a19",
   "metadata": {},
   "outputs": [],
   "source": [
    "class B:\n",
    "    def greet1(self):\n",
    "        print(\"Hello from B.\")\n",
    "\n",
    "class C:\n",
    "    def greet(self):\n",
    "        print(\"Hello from C.\")\n",
    "    \n",
    "class A(B,C):\n",
    "    def greet(self):\n",
    "        super().greet()\n",
    "        print(\"Hello from A.\")"
   ]
  },
  {
   "cell_type": "code",
   "execution_count": 24,
   "id": "782a8267",
   "metadata": {},
   "outputs": [],
   "source": [
    "obj_1_new = A()"
   ]
  },
  {
   "cell_type": "code",
   "execution_count": 25,
   "id": "71368510",
   "metadata": {},
   "outputs": [
    {
     "name": "stdout",
     "output_type": "stream",
     "text": [
      "Hello from C.\n",
      "Hello from A.\n"
     ]
    }
   ],
   "source": [
    "obj_1_new.greet()"
   ]
  },
  {
   "cell_type": "code",
   "execution_count": 27,
   "id": "670c109d",
   "metadata": {},
   "outputs": [
    {
     "name": "stdout",
     "output_type": "stream",
     "text": [
      "[<class '__main__.A'>, <class '__main__.B'>, <class '__main__.C'>, <class 'object'>]\n"
     ]
    }
   ],
   "source": [
    "print(A.mro())"
   ]
  },
  {
   "cell_type": "code",
   "execution_count": 31,
   "id": "1e9efb69",
   "metadata": {},
   "outputs": [],
   "source": [
    "class B:\n",
    "    def greet(self):\n",
    "        print(\"Hello from B.\")\n",
    "\n",
    "class C:\n",
    "    def greet(self):\n",
    "        print(\"Hello from C.\")\n",
    "    \n",
    "class A(B,C):\n",
    "    def greet(self):\n",
    "        super().greet()\n",
    "        print(\"Hello from A.\")"
   ]
  },
  {
   "cell_type": "code",
   "execution_count": 32,
   "id": "6ad1b51e",
   "metadata": {},
   "outputs": [
    {
     "name": "stdout",
     "output_type": "stream",
     "text": [
      "Hello from B.\n"
     ]
    }
   ],
   "source": [
    "## obj_1_new  class A object \n",
    "B.greet(obj_1_new)\n"
   ]
  },
  {
   "cell_type": "code",
   "execution_count": 33,
   "id": "49c9ae5e",
   "metadata": {},
   "outputs": [
    {
     "name": "stdout",
     "output_type": "stream",
     "text": [
      "Hello from C.\n"
     ]
    }
   ],
   "source": [
    "C.greet(obj_1_new)"
   ]
  },
  {
   "cell_type": "code",
   "execution_count": 34,
   "id": "26fe526f",
   "metadata": {},
   "outputs": [],
   "source": [
    "class B:\n",
    "    def greet(self):\n",
    "        print(\"Hello from B.\")\n",
    "\n",
    "class C:\n",
    "    def greet(self):\n",
    "        print(\"Hello from C.\")\n",
    "    \n",
    "class A(C,B):\n",
    "    def greet(self):\n",
    "        super().greet()\n",
    "        print(\"Hello from A.\")"
   ]
  },
  {
   "cell_type": "code",
   "execution_count": 35,
   "id": "d928d978",
   "metadata": {},
   "outputs": [],
   "source": [
    "a_obj_new = A()"
   ]
  },
  {
   "cell_type": "code",
   "execution_count": 36,
   "id": "09c2e2ff",
   "metadata": {},
   "outputs": [
    {
     "name": "stdout",
     "output_type": "stream",
     "text": [
      "[<class '__main__.A'>, <class '__main__.C'>, <class '__main__.B'>, <class 'object'>]\n"
     ]
    }
   ],
   "source": [
    "print(A.mro())"
   ]
  },
  {
   "cell_type": "code",
   "execution_count": 37,
   "id": "59c4e3f0",
   "metadata": {},
   "outputs": [],
   "source": [
    "class  B:\n",
    "    def greet(self):\n",
    "        print(\"Hello from  B.\")\n",
    "\n",
    "class Def:\n",
    "    def abcd(self):\n",
    "        print(\"Hello from Def\")"
   ]
  },
  {
   "cell_type": "code",
   "execution_count": 38,
   "id": "1f9ad0d2",
   "metadata": {},
   "outputs": [],
   "source": [
    "obj1 = Def()"
   ]
  },
  {
   "cell_type": "code",
   "execution_count": 39,
   "id": "3373f0f6",
   "metadata": {},
   "outputs": [
    {
     "name": "stdout",
     "output_type": "stream",
     "text": [
      "Hello from  B.\n"
     ]
    }
   ],
   "source": [
    "B.greet(obj1)"
   ]
  },
  {
   "cell_type": "code",
   "execution_count": null,
   "id": "27bc1cc6",
   "metadata": {},
   "outputs": [],
   "source": [
    "class B:\n",
    "    def greet(self):\n",
    "        print(\"Hello from B.\")\n",
    "\n",
    "class C:\n",
    "    def greet(self):\n",
    "        print(\"Hello from C.\")\n",
    "    \n",
    "class A(C,B):\n",
    "    def __init__(self):\n",
    "        super().greet()\n",
    "    def greet(self):\n",
    "        print(\"Hello from A.\")"
   ]
  },
  {
   "cell_type": "code",
   "execution_count": 41,
   "id": "e6dd10ca",
   "metadata": {},
   "outputs": [
    {
     "name": "stdout",
     "output_type": "stream",
     "text": [
      "Hello from C.\n"
     ]
    }
   ],
   "source": [
    "obj_a = A()"
   ]
  },
  {
   "cell_type": "code",
   "execution_count": null,
   "id": "8ef4f744",
   "metadata": {},
   "outputs": [],
   "source": [
    "# A --> B\n",
    "# A --> C\n",
    "# D --> B,C\n",
    "\n",
    "#     A\n",
    "# B       C\n",
    "#     D"
   ]
  },
  {
   "cell_type": "code",
   "execution_count": 43,
   "id": "4d58e7d8",
   "metadata": {},
   "outputs": [],
   "source": [
    "class A:\n",
    "    def greet(self):\n",
    "        print(\"Hello from A.\")\n",
    "\n",
    "class B(A):\n",
    "    def greet(self):\n",
    "        print(\"Hello from B.\")\n",
    "        super().greet()\n",
    "    \n",
    "class C(A):\n",
    "    def greet(self):\n",
    "        print(\"Hello from C.\")\n",
    "        super().greet()\n",
    "\n",
    "class D(C,B):\n",
    "    def __init__(self):\n",
    "        super().greet()"
   ]
  },
  {
   "cell_type": "code",
   "execution_count": 44,
   "id": "43bcbeb8",
   "metadata": {},
   "outputs": [
    {
     "data": {
      "text/plain": [
       "[__main__.D, __main__.C, __main__.B, __main__.A, object]"
      ]
     },
     "execution_count": 44,
     "metadata": {},
     "output_type": "execute_result"
    }
   ],
   "source": [
    "D.mro()"
   ]
  },
  {
   "cell_type": "code",
   "execution_count": 45,
   "id": "77c613c2",
   "metadata": {},
   "outputs": [
    {
     "name": "stdout",
     "output_type": "stream",
     "text": [
      "Hello from C.\n",
      "Hello from B.\n",
      "Hello from A.\n"
     ]
    }
   ],
   "source": [
    "obj_d = D()"
   ]
  },
  {
   "cell_type": "code",
   "execution_count": 46,
   "id": "fe6c216d",
   "metadata": {},
   "outputs": [],
   "source": [
    "class A:\n",
    "    def greet(self):\n",
    "        print(\"Hello from A.\")\n",
    "\n",
    "class B(A):\n",
    "    def greet(self):\n",
    "        print(\"Hello from B.\")\n",
    "        super().greet()\n",
    "    \n",
    "class C(A):\n",
    "    def greet(self):\n",
    "        print(\"Hello from C.\")\n",
    "        super().greet()\n",
    "\n",
    "class D(C,B):\n",
    "    def greet(self):\n",
    "        print(\"Hello from D\")\n",
    "        super().greet()"
   ]
  },
  {
   "cell_type": "code",
   "execution_count": 47,
   "id": "4925597b",
   "metadata": {},
   "outputs": [
    {
     "data": {
      "text/plain": [
       "[__main__.D, __main__.C, __main__.B, __main__.A, object]"
      ]
     },
     "execution_count": 47,
     "metadata": {},
     "output_type": "execute_result"
    }
   ],
   "source": [
    "D.mro()"
   ]
  },
  {
   "cell_type": "code",
   "execution_count": 48,
   "id": "d4c86f71",
   "metadata": {},
   "outputs": [],
   "source": [
    "obj_dd = D()"
   ]
  },
  {
   "cell_type": "code",
   "execution_count": 49,
   "id": "3579d781",
   "metadata": {},
   "outputs": [
    {
     "name": "stdout",
     "output_type": "stream",
     "text": [
      "Hello from D\n",
      "Hello from C.\n",
      "Hello from B.\n",
      "Hello from A.\n"
     ]
    }
   ],
   "source": [
    "obj_dd.greet()"
   ]
  },
  {
   "cell_type": "code",
   "execution_count": null,
   "id": "d29402b4",
   "metadata": {},
   "outputs": [],
   "source": []
  },
  {
   "cell_type": "code",
   "execution_count": null,
   "id": "51874677",
   "metadata": {},
   "outputs": [],
   "source": []
  },
  {
   "cell_type": "code",
   "execution_count": null,
   "id": "7d0227ec",
   "metadata": {},
   "outputs": [],
   "source": []
  },
  {
   "cell_type": "code",
   "execution_count": null,
   "id": "30b951a4",
   "metadata": {},
   "outputs": [],
   "source": []
  },
  {
   "cell_type": "code",
   "execution_count": null,
   "id": "d3e3caaa",
   "metadata": {},
   "outputs": [],
   "source": []
  },
  {
   "cell_type": "code",
   "execution_count": null,
   "id": "e9656b57",
   "metadata": {},
   "outputs": [],
   "source": []
  }
 ],
 "metadata": {
  "kernelspec": {
   "display_name": "Python 3",
   "language": "python",
   "name": "python3"
  },
  "language_info": {
   "codemirror_mode": {
    "name": "ipython",
    "version": 3
   },
   "file_extension": ".py",
   "mimetype": "text/x-python",
   "name": "python",
   "nbconvert_exporter": "python",
   "pygments_lexer": "ipython3",
   "version": "3.12.0"
  }
 },
 "nbformat": 4,
 "nbformat_minor": 5
}
