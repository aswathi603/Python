{
 "cells": [
  {
   "cell_type": "code",
   "execution_count": 2,
   "id": "9aaab431",
   "metadata": {},
   "outputs": [
    {
     "data": {
      "text/plain": [
       "1"
      ]
     },
     "execution_count": 2,
     "metadata": {},
     "output_type": "execute_result"
    }
   ],
   "source": [
    "## Decotators \n",
    "\n",
    "# It is a function which modifies another function without changing its code  "
   ]
  },
  {
   "cell_type": "code",
   "execution_count": 3,
   "id": "772622d6",
   "metadata": {},
   "outputs": [],
   "source": [
    "def my_decorator(func):\n",
    "    def wrapper():\n",
    "        print(\"Before the functions runs.\")\n",
    "        func()\n",
    "        print(\"After the functions runs.\")\n",
    "    return wrapper"
   ]
  },
  {
   "cell_type": "code",
   "execution_count": 8,
   "id": "905842bd",
   "metadata": {},
   "outputs": [],
   "source": [
    "def say_Hello():\n",
    "    print(\"Hello!\")"
   ]
  },
  {
   "cell_type": "code",
   "execution_count": 9,
   "id": "51dbe03a",
   "metadata": {},
   "outputs": [
    {
     "name": "stdout",
     "output_type": "stream",
     "text": [
      "Hello!\n"
     ]
    }
   ],
   "source": [
    "say_Hello()"
   ]
  },
  {
   "cell_type": "code",
   "execution_count": null,
   "id": "9c15b5ac",
   "metadata": {},
   "outputs": [],
   "source": [
    "@my_decorator  # \"Syntatic Sugar\"\n",
    "def say_Hello():\n",
    "    print(\"Hello!\")"
   ]
  },
  {
   "cell_type": "code",
   "execution_count": 7,
   "id": "db4df2bc",
   "metadata": {},
   "outputs": [
    {
     "name": "stdout",
     "output_type": "stream",
     "text": [
      "Before the functions runs.\n",
      "Hello!\n",
      "After the functions runs.\n"
     ]
    }
   ],
   "source": [
    "say_Hello()"
   ]
  },
  {
   "cell_type": "code",
   "execution_count": 11,
   "id": "8e75fcc1",
   "metadata": {},
   "outputs": [],
   "source": [
    "# or we casn write it like this also "
   ]
  },
  {
   "cell_type": "code",
   "execution_count": 12,
   "id": "bd1e788d",
   "metadata": {},
   "outputs": [],
   "source": [
    "abc = my_decorator(say_Hello)"
   ]
  },
  {
   "cell_type": "code",
   "execution_count": 13,
   "id": "d1bf2a96",
   "metadata": {},
   "outputs": [
    {
     "name": "stdout",
     "output_type": "stream",
     "text": [
      "Before the functions runs.\n",
      "Hello!\n",
      "After the functions runs.\n"
     ]
    }
   ],
   "source": [
    "abc()"
   ]
  },
  {
   "cell_type": "code",
   "execution_count": 29,
   "id": "29db5623",
   "metadata": {},
   "outputs": [],
   "source": [
    "def my_decorator(func):\n",
    "    def wrapper(*args):\n",
    "        print(\"Before the functions runs.\")\n",
    "        func(*args)\n",
    "        print(\"After the functions runs.\")\n",
    "    return wrapper"
   ]
  },
  {
   "cell_type": "code",
   "execution_count": 30,
   "id": "74d18ae1",
   "metadata": {},
   "outputs": [],
   "source": [
    "@my_decorator\n",
    "def add(a,b):\n",
    "    print(\"The Addition of {a} and {b} is \",a+b)"
   ]
  },
  {
   "cell_type": "code",
   "execution_count": 31,
   "id": "dd2a1f1b",
   "metadata": {},
   "outputs": [
    {
     "name": "stdout",
     "output_type": "stream",
     "text": [
      "Before the functions runs.\n",
      "The Addition of {a} and {b} is  4\n",
      "After the functions runs.\n"
     ]
    }
   ],
   "source": [
    "add(1,3)"
   ]
  },
  {
   "cell_type": "code",
   "execution_count": null,
   "id": "4a866953",
   "metadata": {},
   "outputs": [],
   "source": []
  }
 ],
 "metadata": {
  "kernelspec": {
   "display_name": "Python 3",
   "language": "python",
   "name": "python3"
  },
  "language_info": {
   "codemirror_mode": {
    "name": "ipython",
    "version": 3
   },
   "file_extension": ".py",
   "mimetype": "text/x-python",
   "name": "python",
   "nbconvert_exporter": "python",
   "pygments_lexer": "ipython3",
   "version": "3.12.0"
  }
 },
 "nbformat": 4,
 "nbformat_minor": 5
}
