{
 "cells": [
  {
   "cell_type": "code",
   "execution_count": 2,
   "id": "97909331",
   "metadata": {},
   "outputs": [],
   "source": [
    "from abc import ABC ,abstractmethod"
   ]
  },
  {
   "cell_type": "code",
   "execution_count": 3,
   "id": "96edf705",
   "metadata": {},
   "outputs": [],
   "source": [
    "## Abstract Base Class\n",
    "\n",
    "class MCDonalds(ABC):\n",
    "\n",
    "    @abstractmethod\n",
    "    def mincapacity30(self):\n",
    "        pass\n",
    "    \n",
    "    @abstractmethod\n",
    "    def minparking(self):\n",
    "        pass\n",
    "\n",
    "    @abstractmethod\n",
    "    def minvegNonvegSection(self):\n",
    "        pass"
   ]
  },
  {
   "cell_type": "code",
   "execution_count": 4,
   "id": "be3930ed",
   "metadata": {},
   "outputs": [],
   "source": [
    "class Aswathi(MCDonalds):\n",
    "    def mincapacity30(self):\n",
    "        print(\"We have seating capacity of 40.\")\n",
    "\n",
    "    def minparking(self):\n",
    "        print(\"we have maximum parking capacity of 400.\")\n",
    "\n",
    "    def minvegNonvegSection(self):\n",
    "        print(\"we prepare veg and non-veg seperately.\")\n",
    "\n",
    "    def newBurger(self):\n",
    "        print(\"Hey!!, this is a new burger.\")"
   ]
  },
  {
   "cell_type": "code",
   "execution_count": 5,
   "id": "7ff89b73",
   "metadata": {},
   "outputs": [],
   "source": [
    "mcd_new = Aswathi()"
   ]
  },
  {
   "cell_type": "code",
   "execution_count": 6,
   "metadata": {},
   "outputs": [
    {
     "name": "stdout",
     "output_type": "stream",
     "text": [
      "Hey!!, this is a new burger.\n"
     ]
    }
   ],
   "source": [
    "mcd_new.newBurger()"
   ]
  },
  {
   "cell_type": "markdown",
   "id": "c0a1a5cc",
   "metadata": {},
   "source": [
    "F String"
   ]
  },
  {
   "cell_type": "markdown",
   "id": "c689c0fd",
   "metadata": {},
   "source": [
    "Task is to print 2 X 1 = 2"
   ]
  },
  {
   "cell_type": "code",
   "execution_count": null,
   "id": "a9288660",
   "metadata": {},
   "outputs": [],
   "source": [
    "table_of=2\n",
    "range_of=1\n",
    "res=table_of*range_of"
   ]
  },
  {
   "cell_type": "code",
   "execution_count": 16,
   "id": "f9e743a1",
   "metadata": {},
   "outputs": [
    {
     "name": "stdout",
     "output_type": "stream",
     "text": [
      "2 X 1 = 2\n"
     ]
    }
   ],
   "source": [
    "test_string1 = str(table_of) + \" X \" + str(range_of) + \" = \" + str(res)\n",
    "print(test_string1)\n"
   ]
  },
  {
   "cell_type": "code",
   "execution_count": 17,
   "id": "e15de940",
   "metadata": {},
   "outputs": [
    {
     "data": {
      "text/plain": [
       "'2 X 1 = 2'"
      ]
     },
     "execution_count": 17,
     "metadata": {},
     "output_type": "execute_result"
    }
   ],
   "source": [
    "f\"{table_of} X 1 = 2\""
   ]
  },
  {
   "cell_type": "code",
   "execution_count": 18,
   "id": "bfdb88cd",
   "metadata": {},
   "outputs": [
    {
     "name": "stdout",
     "output_type": "stream",
     "text": [
      "2 X 1 = 2\n"
     ]
    }
   ],
   "source": [
    "test_string2=f\"{table_of} X 1 = 2\"\n",
    "print(test_string2)"
   ]
  },
  {
   "cell_type": "code",
   "execution_count": null,
   "id": "7d3a31ce",
   "metadata": {},
   "outputs": [],
   "source": []
  },
  {
   "cell_type": "code",
   "execution_count": null,
   "id": "4e5a6b7c",
   "metadata": {},
   "outputs": [],
   "source": []
  },
  {
   "cell_type": "code",
   "execution_count": null,
   "id": "227cabea",
   "metadata": {},
   "outputs": [],
   "source": []
  },
  {
   "cell_type": "code",
   "execution_count": null,
   "id": "b8716f64",
   "metadata": {},
   "outputs": [],
   "source": []
  },
  {
   "cell_type": "code",
   "execution_count": null,
   "id": "4e934ef8",
   "metadata": {},
   "outputs": [],
   "source": []
  },
  {
   "cell_type": "code",
   "execution_count": null,
   "id": "2e429653",
   "metadata": {},
   "outputs": [],
   "source": []
  },
  {
   "cell_type": "code",
   "execution_count": null,
   "id": "2278a218",
   "metadata": {},
   "outputs": [],
   "source": []
  },
  {
   "cell_type": "code",
   "execution_count": null,
   "id": "925d957c",
   "metadata": {},
   "outputs": [],
   "source": []
  },
  {
   "cell_type": "code",
   "execution_count": null,
   "id": "1f76e93d",
   "metadata": {},
   "outputs": [],
   "source": []
  },
  {
   "cell_type": "code",
   "execution_count": null,
   "id": "02ea826e",
   "metadata": {},
   "outputs": [],
   "source": []
  },
  {
   "cell_type": "code",
   "execution_count": null,
   "id": "c11e9b54",
   "metadata": {},
   "outputs": [],
   "source": []
  }
 ],
 "metadata": {
  "kernelspec": {
   "display_name": "Python 3",
   "language": "python",
   "name": "python3"
  },
  "language_info": {
   "codemirror_mode": {
    "name": "ipython",
    "version": 3
   },
   "file_extension": ".py",
   "mimetype": "text/x-python",
   "name": "python",
   "nbconvert_exporter": "python",
   "pygments_lexer": "ipython3",
   "version": "3.12.0"
  }
 },
 "nbformat": 4,
 "nbformat_minor": 5
}
