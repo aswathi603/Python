{
 "cells": [
  {
   "cell_type": "code",
   "execution_count": 3,
   "id": "2a9149d7",
   "metadata": {},
   "outputs": [
    {
     "data": {
      "text/plain": [
       "\"\\nfrom Hospital.admission.utils import add\\n\\nModuleNotFoundError                       Traceback (most recent call last)\\nCell In[2], line 1\\n----> 1 from Hospital.admission.utils import add\\n\\nModuleNotFoundError: No module named 'Hospital'\\n\\n\""
      ]
     },
     "execution_count": 3,
     "metadata": {},
     "output_type": "execute_result"
    }
   ],
   "source": [
    "'''\n",
    "from Hospital.admission.utils import add\n",
    "\n",
    "ModuleNotFoundError                       Traceback (most recent call last)\n",
    "Cell In[2], line 1\n",
    "----> 1 from Hospital.admission.utils import add\n",
    "\n",
    "ModuleNotFoundError: No module named 'Hospital'\n",
    "\n",
    "'''"
   ]
  },
  {
   "cell_type": "code",
   "execution_count": 4,
   "id": "683599e9",
   "metadata": {},
   "outputs": [],
   "source": [
    "import sys \n",
    "import os"
   ]
  },
  {
   "cell_type": "code",
   "execution_count": 5,
   "id": "29ab094c",
   "metadata": {},
   "outputs": [],
   "source": [
    "sys.path.append(\"D:/Krish Naik Ultimate Data Science RoadMAp Python/Python/03-05-2025/Hospital\")"
   ]
  },
  {
   "cell_type": "code",
   "execution_count": 7,
   "id": "5f8b9696",
   "metadata": {},
   "outputs": [],
   "source": [
    "# from Hospital.admission.utils import add\n",
    "\n",
    "# ---------------------------------------------------------------------------\n",
    "# ModuleNotFoundError                       Traceback (most recent call last)\n",
    "# Cell In[6], line 1\n",
    "# ----> 1 from Hospital.admission.utils import add\n",
    "\n",
    "# ModuleNotFoundError: No module named 'Hospital'"
   ]
  },
  {
   "cell_type": "code",
   "execution_count": null,
   "id": "c2e21cb8",
   "metadata": {},
   "outputs": [],
   "source": [
    "# we have to go inside the folder not into the  module itself to get it \n",
    "\n",
    "sys.path.append(\"D:/Krish Naik Ultimate Data Science RoadMAp Python/Python/03-05-2025\")"
   ]
  },
  {
   "cell_type": "code",
   "execution_count": 9,
   "id": "adbee944",
   "metadata": {},
   "outputs": [],
   "source": [
    "from Hospital.admission.utils import add"
   ]
  },
  {
   "cell_type": "code",
   "execution_count": 11,
   "id": "53991489",
   "metadata": {},
   "outputs": [
    {
     "data": {
      "text/plain": [
       "'d:\\\\Krish Naik Ultimate Data Science RoadMAp Python\\\\Python\\\\03-05-2025\\\\dummy'"
      ]
     },
     "execution_count": 11,
     "metadata": {},
     "output_type": "execute_result"
    }
   ],
   "source": [
    "os.path.abspath(\".\")"
   ]
  },
  {
   "cell_type": "code",
   "execution_count": 12,
   "id": "ebc11a17",
   "metadata": {},
   "outputs": [
    {
     "data": {
      "text/plain": [
       "'d:\\\\Krish Naik Ultimate Data Science RoadMAp Python\\\\Python\\\\03-05-2025'"
      ]
     },
     "execution_count": 12,
     "metadata": {},
     "output_type": "execute_result"
    }
   ],
   "source": [
    "os.path.abspath(\"..\")"
   ]
  },
  {
   "cell_type": "code",
   "execution_count": 13,
   "id": "bcb5ee4b",
   "metadata": {},
   "outputs": [
    {
     "data": {
      "text/plain": [
       "'d:\\\\Krish Naik Ultimate Data Science RoadMAp Python\\\\Python'"
      ]
     },
     "execution_count": 13,
     "metadata": {},
     "output_type": "execute_result"
    }
   ],
   "source": [
    "os.path.abspath(\"../..\")"
   ]
  },
  {
   "cell_type": "code",
   "execution_count": 14,
   "id": "a8db63a6",
   "metadata": {},
   "outputs": [
    {
     "data": {
      "text/plain": [
       "'d:\\\\Krish Naik Ultimate Data Science RoadMAp Python'"
      ]
     },
     "execution_count": 14,
     "metadata": {},
     "output_type": "execute_result"
    }
   ],
   "source": [
    "os.path.abspath(\"../../..\")"
   ]
  },
  {
   "cell_type": "code",
   "execution_count": 15,
   "id": "e150cf08",
   "metadata": {},
   "outputs": [
    {
     "data": {
      "text/plain": [
       "'d:\\\\'"
      ]
     },
     "execution_count": 15,
     "metadata": {},
     "output_type": "execute_result"
    }
   ],
   "source": [
    "os.path.abspath(\"../../../..\")"
   ]
  },
  {
   "cell_type": "code",
   "execution_count": null,
   "id": "cbdbf257",
   "metadata": {},
   "outputs": [],
   "source": []
  },
  {
   "cell_type": "code",
   "execution_count": null,
   "id": "c3b9fb7c",
   "metadata": {},
   "outputs": [],
   "source": []
  },
  {
   "cell_type": "code",
   "execution_count": null,
   "id": "07271450",
   "metadata": {},
   "outputs": [],
   "source": []
  },
  {
   "cell_type": "code",
   "execution_count": null,
   "id": "9e0553d0",
   "metadata": {},
   "outputs": [],
   "source": []
  }
 ],
 "metadata": {
  "kernelspec": {
   "display_name": "Python 3",
   "language": "python",
   "name": "python3"
  },
  "language_info": {
   "codemirror_mode": {
    "name": "ipython",
    "version": 3
   },
   "file_extension": ".py",
   "mimetype": "text/x-python",
   "name": "python",
   "nbconvert_exporter": "python",
   "pygments_lexer": "ipython3",
   "version": "3.12.0"
  }
 },
 "nbformat": 4,
 "nbformat_minor": 5
}
