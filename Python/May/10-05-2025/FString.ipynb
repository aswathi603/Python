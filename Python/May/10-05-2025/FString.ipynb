{
 "cells": [
  {
   "cell_type": "code",
   "execution_count": 1,
   "id": "b4bca52f",
   "metadata": {},
   "outputs": [],
   "source": [
    "# F String "
   ]
  },
  {
   "cell_type": "code",
   "execution_count": 2,
   "id": "19494df0",
   "metadata": {},
   "outputs": [],
   "source": [
    "name = \"Aswathi\""
   ]
  },
  {
   "cell_type": "code",
   "execution_count": 5,
   "id": "69e94963",
   "metadata": {},
   "outputs": [
    {
     "name": "stdout",
     "output_type": "stream",
     "text": [
      "Hello how are you, Aswathi \n"
     ]
    }
   ],
   "source": [
    "print(f\"Hello how are you, {name} \")"
   ]
  },
  {
   "cell_type": "code",
   "execution_count": 6,
   "id": "4a2642ce",
   "metadata": {},
   "outputs": [],
   "source": [
    "pi=3.1415926535"
   ]
  },
  {
   "cell_type": "code",
   "execution_count": 11,
   "id": "ef6b3d6b",
   "metadata": {},
   "outputs": [
    {
     "name": "stdout",
     "output_type": "stream",
     "text": [
      "The value of Pi is : 3.14\n"
     ]
    }
   ],
   "source": [
    "print(f\"The value of Pi is : {pi:.2f}\")  #two point precision"
   ]
  },
  {
   "cell_type": "code",
   "execution_count": 13,
   "id": "e42f025c",
   "metadata": {},
   "outputs": [
    {
     "name": "stdout",
     "output_type": "stream",
     "text": [
      "The first person name is : Arjun, second person name : Aswathi, third person name is : Veena, fourth person name is : Narayanan\n"
     ]
    }
   ],
   "source": [
    "name1 = \"Arjun\"\n",
    "name2 = \"Aswathi\"\n",
    "name3 = \"Veena\"\n",
    "name4 = \"Narayanan\"\n",
    "\n",
    "print(f\"The first person name is : {name1}, second person name : {name2}, third person name is : {name3}, fourth person name is : {name4}\")"
   ]
  },
  {
   "cell_type": "code",
   "execution_count": 14,
   "id": "573657b9",
   "metadata": {},
   "outputs": [
    {
     "name": "stdout",
     "output_type": "stream",
     "text": [
      "The first person name is : Arjun, second person name : Veena, third person name is : Narayanan, fourth person name is : Aswathi\n"
     ]
    }
   ],
   "source": [
    "print(\"The first person name is : {a}, second person name : {b}, third person name is : {c}, fourth person name is : {d}\".format(a = \"Arjun\", b = \"Veena\", c = \"Narayanan\", d = \"Aswathi\"))"
   ]
  },
  {
   "cell_type": "code",
   "execution_count": null,
   "id": "400a677f",
   "metadata": {},
   "outputs": [],
   "source": []
  },
  {
   "cell_type": "code",
   "execution_count": null,
   "id": "757788e9",
   "metadata": {},
   "outputs": [],
   "source": []
  },
  {
   "cell_type": "code",
   "execution_count": null,
   "id": "eb0244f8",
   "metadata": {},
   "outputs": [],
   "source": []
  },
  {
   "cell_type": "code",
   "execution_count": null,
   "id": "1a9afb34",
   "metadata": {},
   "outputs": [],
   "source": []
  },
  {
   "cell_type": "code",
   "execution_count": null,
   "id": "79c9d6a4",
   "metadata": {},
   "outputs": [],
   "source": []
  },
  {
   "cell_type": "code",
   "execution_count": null,
   "id": "49cc2bd0",
   "metadata": {},
   "outputs": [],
   "source": []
  }
 ],
 "metadata": {
  "kernelspec": {
   "display_name": "Python 3",
   "language": "python",
   "name": "python3"
  },
  "language_info": {
   "codemirror_mode": {
    "name": "ipython",
    "version": 3
   },
   "file_extension": ".py",
   "mimetype": "text/x-python",
   "name": "python",
   "nbconvert_exporter": "python",
   "pygments_lexer": "ipython3",
   "version": "3.12.0"
  }
 },
 "nbformat": 4,
 "nbformat_minor": 5
}
