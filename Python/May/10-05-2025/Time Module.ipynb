{
 "cells": [
  {
   "cell_type": "code",
   "execution_count": null,
   "id": "3a8c6076",
   "metadata": {},
   "outputs": [],
   "source": [
    "## Time Module \n",
    "\n",
    "## It gives us time related functions \n",
    "'''\n",
    "\n",
    "\n",
    "'''"
   ]
  },
  {
   "cell_type": "code",
   "execution_count": null,
   "id": "d3cb763c",
   "metadata": {},
   "outputs": [],
   "source": [
    "\"2025-10-05\" # YYYY-DD-MM\n",
    "\"08:13:00 IST\" #Indian Standard Time\n",
    "\"09:47 AM CST\"\n",
    "\"10:47 AM ET\"\n",
    "\"UTC\" #Universal Time Coordinated  ## Jan 1,1970\n",
    "\n",
    "\n",
    "\"2PM\" #--> 12 HOURS FORMAT\n",
    "\"14\"  #--> 24 HOURS FORMAT\n",
    "\n"
   ]
  },
  {
   "cell_type": "code",
   "execution_count": 20,
   "id": "89ecd86d",
   "metadata": {},
   "outputs": [],
   "source": [
    "import time"
   ]
  },
  {
   "cell_type": "code",
   "execution_count": 5,
   "id": "6f3a98c6",
   "metadata": {},
   "outputs": [
    {
     "name": "stdout",
     "output_type": "stream",
     "text": [
      "1747928568.3130896\n"
     ]
    }
   ],
   "source": [
    "print(time.time())"
   ]
  },
  {
   "cell_type": "code",
   "execution_count": 6,
   "id": "da31ef04",
   "metadata": {},
   "outputs": [
    {
     "name": "stdout",
     "output_type": "stream",
     "text": [
      "Thu May 22 21:13:01 2025\n"
     ]
    }
   ],
   "source": [
    "print(time.ctime())"
   ]
  },
  {
   "cell_type": "code",
   "execution_count": 7,
   "id": "343d75c9",
   "metadata": {},
   "outputs": [
    {
     "name": "stdout",
     "output_type": "stream",
     "text": [
      "time.struct_time(tm_year=2025, tm_mon=5, tm_mday=22, tm_hour=21, tm_min=13, tm_sec=17, tm_wday=3, tm_yday=142, tm_isdst=0)\n"
     ]
    }
   ],
   "source": [
    "print(time.localtime())"
   ]
  },
  {
   "cell_type": "code",
   "execution_count": 8,
   "id": "fe7280dc",
   "metadata": {},
   "outputs": [],
   "source": [
    "## tm_yday  --> day of the year\n",
    "## tm_wday  --> Week day"
   ]
  },
  {
   "cell_type": "code",
   "execution_count": 9,
   "id": "82a1e7ba",
   "metadata": {},
   "outputs": [
    {
     "name": "stdout",
     "output_type": "stream",
     "text": [
      "1747928769.7813504\n"
     ]
    }
   ],
   "source": [
    "t1=time.time()\n",
    "print(t1)"
   ]
  },
  {
   "cell_type": "code",
   "execution_count": 10,
   "id": "721bcb6a",
   "metadata": {},
   "outputs": [
    {
     "name": "stdout",
     "output_type": "stream",
     "text": [
      "1747928779.1822844\n"
     ]
    }
   ],
   "source": [
    "t2=time.time()\n",
    "print(t2)"
   ]
  },
  {
   "cell_type": "code",
   "execution_count": 11,
   "id": "e897d95c",
   "metadata": {},
   "outputs": [
    {
     "data": {
      "text/plain": [
       "9.400933980941772"
      ]
     },
     "execution_count": 11,
     "metadata": {},
     "output_type": "execute_result"
    }
   ],
   "source": [
    "t2-t1"
   ]
  },
  {
   "cell_type": "code",
   "execution_count": 21,
   "id": "9830e4d7",
   "metadata": {},
   "outputs": [
    {
     "name": "stdout",
     "output_type": "stream",
     "text": [
      "time.struct_time(tm_year=2025, tm_mon=5, tm_mday=22, tm_hour=21, tm_min=35, tm_sec=7, tm_wday=3, tm_yday=142, tm_isdst=0)\n"
     ]
    }
   ],
   "source": [
    "print(time.localtime())"
   ]
  },
  {
   "cell_type": "code",
   "execution_count": 22,
   "id": "c98da4d1",
   "metadata": {},
   "outputs": [
    {
     "name": "stdout",
     "output_type": "stream",
     "text": [
      "<class 'time.struct_time'>\n"
     ]
    }
   ],
   "source": [
    "print(type(time.localtime()))"
   ]
  },
  {
   "cell_type": "code",
   "execution_count": 28,
   "id": "a069b9eb",
   "metadata": {},
   "outputs": [],
   "source": [
    "import time"
   ]
  },
  {
   "cell_type": "code",
   "execution_count": 32,
   "id": "b9541e26",
   "metadata": {},
   "outputs": [],
   "source": [
    "time1=time.localtime()"
   ]
  },
  {
   "cell_type": "code",
   "execution_count": 30,
   "id": "515cf248",
   "metadata": {},
   "outputs": [
    {
     "data": {
      "text/plain": [
       "21"
      ]
     },
     "execution_count": 30,
     "metadata": {},
     "output_type": "execute_result"
    }
   ],
   "source": [
    "time1.tm_hour"
   ]
  },
  {
   "cell_type": "code",
   "execution_count": 31,
   "id": "9f694e5c",
   "metadata": {},
   "outputs": [
    {
     "data": {
      "text/plain": [
       "'India Standard Time'"
      ]
     },
     "execution_count": 31,
     "metadata": {},
     "output_type": "execute_result"
    }
   ],
   "source": [
    "time1.tm_zone"
   ]
  },
  {
   "cell_type": "code",
   "execution_count": 33,
   "id": "ffd73246",
   "metadata": {},
   "outputs": [],
   "source": [
    "t3 =time.time()"
   ]
  },
  {
   "cell_type": "code",
   "execution_count": 35,
   "id": "fb3a5c83",
   "metadata": {},
   "outputs": [
    {
     "data": {
      "text/plain": [
       "0.4183551017443339"
      ]
     },
     "execution_count": 35,
     "metadata": {},
     "output_type": "execute_result"
    }
   ],
   "source": [
    "(t3-t1)/60/60"
   ]
  },
  {
   "cell_type": "markdown",
   "id": "97b815a6",
   "metadata": {},
   "source": [
    "time.strftime(format,t)"
   ]
  },
  {
   "cell_type": "code",
   "execution_count": null,
   "id": "8531e6f1",
   "metadata": {},
   "outputs": [
    {
     "name": "stdout",
     "output_type": "stream",
     "text": [
      "2025-43-05/22/25 21:43:45\n"
     ]
    }
   ],
   "source": [
    "## time.strftime(format,t)\n",
    "\n",
    "# %M - Minutes\n",
    "# %Y - Year - yyyy format\n",
    "# %D - Date\n",
    "# %H - Hour\n",
    "# %S - Seconds\n",
    "# %y - year - yy format\n",
    "\n",
    "print(time.strftime(\"%Y-%M-%D %H:%M:%S\",time.localtime()))"
   ]
  },
  {
   "cell_type": "code",
   "execution_count": null,
   "id": "92b2c2cd",
   "metadata": {},
   "outputs": [],
   "source": []
  },
  {
   "cell_type": "code",
   "execution_count": null,
   "id": "9148e8b0",
   "metadata": {},
   "outputs": [],
   "source": []
  },
  {
   "cell_type": "code",
   "execution_count": null,
   "id": "a17e84a5",
   "metadata": {},
   "outputs": [],
   "source": []
  },
  {
   "cell_type": "code",
   "execution_count": null,
   "id": "6ab4e797",
   "metadata": {},
   "outputs": [],
   "source": []
  },
  {
   "cell_type": "code",
   "execution_count": null,
   "id": "3d5517e6",
   "metadata": {},
   "outputs": [],
   "source": []
  },
  {
   "cell_type": "code",
   "execution_count": null,
   "id": "9ba90a8c",
   "metadata": {},
   "outputs": [],
   "source": []
  },
  {
   "cell_type": "code",
   "execution_count": null,
   "id": "daafd62e",
   "metadata": {},
   "outputs": [],
   "source": []
  },
  {
   "cell_type": "code",
   "execution_count": null,
   "id": "dabddaf9",
   "metadata": {},
   "outputs": [],
   "source": []
  },
  {
   "cell_type": "code",
   "execution_count": null,
   "id": "f45897ee",
   "metadata": {},
   "outputs": [],
   "source": []
  },
  {
   "cell_type": "code",
   "execution_count": null,
   "id": "678ff301",
   "metadata": {},
   "outputs": [],
   "source": []
  },
  {
   "cell_type": "code",
   "execution_count": null,
   "id": "41686a0a",
   "metadata": {},
   "outputs": [],
   "source": []
  },
  {
   "cell_type": "code",
   "execution_count": null,
   "id": "dea18bdf",
   "metadata": {},
   "outputs": [],
   "source": []
  },
  {
   "cell_type": "code",
   "execution_count": null,
   "id": "6c5e9e67",
   "metadata": {},
   "outputs": [],
   "source": []
  }
 ],
 "metadata": {
  "kernelspec": {
   "display_name": "Python 3",
   "language": "python",
   "name": "python3"
  },
  "language_info": {
   "codemirror_mode": {
    "name": "ipython",
    "version": 3
   },
   "file_extension": ".py",
   "mimetype": "text/x-python",
   "name": "python",
   "nbconvert_exporter": "python",
   "pygments_lexer": "ipython3",
   "version": "3.12.0"
  }
 },
 "nbformat": 4,
 "nbformat_minor": 5
}
