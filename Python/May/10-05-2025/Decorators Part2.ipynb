{
 "cells": [
  {
   "cell_type": "markdown",
   "id": "fcc7b3a9",
   "metadata": {},
   "source": [
    "## Decotrators"
   ]
  },
  {
   "cell_type": "markdown",
   "id": "80658f8f",
   "metadata": {},
   "source": [
    "Function that takes another function as input and return a  new function\n",
    "\n",
    "\n",
    "New function will have added functionality without modifying the original function code"
   ]
  },
  {
   "cell_type": "code",
   "execution_count": 1,
   "id": "7a4b1ded",
   "metadata": {},
   "outputs": [],
   "source": [
    "import time"
   ]
  },
  {
   "cell_type": "code",
   "execution_count": 5,
   "id": "37eae279",
   "metadata": {},
   "outputs": [],
   "source": [
    "# class Chatgpt:\n",
    "\n",
    "# "
   ]
  },
  {
   "cell_type": "code",
   "execution_count": 8,
   "id": "0501aeaa",
   "metadata": {},
   "outputs": [],
   "source": [
    "def research():\n",
    "    print(\"Start\")\n",
    "    time.sleep(5)\n",
    "    print(\"Complete\")"
   ]
  },
  {
   "cell_type": "code",
   "execution_count": 9,
   "id": "3e7a8a7c",
   "metadata": {},
   "outputs": [
    {
     "name": "stdout",
     "output_type": "stream",
     "text": [
      "Start\n",
      "Complete\n"
     ]
    }
   ],
   "source": [
    "research()"
   ]
  },
  {
   "cell_type": "code",
   "execution_count": 30,
   "id": "a2b11dd3",
   "metadata": {},
   "outputs": [
    {
     "name": "stdout",
     "output_type": "stream",
     "text": [
      "Hello\n"
     ]
    }
   ],
   "source": [
    "class A:\n",
    "    def printHello(self):\n",
    "        print(\"Hello\")\n",
    "\n",
    "def showHello(obj):\n",
    "    obj.printHello()\n",
    "\n",
    "a = A()\n",
    "showHello(a)\n"
   ]
  },
  {
   "cell_type": "code",
   "execution_count": 47,
   "id": "06ee0929",
   "metadata": {},
   "outputs": [],
   "source": [
    "def time_it(func):\n",
    "    def wrapper():\n",
    "        t1 = time.time()\n",
    "        print(f\"Time starts is : {t1} \")\n",
    "        # do something\n",
    "        func()\n",
    "        t2 = time.time()\n",
    "        print(f\"Time ends is : {t2}\")\n",
    "        t=t2-t1\n",
    "        print(f\"Total time taken is : {t} seconds\")\n",
    "    return wrapper"
   ]
  },
  {
   "cell_type": "code",
   "execution_count": 40,
   "id": "032211f9",
   "metadata": {},
   "outputs": [],
   "source": [
    "a = time_it(research)"
   ]
  },
  {
   "cell_type": "code",
   "execution_count": 41,
   "id": "b56ba6e8",
   "metadata": {},
   "outputs": [
    {
     "name": "stdout",
     "output_type": "stream",
     "text": [
      "Start\n",
      "Complete\n",
      "time taken is : 5.00087833404541 seconds\n"
     ]
    }
   ],
   "source": [
    "a()"
   ]
  },
  {
   "cell_type": "code",
   "execution_count": 48,
   "id": "ead44dc5",
   "metadata": {},
   "outputs": [],
   "source": [
    "# add =time_it(add)\n",
    "@time_it\n",
    "def add():\n",
    "    print(1+2)\n",
    "    time.sleep(10)\n",
    "    print(13+23)"
   ]
  },
  {
   "cell_type": "code",
   "execution_count": 49,
   "id": "7eb17eb6",
   "metadata": {},
   "outputs": [
    {
     "name": "stdout",
     "output_type": "stream",
     "text": [
      "Time starts is : 1747936486.1421812 \n",
      "3\n",
      "36\n",
      "Time ends is : 1747936496.143162\n",
      "Total time taken is : 10.000980854034424 seconds\n"
     ]
    }
   ],
   "source": [
    "add()"
   ]
  },
  {
   "cell_type": "code",
   "execution_count": 50,
   "id": "78fa096e",
   "metadata": {},
   "outputs": [],
   "source": [
    "def log_time_it(func):\n",
    "    def wrapper(*args):\n",
    "        t1 = time.time()\n",
    "        print(f\"Time starts is : {t1} seconds\")\n",
    "        # do something\n",
    "        func(*args)\n",
    "        t2 = time.time()\n",
    "        print(f\"Time ends is : {t2} seconds\")\n",
    "        t=t2-t1\n",
    "        print(f\"Total time taken is : {t} seconds\")\n",
    "    return wrapper"
   ]
  },
  {
   "cell_type": "code",
   "execution_count": 51,
   "id": "394cb1a5",
   "metadata": {},
   "outputs": [],
   "source": [
    "@log_time_it\n",
    "def add(a,b,d,e):\n",
    "    print(a+b)\n",
    "    print(a+d)\n",
    "    print(a+e)\n",
    "    print(d+e)"
   ]
  },
  {
   "cell_type": "code",
   "execution_count": 52,
   "id": "bc078a50",
   "metadata": {},
   "outputs": [
    {
     "name": "stdout",
     "output_type": "stream",
     "text": [
      "Time starts is : 1747936651.3102856 seconds\n",
      "6\n",
      "7\n",
      "4\n",
      "7\n",
      "Time ends is : 1747936651.3102856 seconds\n",
      "Total time taken is : 0.0 seconds\n"
     ]
    }
   ],
   "source": [
    "add(2,4,5,2)"
   ]
  },
  {
   "cell_type": "code",
   "execution_count": null,
   "id": "820e1d1b",
   "metadata": {},
   "outputs": [],
   "source": []
  },
  {
   "cell_type": "code",
   "execution_count": null,
   "id": "ecf78c59",
   "metadata": {},
   "outputs": [],
   "source": []
  },
  {
   "cell_type": "code",
   "execution_count": null,
   "id": "10b18f42",
   "metadata": {},
   "outputs": [],
   "source": []
  },
  {
   "cell_type": "code",
   "execution_count": null,
   "id": "f25ed249",
   "metadata": {},
   "outputs": [],
   "source": []
  },
  {
   "cell_type": "code",
   "execution_count": null,
   "id": "9d59f46a",
   "metadata": {},
   "outputs": [],
   "source": []
  },
  {
   "cell_type": "code",
   "execution_count": null,
   "id": "c170d932",
   "metadata": {},
   "outputs": [],
   "source": []
  },
  {
   "cell_type": "code",
   "execution_count": null,
   "id": "5aa560ba",
   "metadata": {},
   "outputs": [],
   "source": []
  },
  {
   "cell_type": "code",
   "execution_count": null,
   "id": "5547fee8",
   "metadata": {},
   "outputs": [],
   "source": []
  },
  {
   "cell_type": "code",
   "execution_count": null,
   "id": "fcb3db5e",
   "metadata": {},
   "outputs": [],
   "source": []
  },
  {
   "cell_type": "code",
   "execution_count": null,
   "id": "33b0dd84",
   "metadata": {},
   "outputs": [],
   "source": []
  },
  {
   "cell_type": "code",
   "execution_count": null,
   "id": "24c13776",
   "metadata": {},
   "outputs": [],
   "source": []
  },
  {
   "cell_type": "code",
   "execution_count": null,
   "id": "b607b18c",
   "metadata": {},
   "outputs": [],
   "source": []
  },
  {
   "cell_type": "code",
   "execution_count": null,
   "id": "94e906e9",
   "metadata": {},
   "outputs": [],
   "source": []
  },
  {
   "cell_type": "code",
   "execution_count": null,
   "id": "40d294f7",
   "metadata": {},
   "outputs": [],
   "source": []
  },
  {
   "cell_type": "code",
   "execution_count": null,
   "id": "dd8d787d",
   "metadata": {},
   "outputs": [],
   "source": []
  },
  {
   "cell_type": "code",
   "execution_count": null,
   "id": "38a18a99",
   "metadata": {},
   "outputs": [],
   "source": []
  }
 ],
 "metadata": {
  "kernelspec": {
   "display_name": "Python 3",
   "language": "python",
   "name": "python3"
  },
  "language_info": {
   "codemirror_mode": {
    "name": "ipython",
    "version": 3
   },
   "file_extension": ".py",
   "mimetype": "text/x-python",
   "name": "python",
   "nbconvert_exporter": "python",
   "pygments_lexer": "ipython3",
   "version": "3.12.0"
  }
 },
 "nbformat": 4,
 "nbformat_minor": 5
}
