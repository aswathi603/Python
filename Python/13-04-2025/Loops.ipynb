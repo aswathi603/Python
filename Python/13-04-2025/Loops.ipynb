{
 "cells": [
  {
   "cell_type": "code",
   "execution_count": 2,
   "id": "ca954d29",
   "metadata": {},
   "outputs": [],
   "source": [
    "foods=[\"AlloPratha\",\"Maggie\",\"Sandwich\"]"
   ]
  },
  {
   "cell_type": "code",
   "execution_count": 3,
   "id": "1d5c34db",
   "metadata": {},
   "outputs": [
    {
     "name": "stdout",
     "output_type": "stream",
     "text": [
      "AlloPratha\n",
      "Maggie\n",
      "Sandwich\n"
     ]
    }
   ],
   "source": [
    "for food  in foods:\n",
    "    print(food)"
   ]
  },
  {
   "cell_type": "code",
   "execution_count": 4,
   "id": "eced1850",
   "metadata": {},
   "outputs": [
    {
     "name": "stdout",
     "output_type": "stream",
     "text": [
      "Trvaresal Started:\n",
      "AlloPratha\n",
      "Maggie\n",
      "Sandwich\n",
      "Traversal Done\n",
      "Sandwich\n"
     ]
    }
   ],
   "source": [
    "print(\"Trvaresal Started:\")\n",
    "for i in foods:\n",
    "    print(i)\n",
    "print(\"Traversal Done\")\n",
    "print(i)\n"
   ]
  },
  {
   "cell_type": "code",
   "execution_count": 8,
   "id": "033a6a52",
   "metadata": {},
   "outputs": [
    {
     "name": "stdout",
     "output_type": "stream",
     "text": [
      "5 X  1  =  5\n",
      "5 X  2  =  10\n",
      "5 X  3  =  15\n",
      "5 X  4  =  20\n",
      "5 X  5  =  25\n",
      "5 X  6  =  30\n",
      "5 X  7  =  35\n",
      "5 X  8  =  40\n",
      "5 X  9  =  45\n",
      "5 X  10  =  50\n"
     ]
    }
   ],
   "source": [
    "table_Till=[1,2,3,4,5,6,7,8,9,10]\n",
    "\n",
    "for i in table_Till:\n",
    "    print( \"5 X \",i,\" = \",5*i)\n"
   ]
  },
  {
   "cell_type": "code",
   "execution_count": 12,
   "id": "838f807a",
   "metadata": {},
   "outputs": [
    {
     "name": "stdout",
     "output_type": "stream",
     "text": [
      "Odd Number:\n",
      "1\n",
      "3\n",
      "5\n",
      "7\n",
      "9\n",
      "11\n",
      "13\n",
      "15\n",
      "17\n",
      "19\n"
     ]
    }
   ],
   "source": [
    "print(\"Odd Number:\")\n",
    "for i in range(1,20,2):\n",
    "    print(i)"
   ]
  },
  {
   "cell_type": "code",
   "execution_count": 13,
   "id": "47550641",
   "metadata": {},
   "outputs": [
    {
     "name": "stdout",
     "output_type": "stream",
     "text": [
      "Even Number:\n",
      "0\n",
      "2\n",
      "4\n",
      "6\n",
      "8\n",
      "10\n",
      "12\n",
      "14\n",
      "16\n",
      "18\n"
     ]
    }
   ],
   "source": [
    "print(\"Even Number:\")\n",
    "for i in range(0,20,2):\n",
    "    print(i)"
   ]
  },
  {
   "cell_type": "code",
   "execution_count": 18,
   "id": "ca7aafc9",
   "metadata": {},
   "outputs": [
    {
     "name": "stdout",
     "output_type": "stream",
     "text": [
      "10\n",
      "8\n",
      "6\n",
      "4\n"
     ]
    }
   ],
   "source": [
    "for i in range(10,2,-2):\n",
    "    print(i)"
   ]
  },
  {
   "cell_type": "code",
   "execution_count": 19,
   "id": "893c2f11",
   "metadata": {},
   "outputs": [],
   "source": [
    "emp_details ={ \n",
    "               \"001\": [\"Aswathi\",\"India\"],\n",
    "               \"002\":[\"Sidharth\",\"USA\"],\n",
    "               \"003\":[\"Monal\",\"Canada\"]\n",
    "               }\n",
    "\n",
    "               "
   ]
  },
  {
   "cell_type": "code",
   "execution_count": 20,
   "id": "7aec16f2",
   "metadata": {},
   "outputs": [
    {
     "data": {
      "text/plain": [
       "dict_keys(['001', '002', '003'])"
      ]
     },
     "execution_count": 20,
     "metadata": {},
     "output_type": "execute_result"
    }
   ],
   "source": [
    "emp_details.keys()"
   ]
  },
  {
   "cell_type": "code",
   "execution_count": 23,
   "id": "387d3808",
   "metadata": {},
   "outputs": [
    {
     "name": "stdout",
     "output_type": "stream",
     "text": [
      "['Aswathi', 'India']\n",
      "['Sidharth', 'USA']\n",
      "['Monal', 'Canada']\n"
     ]
    }
   ],
   "source": [
    "for val in emp_details.keys():\n",
    "    print(emp_details[val])"
   ]
  },
  {
   "cell_type": "code",
   "execution_count": null,
   "id": "64362d20",
   "metadata": {},
   "outputs": [],
   "source": [
    "#Nested for Loops \n",
    "\n",
    "'''\n",
    "*\n",
    "**\n",
    "***\n",
    "****\n",
    "*****\n",
    "******\n",
    "'''\n"
   ]
  },
  {
   "cell_type": "code",
   "execution_count": 33,
   "id": "9a9df999",
   "metadata": {},
   "outputs": [
    {
     "name": "stdout",
     "output_type": "stream",
     "text": [
      "\n",
      "*\n",
      "**\n",
      "***\n",
      "****\n",
      "*****\n",
      "******\n"
     ]
    }
   ],
   "source": [
    "for i in range(1):\n",
    "    for j in range(7):\n",
    "        print(\"*\" * j)\n",
    "    # print()\n"
   ]
  },
  {
   "cell_type": "code",
   "execution_count": 27,
   "id": "6af73ea3",
   "metadata": {},
   "outputs": [
    {
     "name": "stdout",
     "output_type": "stream",
     "text": [
      "Hello Hi\n"
     ]
    }
   ],
   "source": [
    "# Seperated by comma will  will seprate thting \n",
    "print(\"Hello\",\"Hi\")"
   ]
  },
  {
   "cell_type": "code",
   "execution_count": 29,
   "id": "7dc7dd71",
   "metadata": {},
   "outputs": [
    {
     "name": "stdout",
     "output_type": "stream",
     "text": [
      "Hello,Hi\n"
     ]
    }
   ],
   "source": [
    "print(\"Hello\",end=\",\")\n",
    "print(\"Hi\")"
   ]
  },
  {
   "cell_type": "code",
   "execution_count": 28,
   "id": "88731737",
   "metadata": {},
   "outputs": [
    {
     "name": "stdout",
     "output_type": "stream",
     "text": [
      "Hello/Hi\n"
     ]
    }
   ],
   "source": [
    "print(\"Hello\",end=\"/\")\n",
    "print(\"Hi\")"
   ]
  },
  {
   "cell_type": "code",
   "execution_count": 31,
   "id": "60b35eab",
   "metadata": {},
   "outputs": [
    {
     "name": "stdout",
     "output_type": "stream",
     "text": [
      "Hello\tHi\n"
     ]
    }
   ],
   "source": [
    "print(\"Hello\",end=\"\\t\")\n",
    "print(\"Hi\")"
   ]
  },
  {
   "cell_type": "code",
   "execution_count": 32,
   "id": "4bae0aa5",
   "metadata": {},
   "outputs": [
    {
     "name": "stdout",
     "output_type": "stream",
     "text": [
      "Hello Hi\n"
     ]
    }
   ],
   "source": [
    "print(\"Hello\",end=\" \")\n",
    "print(\"Hi\")"
   ]
  },
  {
   "cell_type": "code",
   "execution_count": 37,
   "id": "7c50f5f7",
   "metadata": {},
   "outputs": [
    {
     "name": "stdout",
     "output_type": "stream",
     "text": [
      "Hello hi 1 2 Hoiii\n",
      "se\n"
     ]
    }
   ],
   "source": [
    "print(\"Hello\",\"hi\",1,2,end=\" \")\n",
    "print(\"Hoiii\")\n",
    "print(\"se\")"
   ]
  },
  {
   "cell_type": "code",
   "execution_count": null,
   "metadata": {},
   "outputs": [],
   "source": [
    "'''\n",
    "*\n",
    "***\n",
    "*****\n",
    "'''"
   ]
  },
  {
   "cell_type": "code",
   "execution_count": 38,
   "id": "9dee84bf",
   "metadata": {},
   "outputs": [
    {
     "name": "stdout",
     "output_type": "stream",
     "text": [
      "*\n",
      "***\n",
      "*****\n"
     ]
    }
   ],
   "source": [
    "for i in range(1):\n",
    "    for j in range(1,7,2):\n",
    "        print(\"*\"* j)"
   ]
  },
  {
   "cell_type": "code",
   "execution_count": null,
   "id": "c985431f",
   "metadata": {},
   "outputs": [],
   "source": [
    "'''\n",
    "--*\n",
    "-**\n",
    "***\n",
    "\n",
    "'''"
   ]
  },
  {
   "cell_type": "code",
   "execution_count": 82,
   "id": "8f0616c0",
   "metadata": {},
   "outputs": [
    {
     "name": "stdout",
     "output_type": "stream",
     "text": [
      "--*\n",
      "-**\n",
      "***\n"
     ]
    }
   ],
   "source": [
    "n=int(input())\n",
    "for i in range (1):\n",
    "    for j in range(1,4):\n",
    "        a=\"-\"* (n-j)\n",
    "        b=\"*\"*j\n",
    "        print(a+b)"
   ]
  },
  {
   "cell_type": "code",
   "execution_count": null,
   "id": "1eacff5a",
   "metadata": {},
   "outputs": [],
   "source": [
    "'''\n",
    "--*\n",
    "-**\n",
    "***\n",
    "\n",
    "'''"
   ]
  },
  {
   "cell_type": "code",
   "execution_count": 73,
   "id": "b35e664b",
   "metadata": {},
   "outputs": [
    {
     "name": "stdout",
     "output_type": "stream",
     "text": [
      "--*\n",
      "-**\n",
      "***\n"
     ]
    }
   ],
   "source": [
    "max=3\n",
    "for i in range(2,-1,-1):\n",
    "    print(i*\"-\",end=\"\")\n",
    "    print((max-i)*\"*\")\n"
   ]
  },
  {
   "cell_type": "code",
   "execution_count": 85,
   "id": "2afb2932",
   "metadata": {},
   "outputs": [
    {
     "data": {
      "text/plain": [
       "'\\n--*\\n-**\\n***\\n'"
      ]
     },
     "execution_count": 85,
     "metadata": {},
     "output_type": "execute_result"
    }
   ],
   "source": [
    "'''\n",
    "--*\n",
    "-**\n",
    "***\n",
    "'''\n"
   ]
  },
  {
   "cell_type": "code",
   "execution_count": 86,
   "id": "fcbc3c43",
   "metadata": {},
   "outputs": [
    {
     "name": "stdout",
     "output_type": "stream",
     "text": [
      "--*\n",
      "-**\n",
      "***\n"
     ]
    }
   ],
   "source": [
    "max=3\n",
    "for i in range(1,max+1):\n",
    "    print('-' * (max - i) + '*' * i)"
   ]
  },
  {
   "cell_type": "code",
   "execution_count": 87,
   "id": "9b3da1b9",
   "metadata": {},
   "outputs": [
    {
     "name": "stdout",
     "output_type": "stream",
     "text": [
      "0\n",
      "-1\n",
      "-2\n",
      "-3\n",
      "-4\n",
      "-5\n",
      "-6\n",
      "-7\n",
      "-8\n",
      "-9\n"
     ]
    }
   ],
   "source": [
    "for i in range (0,-10,-1):\n",
    "    print(i)"
   ]
  },
  {
   "cell_type": "code",
   "execution_count": 97,
   "id": "1cf2392c",
   "metadata": {},
   "outputs": [
    {
     "name": "stdout",
     "output_type": "stream",
     "text": [
      "Student_ID :  1\n",
      "Student_ID :  2\n",
      "Student_ID :  3\n",
      "Student_ID :  4\n",
      "Student_ID :  5\n",
      "Student_ID :  7\n",
      "Student_ID :  8\n",
      "Student_ID :  9\n",
      "Student_ID :  10\n"
     ]
    }
   ],
   "source": [
    "# problem statement \n",
    "##There is a deafaulter which we don't want to include for the attendance \n",
    "# \n",
    "# Continue \n",
    "\n",
    "id=6\n",
    "for i in range(1,11):\n",
    "    if (i == id):\n",
    "        continue\n",
    "    print(\"Student_ID : \",i)"
   ]
  },
  {
   "cell_type": "code",
   "execution_count": 98,
   "id": "de34f05a",
   "metadata": {},
   "outputs": [
    {
     "name": "stdout",
     "output_type": "stream",
     "text": [
      "Student_ID :  1\n",
      "Student_ID :  3\n",
      "Student_ID :  4\n",
      "Student_ID :  6\n",
      "Student_ID :  7\n",
      "Student_ID :  9\n",
      "Student_ID :  10\n"
     ]
    }
   ],
   "source": [
    "\n",
    "id=[2,5,8]\n",
    "for i in range(1,11):\n",
    "    if i in id:\n",
    "        continue\n",
    "    print(\"Student_ID : \",i)"
   ]
  },
  {
   "cell_type": "code",
   "execution_count": 99,
   "id": "c71083bc",
   "metadata": {},
   "outputs": [
    {
     "name": "stdout",
     "output_type": "stream",
     "text": [
      "Student_ID :  1\n",
      "Student_ID :  2\n",
      "Student_ID :  3\n",
      "Student_ID :  4\n",
      "Student_ID :  5\n"
     ]
    }
   ],
   "source": [
    "\n",
    "id=6\n",
    "for i in range(1,11):\n",
    "    if (i == id):\n",
    "        break\n",
    "    print(\"Student_ID : \",i)"
   ]
  },
  {
   "cell_type": "code",
   "execution_count": 104,
   "id": "d170ced1",
   "metadata": {},
   "outputs": [
    {
     "name": "stdout",
     "output_type": "stream",
     "text": [
      "['Aswathi']\n",
      "['Shivangi']\n",
      "['Shiwani']\n",
      "['Pretti']\n",
      "['Anushka']\n",
      "['Pallavi']\n",
      "['Shika']\n"
     ]
    }
   ],
   "source": [
    "## Asignment 1\n",
    "\n",
    "student_details={\n",
    "                 1:\"Aswathi\",\n",
    "                 2:\"Snehal\",\n",
    "                 3:\"Shivangi\",\n",
    "                 4:\"Shiwani\",\n",
    "                 5:\"Sanjana\",\n",
    "                 6:\"Pretti\",\n",
    "                 7:\"Vashanvi\",\n",
    "                 8:\"Anushka\",\n",
    "                 9:\"Pallavi\",\n",
    "                 10:\"Shika\"\n",
    "                }\n",
    "listOfDefaulter=[2,5,7]\n",
    "\n",
    "for i in range(1,11):\n",
    "    if i in listOfDefaulter:\n",
    "        continue\n",
    "    print([student_details[i]])"
   ]
  },
  {
   "cell_type": "code",
   "execution_count": null,
   "id": "18e3fb73",
   "metadata": {},
   "outputs": [
    {
     "name": "stdout",
     "output_type": "stream",
     "text": [
      "******\n",
      "*****\n",
      "****\n",
      "***\n",
      "**\n",
      "*\n",
      "\n"
     ]
    }
   ],
   "source": [
    "max=7\n",
    "for i in range(1,8):\n",
    "    print(\"*\"*(max-i))\n",
    "\n",
    "\n"
   ]
  },
  {
   "cell_type": "code",
   "execution_count": null,
   "id": "b22cc6ff",
   "metadata": {},
   "outputs": [
    {
     "name": "stdout",
     "output_type": "stream",
     "text": [
      "      *\n",
      "     ***\n",
      "    *****\n",
      "   *******\n",
      "  *********\n",
      " ***********\n",
      "*************\n"
     ]
    }
   ],
   "source": [
    "#Assingment 2\n",
    "##Print the pyramid \n",
    "\n",
    "'''\n",
    "      *\n",
    "     ***\n",
    "    *****\n",
    "   *******\n",
    "  *********\n",
    " ***********\n",
    "*************\n",
    "\n",
    "'''\n",
    "max=7\n",
    "for i in range(1,8):\n",
    "    print(' '*(max-i)+'*'*(2*i-1))"
   ]
  },
  {
   "cell_type": "code",
   "execution_count": 116,
   "id": "49fbfa70",
   "metadata": {},
   "outputs": [
    {
     "name": "stdout",
     "output_type": "stream",
     "text": [
      "      * ------\n",
      "     *** -----\n",
      "    ***** ----\n",
      "   ******* ---\n",
      "  ********* --\n",
      " *********** -\n",
      "************* \n"
     ]
    }
   ],
   "source": [
    "#Assingment 3\n",
    "##Print the pyramid like this \n",
    "'''\n",
    "      *------\n",
    "     ***-----\n",
    "    *****----\n",
    "   *******---\n",
    "  *********--\n",
    " ***********-\n",
    "*************\n",
    "\n",
    "'''\n",
    "\n",
    "max=7\n",
    "for i in range(1,8):\n",
    "    print(' ' * ( max - i ) + '*' * (2 * i - 1) ,'-' * ( max - i ) )"
   ]
  },
  {
   "cell_type": "code",
   "execution_count": null,
   "id": "4cf46c87",
   "metadata": {},
   "outputs": [],
   "source": []
  },
  {
   "cell_type": "code",
   "execution_count": null,
   "id": "1d25c744",
   "metadata": {},
   "outputs": [],
   "source": []
  },
  {
   "cell_type": "code",
   "execution_count": null,
   "id": "bace8ed8",
   "metadata": {},
   "outputs": [],
   "source": []
  }
 ],
 "metadata": {
  "kernelspec": {
   "display_name": "Python 3",
   "language": "python",
   "name": "python3"
  },
  "language_info": {
   "codemirror_mode": {
    "name": "ipython",
    "version": 3
   },
   "file_extension": ".py",
   "mimetype": "text/x-python",
   "name": "python",
   "nbconvert_exporter": "python",
   "pygments_lexer": "ipython3",
   "version": "3.12.0"
  }
 },
 "nbformat": 4,
 "nbformat_minor": 5
}
