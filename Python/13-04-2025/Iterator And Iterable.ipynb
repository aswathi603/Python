{
 "cells": [
  {
   "cell_type": "code",
   "execution_count": 1,
   "id": "fcd601b1",
   "metadata": {},
   "outputs": [
    {
     "data": {
      "text/plain": [
       "<list_iterator at 0x1de50337d60>"
      ]
     },
     "execution_count": 1,
     "metadata": {},
     "output_type": "execute_result"
    }
   ],
   "source": [
    "food=[\"fastFood\",\"Homefood\",\"Snacks\"]\n",
    "iter(food)"
   ]
  },
  {
   "cell_type": "code",
   "execution_count": 9,
   "id": "15f96554",
   "metadata": {},
   "outputs": [],
   "source": [
    "iterables=iter(food)"
   ]
  },
  {
   "cell_type": "code",
   "execution_count": 10,
   "id": "abcf81dc",
   "metadata": {},
   "outputs": [
    {
     "name": "stdout",
     "output_type": "stream",
     "text": [
      "fastFood\n"
     ]
    }
   ],
   "source": [
    "print(next(iterables))\n"
   ]
  },
  {
   "cell_type": "code",
   "execution_count": 11,
   "id": "2a6fa66e",
   "metadata": {},
   "outputs": [
    {
     "name": "stdout",
     "output_type": "stream",
     "text": [
      "Homefood\n"
     ]
    }
   ],
   "source": [
    "print(next(iterables))"
   ]
  },
  {
   "cell_type": "code",
   "execution_count": 12,
   "id": "8b087e2a",
   "metadata": {},
   "outputs": [
    {
     "name": "stdout",
     "output_type": "stream",
     "text": [
      "Snacks\n"
     ]
    }
   ],
   "source": [
    "print(next(iterables))"
   ]
  },
  {
   "cell_type": "code",
   "execution_count": null,
   "id": "2211a476",
   "metadata": {},
   "outputs": [],
   "source": []
  },
  {
   "cell_type": "code",
   "execution_count": null,
   "id": "8a8a5941",
   "metadata": {},
   "outputs": [],
   "source": []
  },
  {
   "cell_type": "code",
   "execution_count": null,
   "id": "a03357c6",
   "metadata": {},
   "outputs": [],
   "source": []
  },
  {
   "cell_type": "code",
   "execution_count": null,
   "id": "01e500ed",
   "metadata": {},
   "outputs": [],
   "source": []
  },
  {
   "cell_type": "code",
   "execution_count": null,
   "id": "4e3a8722",
   "metadata": {},
   "outputs": [],
   "source": []
  }
 ],
 "metadata": {
  "kernelspec": {
   "display_name": "Python 3",
   "language": "python",
   "name": "python3"
  },
  "language_info": {
   "codemirror_mode": {
    "name": "ipython",
    "version": 3
   },
   "file_extension": ".py",
   "mimetype": "text/x-python",
   "name": "python",
   "nbconvert_exporter": "python",
   "pygments_lexer": "ipython3",
   "version": "3.12.0"
  }
 },
 "nbformat": 4,
 "nbformat_minor": 5
}
