{
 "cells": [
  {
   "cell_type": "code",
   "execution_count": 1,
   "metadata": {},
   "outputs": [
    {
     "name": "stdout",
     "output_type": "stream",
     "text": [
      "Welcome beautiful\n"
     ]
    }
   ],
   "source": [
    "name=\"Aswathi\"\n",
    "\n",
    "if name == \"Sidharth\":\n",
    "    print(\"Welcome Home Darling\")\n",
    "else:\n",
    "    print(\"Welcome beautiful\")"
   ]
  },
  {
   "cell_type": "code",
   "execution_count": 2,
   "metadata": {},
   "outputs": [
    {
     "name": "stdout",
     "output_type": "stream",
     "text": [
      "we are adding 2 numbers\n",
      "5\n"
     ]
    }
   ],
   "source": [
    "operationName=\"add\"\n",
    "\n",
    "if operationName==\"add\":\n",
    "    print(\"we are adding 2 numbers\")\n",
    "    print(2+3)\n",
    "else:\n",
    "    print(\"we are not adding anything\")\n"
   ]
  },
  {
   "cell_type": "code",
   "execution_count": 4,
   "metadata": {},
   "outputs": [
    {
     "name": "stdout",
     "output_type": "stream",
     "text": [
      "we are Subtraction 2 numbers\n",
      "-1\n"
     ]
    }
   ],
   "source": [
    "operationName=\"sub\"\n",
    "\n",
    "if operationName==\"add\":\n",
    "    print(\"we are Adding 2 numbers\")\n",
    "    print(2+3)\n",
    "elif operationName==\"sub\":\n",
    "    print(\"we are Subtraction 2 numbers\")\n",
    "    print(2-3)\n",
    "elif operationName==\"mul\":\n",
    "    print(\"we are Multiplication 2 numbers\")\n",
    "    print(2*3)\n",
    "elif operationName==\"div\":\n",
    "    print(\"we are Division 2 numbers\")\n",
    "    print(2/3)  \n",
    "\n",
    "else:\n",
    "    print(\"we are not doing anything\")"
   ]
  },
  {
   "cell_type": "code",
   "execution_count": 5,
   "metadata": {},
   "outputs": [
    {
     "name": "stdout",
     "output_type": "stream",
     "text": [
      "True\n",
      "Only one if statement only without else\n"
     ]
    }
   ],
   "source": [
    "a =20\n",
    "\n",
    "if a>10:\n",
    "    print(\"True\")\n",
    "print(\"Only one if statement only without else\")"
   ]
  },
  {
   "cell_type": "code",
   "execution_count": null,
   "metadata": {},
   "outputs": [],
   "source": [
    "operationName=\"sub\"\n",
    "\n",
    "if operationName==\"add\":\n",
    "    print(\"we are Adding 2 numbers\")\n",
    "    print(2+3)\n",
    "if operationName==\"sub\":\n",
    "    print(\"we are Subtraction 2 numbers\")\n",
    "    print(2-3)\n",
    "if operationName==\"mul\":\n",
    "    print(\"we are Multiplication 2 numbers\")\n",
    "    print(2*3)\n",
    "if operationName==\"div\":\n",
    "    print(\"we are Division 2 numbers\")\n",
    "    print(2/3) "
   ]
  },
  {
   "cell_type": "code",
   "execution_count": null,
   "metadata": {},
   "outputs": [
    {
     "name": "stdout",
     "output_type": "stream",
     "text": [
      "Go to Theme Park\n"
     ]
    }
   ],
   "source": [
    "money=int(input(\"Enter your money: \")) #350\n",
    "time=int(input(\"Enter the time: \"))   # 5\n",
    "\n",
    "if money > 200:\n",
    "    if time<7:\n",
    "        print(\"Go to Theme Park\")\n",
    "    else:\n",
    "        print(\"Go Home \")\n",
    "elif money < 200:\n",
    "    if time >7:\n",
    "        print(\"go to the Icecream parler\")\n",
    "    else:\n",
    "        print(\"Go to Beach\")\n",
    "else:\n",
    "    print(\"Do nothing\")   "
   ]
  },
  {
   "cell_type": "markdown",
   "metadata": {},
   "source": [
    "#### Nested If And Else:"
   ]
  },
  {
   "cell_type": "code",
   "execution_count": null,
   "metadata": {},
   "outputs": [],
   "source": [
    "Condition1= \"fruits\"\n",
    "condition2=\"apple\""
   ]
  },
  {
   "cell_type": "code",
   "execution_count": 2,
   "metadata": {},
   "outputs": [
    {
     "name": "stdout",
     "output_type": "stream",
     "text": [
      "Items is not avaliable:\n"
     ]
    }
   ],
   "source": [
    "answer1=input(\"Write the item you want to buy:\")\n",
    "answer2=input(\"Write the fruit you want to buy:\")\n",
    "\n",
    "if answer1 == \"fruit\":\n",
    "    if answer2 == \"apple\":\n",
    "        print(\"Task completed!\")\n",
    "    else:\n",
    "        print(\"Task is not completed.\")\n",
    "else:\n",
    "    print(\"Items is not avaliable:\")"
   ]
  },
  {
   "cell_type": "code",
   "execution_count": null,
   "metadata": {},
   "outputs": [],
   "source": []
  }
 ],
 "metadata": {
  "kernelspec": {
   "display_name": "Python 3",
   "language": "python",
   "name": "python3"
  },
  "language_info": {
   "codemirror_mode": {
    "name": "ipython",
    "version": 3
   },
   "file_extension": ".py",
   "mimetype": "text/x-python",
   "name": "python",
   "nbconvert_exporter": "python",
   "pygments_lexer": "ipython3",
   "version": "3.12.0"
  }
 },
 "nbformat": 4,
 "nbformat_minor": 2
}
