{
 "cells": [
  {
   "cell_type": "markdown",
   "id": "64321e47",
   "metadata": {},
   "source": [
    "### OOPS"
   ]
  },
  {
   "cell_type": "markdown",
   "id": "07bccc14",
   "metadata": {},
   "source": [
    "####  Functions and Methods"
   ]
  },
  {
   "cell_type": "code",
   "execution_count": 1,
   "id": "4ab3f8c1",
   "metadata": {},
   "outputs": [
    {
     "data": {
      "text/plain": [
       "<list_reverseiterator at 0x227ed19a500>"
      ]
     },
     "execution_count": 1,
     "metadata": {},
     "output_type": "execute_result"
    }
   ],
   "source": [
    "## function inside a class called \"Method\"\n",
    "\n",
    "## difference between a function and a method\n",
    "## function is a block of code that only runs when it is called\n",
    "## method is a function that is associated with an object\n",
    "\n",
    "# example\n",
    "list1=[1,2,4,5,6,7]\n",
    "list1.append(8) ## -> append is a method and it is actually a function inside list class\n",
    "\n",
    "str=\"heelo\"\n",
    "str1=str.upper() ## -> upper is a method and it is actually a function inside str class\n",
    "\n",
    "reversed(list1) ## -> reversed is a function \n"
   ]
  },
  {
   "cell_type": "markdown",
   "id": "0dcf6ac4",
   "metadata": {},
   "source": [
    "#### Class  And objects "
   ]
  },
  {
   "cell_type": "code",
   "execution_count": 3,
   "id": "fbc9358e",
   "metadata": {},
   "outputs": [
    {
     "name": "stdout",
     "output_type": "stream",
     "text": [
      "Hello, Alice!\n"
     ]
    }
   ],
   "source": [
    "# class\n",
    "# class is  a buleprint of an object \n",
    "# class is a collection of methods and attributes\n",
    "# class is a template for creating objects\n",
    "# class is a blueprint for creating objects\n",
    "\n",
    "#example\n",
    "class Method:\n",
    "    def __init__(self, name):\n",
    "        self.name = name\n",
    "    def greet(self):\n",
    "        print(\"Hello, \" + self.name + \"!\")\n",
    "\n",
    "# creating an object of the class\n",
    "obj = Method(\"Alice\")\n",
    "# calling the method\n",
    "obj.greet()  # Output: Hello, Alice!"
   ]
  },
  {
   "cell_type": "code",
   "execution_count": null,
   "id": "dc9970de",
   "metadata": {},
   "outputs": [],
   "source": []
  },
  {
   "cell_type": "code",
   "execution_count": null,
   "id": "944e4eba",
   "metadata": {},
   "outputs": [],
   "source": []
  },
  {
   "cell_type": "code",
   "execution_count": null,
   "id": "29252706",
   "metadata": {},
   "outputs": [],
   "source": []
  },
  {
   "cell_type": "code",
   "execution_count": null,
   "id": "fd6b9ab8",
   "metadata": {},
   "outputs": [],
   "source": []
  },
  {
   "cell_type": "code",
   "execution_count": null,
   "id": "3001211c",
   "metadata": {},
   "outputs": [],
   "source": []
  },
  {
   "cell_type": "code",
   "execution_count": null,
   "id": "465c4ba0",
   "metadata": {},
   "outputs": [],
   "source": []
  },
  {
   "cell_type": "code",
   "execution_count": null,
   "id": "b3e1f1e3",
   "metadata": {},
   "outputs": [],
   "source": []
  }
 ],
 "metadata": {
  "kernelspec": {
   "display_name": "Python 3",
   "language": "python",
   "name": "python3"
  },
  "language_info": {
   "codemirror_mode": {
    "name": "ipython",
    "version": 3
   },
   "file_extension": ".py",
   "mimetype": "text/x-python",
   "name": "python",
   "nbconvert_exporter": "python",
   "pygments_lexer": "ipython3",
   "version": "3.12.0"
  }
 },
 "nbformat": 4,
 "nbformat_minor": 5
}
