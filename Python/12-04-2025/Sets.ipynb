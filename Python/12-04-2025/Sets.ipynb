{
 "cells": [
  {
   "cell_type": "code",
   "execution_count": null,
   "id": "f689dc14",
   "metadata": {},
   "outputs": [],
   "source": [
    "##Sets\n",
    "#Unordered Collection of unique items "
   ]
  },
  {
   "cell_type": "code",
   "execution_count": 1,
   "id": "a6abbcb3",
   "metadata": {},
   "outputs": [
    {
     "name": "stdout",
     "output_type": "stream",
     "text": [
      "{1, 2, 3, 4, 5, 6}\n"
     ]
    }
   ],
   "source": [
    "a={1,2,3,4,5,6,6,3,2,3,4}\n",
    "print(a)"
   ]
  },
  {
   "cell_type": "code",
   "execution_count": 2,
   "id": "a2d4c3e7",
   "metadata": {},
   "outputs": [
    {
     "name": "stdout",
     "output_type": "stream",
     "text": [
      "{0, 1, 2, 3, 4, 5, 6}\n"
     ]
    }
   ],
   "source": [
    "a.add(0)\n",
    "print(a)"
   ]
  },
  {
   "cell_type": "code",
   "execution_count": 3,
   "id": "6229e7e7",
   "metadata": {},
   "outputs": [
    {
     "name": "stdout",
     "output_type": "stream",
     "text": [
      "[0, 2, 3, 5, 8, 16]\n"
     ]
    }
   ],
   "source": [
    "#Form lisst to set to list\n",
    "a=[2,3,16,8,0,3,2,5,2,5]\n",
    "\n",
    "#Method2\n",
    "a=set(a)\n",
    "a=list(a)\n",
    "\n",
    "#Method2\n",
    "a=list(set(a))\n",
    "\n",
    "print(a)"
   ]
  },
  {
   "cell_type": "code",
   "execution_count": 8,
   "id": "d5df8c21",
   "metadata": {},
   "outputs": [
    {
     "name": "stdout",
     "output_type": "stream",
     "text": [
      "[1, 34, 54, 23, 'Hello', 'hi']\n",
      "2117561948416\n"
     ]
    }
   ],
   "source": [
    "# extend( list)\n",
    "\n",
    "a = [1,34,54,23]\n",
    "b = [\"Hello\",\"hi\"]\n",
    "a= a +  b\n",
    "print(a)\n",
    "print(id(a))\n"
   ]
  },
  {
   "cell_type": "code",
   "execution_count": 10,
   "id": "c1fe6aeb",
   "metadata": {},
   "outputs": [
    {
     "name": "stdout",
     "output_type": "stream",
     "text": [
      "[1, 34, 54, 23, 'Hello', 'hi', 'Hello', 'hi', 'Hello', 'hi']\n",
      "2117561948416\n"
     ]
    }
   ],
   "source": [
    "a.extend(b)\n",
    "print(a)\n",
    "print(id(a))"
   ]
  },
  {
   "cell_type": "code",
   "execution_count": 11,
   "id": "bbd2e559",
   "metadata": {},
   "outputs": [
    {
     "name": "stdout",
     "output_type": "stream",
     "text": [
      "2117561896320\n",
      "2117561896320\n",
      "[1, 34, 54, 23, 'Hello', 'hi']\n"
     ]
    }
   ],
   "source": [
    "a = [1,34,54,23]\n",
    "b = [\"Hello\",\"hi\"]\n",
    "print(id(a))\n",
    "a.extend(b)\n",
    "print(id(a))\n",
    "print(a)"
   ]
  },
  {
   "cell_type": "code",
   "execution_count": 13,
   "id": "10a2bdfd",
   "metadata": {},
   "outputs": [
    {
     "name": "stdout",
     "output_type": "stream",
     "text": [
      "2117562446368\n",
      "2117562446368\n",
      "{1, 34, 54, 23, 'hi', 'Hello'}\n"
     ]
    }
   ],
   "source": [
    "a = {1,34,54,23}\n",
    "b = {\"Hello\",\"hi\"}\n",
    "print(id(a))\n",
    "a.update(b)\n",
    "print(id(a))\n",
    "print(a)\n"
   ]
  },
  {
   "cell_type": "code",
   "execution_count": null,
   "id": "8c278465",
   "metadata": {},
   "outputs": [],
   "source": []
  }
 ],
 "metadata": {
  "kernelspec": {
   "display_name": "Python 3",
   "language": "python",
   "name": "python3"
  },
  "language_info": {
   "codemirror_mode": {
    "name": "ipython",
    "version": 3
   },
   "file_extension": ".py",
   "mimetype": "text/x-python",
   "name": "python",
   "nbconvert_exporter": "python",
   "pygments_lexer": "ipython3",
   "version": "3.12.0"
  }
 },
 "nbformat": 4,
 "nbformat_minor": 5
}
