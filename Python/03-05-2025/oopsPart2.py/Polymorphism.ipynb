{
 "cells": [
  {
   "cell_type": "code",
   "execution_count": null,
   "id": "82922890",
   "metadata": {},
   "outputs": [],
   "source": [
    "# Polymorphism\n",
    "\n",
    "#  Same name ,differnt behaviour\n",
    "\n"
   ]
  },
  {
   "cell_type": "code",
   "execution_count": 3,
   "id": "c5447219",
   "metadata": {},
   "outputs": [
    {
     "data": {
      "text/plain": [
       "2"
      ]
     },
     "execution_count": 3,
     "metadata": {},
     "output_type": "execute_result"
    }
   ],
   "source": [
    "1+1"
   ]
  },
  {
   "cell_type": "code",
   "execution_count": 4,
   "id": "a23a5565",
   "metadata": {},
   "outputs": [
    {
     "data": {
      "text/plain": [
       "'11'"
      ]
     },
     "execution_count": 4,
     "metadata": {},
     "output_type": "execute_result"
    }
   ],
   "source": [
    "\"1\"+\"1\""
   ]
  },
  {
   "cell_type": "code",
   "execution_count": 5,
   "id": "566dc340",
   "metadata": {},
   "outputs": [],
   "source": [
    "class TV:\n",
    "    def turn_on(self):\n",
    "        print(\"TV is turned on!!\")\n",
    "\n",
    "class AC:\n",
    "    def turn_on(self):\n",
    "        print(\"Ac is Turned on.\")"
   ]
  },
  {
   "cell_type": "code",
   "execution_count": 6,
   "id": "c4144e1d",
   "metadata": {},
   "outputs": [],
   "source": [
    "tv=TV()\n",
    "ac=AC()"
   ]
  },
  {
   "cell_type": "code",
   "execution_count": 7,
   "id": "a322be32",
   "metadata": {},
   "outputs": [],
   "source": [
    "def activate(ele_object):\n",
    "    ele_object.turn_on()\n",
    "    "
   ]
  },
  {
   "cell_type": "code",
   "execution_count": 8,
   "id": "389d0aeb",
   "metadata": {},
   "outputs": [
    {
     "name": "stdout",
     "output_type": "stream",
     "text": [
      "TV is turned on!!\n"
     ]
    }
   ],
   "source": [
    "activate(tv)"
   ]
  },
  {
   "cell_type": "code",
   "execution_count": 9,
   "id": "8db47627",
   "metadata": {},
   "outputs": [
    {
     "name": "stdout",
     "output_type": "stream",
     "text": [
      "Ac is Turned on.\n"
     ]
    }
   ],
   "source": [
    "activate(ac)"
   ]
  },
  {
   "cell_type": "code",
   "execution_count": 13,
   "id": "15d9f628",
   "metadata": {},
   "outputs": [],
   "source": [
    "class TV:\n",
    "    def turn_on(self):\n",
    "        print(\"TV is turned on!!\")\n",
    "\n",
    "class AC(TV):\n",
    "    def turn_on(self):\n",
    "        print(\"Ac is Turned on.\")"
   ]
  },
  {
   "cell_type": "code",
   "execution_count": 15,
   "id": "edc32849",
   "metadata": {},
   "outputs": [],
   "source": [
    "tv = AC()"
   ]
  },
  {
   "cell_type": "code",
   "execution_count": 16,
   "id": "d3bcd35f",
   "metadata": {},
   "outputs": [
    {
     "name": "stdout",
     "output_type": "stream",
     "text": [
      "Ac is Turned on.\n"
     ]
    }
   ],
   "source": [
    "tv.turn_on()"
   ]
  },
  {
   "cell_type": "code",
   "execution_count": null,
   "id": "28425f24",
   "metadata": {},
   "outputs": [],
   "source": []
  },
  {
   "cell_type": "code",
   "execution_count": null,
   "id": "d2e68e4e",
   "metadata": {},
   "outputs": [],
   "source": []
  },
  {
   "cell_type": "code",
   "execution_count": null,
   "id": "8868d05d",
   "metadata": {},
   "outputs": [],
   "source": []
  },
  {
   "cell_type": "code",
   "execution_count": null,
   "id": "ad63bf74",
   "metadata": {},
   "outputs": [],
   "source": []
  },
  {
   "cell_type": "code",
   "execution_count": null,
   "id": "a2cd1a3e",
   "metadata": {},
   "outputs": [],
   "source": []
  },
  {
   "cell_type": "code",
   "execution_count": null,
   "id": "96b97e0c",
   "metadata": {},
   "outputs": [],
   "source": []
  },
  {
   "cell_type": "code",
   "execution_count": null,
   "id": "ad7449c7",
   "metadata": {},
   "outputs": [],
   "source": []
  },
  {
   "cell_type": "code",
   "execution_count": null,
   "id": "7f0cf7d7",
   "metadata": {},
   "outputs": [],
   "source": []
  },
  {
   "cell_type": "code",
   "execution_count": null,
   "id": "6f52a1c1",
   "metadata": {},
   "outputs": [],
   "source": []
  },
  {
   "cell_type": "code",
   "execution_count": null,
   "id": "d7233a54",
   "metadata": {},
   "outputs": [],
   "source": []
  },
  {
   "cell_type": "code",
   "execution_count": null,
   "id": "ea80a975",
   "metadata": {},
   "outputs": [],
   "source": []
  },
  {
   "cell_type": "code",
   "execution_count": null,
   "id": "1929466e",
   "metadata": {},
   "outputs": [],
   "source": []
  },
  {
   "cell_type": "code",
   "execution_count": null,
   "id": "13de67a6",
   "metadata": {},
   "outputs": [],
   "source": []
  },
  {
   "cell_type": "code",
   "execution_count": null,
   "id": "908d9dee",
   "metadata": {},
   "outputs": [],
   "source": []
  },
  {
   "cell_type": "code",
   "execution_count": null,
   "id": "bd3555cd",
   "metadata": {},
   "outputs": [],
   "source": []
  },
  {
   "cell_type": "code",
   "execution_count": null,
   "id": "b000f0c8",
   "metadata": {},
   "outputs": [],
   "source": []
  },
  {
   "cell_type": "code",
   "execution_count": null,
   "id": "7bcd977b",
   "metadata": {},
   "outputs": [],
   "source": []
  },
  {
   "cell_type": "code",
   "execution_count": null,
   "id": "bd3f126d",
   "metadata": {},
   "outputs": [],
   "source": []
  }
 ],
 "metadata": {
  "kernelspec": {
   "display_name": "Python 3",
   "language": "python",
   "name": "python3"
  },
  "language_info": {
   "codemirror_mode": {
    "name": "ipython",
    "version": 3
   },
   "file_extension": ".py",
   "mimetype": "text/x-python",
   "name": "python",
   "nbconvert_exporter": "python",
   "pygments_lexer": "ipython3",
   "version": "3.12.0"
  }
 },
 "nbformat": 4,
 "nbformat_minor": 5
}
