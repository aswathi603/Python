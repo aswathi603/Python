{
 "cells": [
  {
   "cell_type": "code",
   "execution_count": 2,
   "id": "1396f7cd",
   "metadata": {},
   "outputs": [],
   "source": [
    "## Encapsulation"
   ]
  },
  {
   "cell_type": "code",
   "execution_count": 5,
   "id": "a857b723",
   "metadata": {},
   "outputs": [],
   "source": [
    "class Bank:\n",
    "    def __init__(self, id, password):\n",
    "        self.id = id \n",
    "        self.password = password\n",
    "        self.amount = 0\n",
    "\n",
    "    def deposit(self,amount):\n",
    "        if amount>0:\n",
    "            self.amount+=amount\n",
    "\n",
    "    def get_balance(self):\n",
    "        print(\"Balance is : \",self.amount)"
   ]
  },
  {
   "cell_type": "code",
   "execution_count": 6,
   "id": "1aa66f03",
   "metadata": {},
   "outputs": [],
   "source": [
    "Ash_account =Bank(1, 3242342342)"
   ]
  },
  {
   "cell_type": "code",
   "execution_count": 7,
   "id": "098f369a",
   "metadata": {},
   "outputs": [
    {
     "name": "stdout",
     "output_type": "stream",
     "text": [
      "Balance is :  0\n"
     ]
    }
   ],
   "source": [
    "Ash_account.get_balance()"
   ]
  },
  {
   "cell_type": "code",
   "execution_count": 8,
   "id": "8e01fc0a",
   "metadata": {},
   "outputs": [],
   "source": [
    "Ash_account.deposit(232342)"
   ]
  },
  {
   "cell_type": "code",
   "execution_count": 9,
   "id": "347fc3de",
   "metadata": {},
   "outputs": [
    {
     "name": "stdout",
     "output_type": "stream",
     "text": [
      "Balance is :  232342\n"
     ]
    }
   ],
   "source": [
    "Ash_account.get_balance()"
   ]
  },
  {
   "cell_type": "code",
   "execution_count": 10,
   "id": "6ec8ff48",
   "metadata": {},
   "outputs": [
    {
     "data": {
      "text/plain": [
       "3242342342"
      ]
     },
     "execution_count": 10,
     "metadata": {},
     "output_type": "execute_result"
    }
   ],
   "source": [
    "Ash_account.password"
   ]
  },
  {
   "cell_type": "code",
   "execution_count": null,
   "id": "2bcbda20",
   "metadata": {},
   "outputs": [],
   "source": [
    "# To make the any variable use double underscore\n",
    "\n"
   ]
  },
  {
   "cell_type": "code",
   "execution_count": 17,
   "id": "c5c12655",
   "metadata": {},
   "outputs": [],
   "source": [
    "class Bank:\n",
    "    def __init__(self, id, password):\n",
    "        self.id = id \n",
    "        self.__password = password\n",
    "        self.amount = 0\n",
    "\n",
    "    def deposit(self,amount):\n",
    "        if amount>0:\n",
    "            self.amount+=amount\n",
    "\n",
    "    def get_balance(self):\n",
    "        print(\"Balance is : \",self.amount)"
   ]
  },
  {
   "cell_type": "code",
   "execution_count": 18,
   "id": "294aa826",
   "metadata": {},
   "outputs": [],
   "source": [
    "a = Bank(2, 23244342)"
   ]
  },
  {
   "cell_type": "code",
   "execution_count": 19,
   "id": "2b134aed",
   "metadata": {},
   "outputs": [],
   "source": [
    "a.deposit(47575)"
   ]
  },
  {
   "cell_type": "code",
   "execution_count": 20,
   "id": "07585308",
   "metadata": {},
   "outputs": [],
   "source": [
    "a.deposit(4557)"
   ]
  },
  {
   "cell_type": "code",
   "execution_count": 21,
   "id": "df491a25",
   "metadata": {},
   "outputs": [
    {
     "name": "stdout",
     "output_type": "stream",
     "text": [
      "Balance is :  52132\n"
     ]
    }
   ],
   "source": [
    "a.get_balance()"
   ]
  },
  {
   "cell_type": "code",
   "execution_count": null,
   "id": "0008c082",
   "metadata": {},
   "outputs": [
    {
     "ename": "AttributeError",
     "evalue": "'Bank' object has no attribute 'password'",
     "output_type": "error",
     "traceback": [
      "\u001b[1;31m---------------------------------------------------------------------------\u001b[0m",
      "\u001b[1;31mAttributeError\u001b[0m                            Traceback (most recent call last)",
      "Cell \u001b[1;32mIn[22], line 1\u001b[0m\n\u001b[1;32m----> 1\u001b[0m \u001b[43ma\u001b[49m\u001b[38;5;241;43m.\u001b[39;49m\u001b[43mpassword\u001b[49m\n",
      "\u001b[1;31mAttributeError\u001b[0m: 'Bank' object has no attribute 'password'"
     ]
    }
   ],
   "source": [
    "# a.password becuse password is aprivate variable"
   ]
  },
  {
   "cell_type": "code",
   "execution_count": 35,
   "id": "8af0e962",
   "metadata": {},
   "outputs": [],
   "source": [
    "class Bank:\n",
    "    def __init__(self, id, password):\n",
    "        self.id = id \n",
    "        self.__password = password\n",
    "        self.amount = 0\n",
    "\n",
    "    def deposit(self,amount):\n",
    "        if amount>0:\n",
    "            self.amount+=amount\n",
    "    \n",
    "    def get_password(self):\n",
    "        print(self.__password)\n",
    "\n",
    "    def checker_user_valid(self,id):\n",
    "        passed = self.__password\n",
    "        print(\"We are validating user \", self.id, \" and thier password \",passed)\n",
    "\n",
    "    def get_balance(self):\n",
    "        print(\"Balance is : \",self.amount)"
   ]
  },
  {
   "cell_type": "code",
   "execution_count": 36,
   "id": "2758bae1",
   "metadata": {},
   "outputs": [],
   "source": [
    "a = Bank(3,239543)"
   ]
  },
  {
   "cell_type": "code",
   "execution_count": 37,
   "id": "9dd12dd0",
   "metadata": {},
   "outputs": [],
   "source": [
    "# a.__password\n",
    "\n",
    "# # ---------------------------------------------------------------------------\n",
    "# # AttributeError                            Traceback (most recent call last)\n",
    "# # Cell In[24], line 1\n",
    "# # ----> 1 a.__password\n",
    "\n",
    "# # AttributeError: 'Bank' object has no attribute '__password'"
   ]
  },
  {
   "cell_type": "code",
   "execution_count": 38,
   "id": "84d02eb0",
   "metadata": {},
   "outputs": [
    {
     "name": "stdout",
     "output_type": "stream",
     "text": [
      "239543\n"
     ]
    }
   ],
   "source": [
    "a.get_password()"
   ]
  },
  {
   "cell_type": "code",
   "execution_count": 40,
   "id": "06d99fb1",
   "metadata": {},
   "outputs": [
    {
     "name": "stdout",
     "output_type": "stream",
     "text": [
      "We are validating user  3  and thier password  239543\n"
     ]
    }
   ],
   "source": [
    "a.checker_user_valid(2)"
   ]
  },
  {
   "cell_type": "code",
   "execution_count": null,
   "id": "f746ff14",
   "metadata": {},
   "outputs": [],
   "source": []
  },
  {
   "cell_type": "code",
   "execution_count": null,
   "id": "d606d9cf",
   "metadata": {},
   "outputs": [],
   "source": []
  },
  {
   "cell_type": "code",
   "execution_count": null,
   "id": "536791e3",
   "metadata": {},
   "outputs": [],
   "source": []
  },
  {
   "cell_type": "code",
   "execution_count": null,
   "id": "e47e1ee6",
   "metadata": {},
   "outputs": [],
   "source": []
  },
  {
   "cell_type": "code",
   "execution_count": null,
   "id": "1c56fb43",
   "metadata": {},
   "outputs": [],
   "source": []
  },
  {
   "cell_type": "code",
   "execution_count": null,
   "id": "357e55d5",
   "metadata": {},
   "outputs": [],
   "source": []
  },
  {
   "cell_type": "code",
   "execution_count": null,
   "id": "5b098424",
   "metadata": {},
   "outputs": [],
   "source": []
  },
  {
   "cell_type": "code",
   "execution_count": null,
   "id": "a3c68a31",
   "metadata": {},
   "outputs": [],
   "source": []
  },
  {
   "cell_type": "code",
   "execution_count": null,
   "id": "978d069d",
   "metadata": {},
   "outputs": [],
   "source": []
  },
  {
   "cell_type": "code",
   "execution_count": null,
   "id": "53e678b4",
   "metadata": {},
   "outputs": [],
   "source": []
  },
  {
   "cell_type": "code",
   "execution_count": null,
   "id": "f167ae46",
   "metadata": {},
   "outputs": [],
   "source": []
  },
  {
   "cell_type": "code",
   "execution_count": null,
   "id": "62f02d4f",
   "metadata": {},
   "outputs": [],
   "source": []
  },
  {
   "cell_type": "code",
   "execution_count": null,
   "id": "d76e4541",
   "metadata": {},
   "outputs": [],
   "source": []
  },
  {
   "cell_type": "code",
   "execution_count": null,
   "id": "94678300",
   "metadata": {},
   "outputs": [],
   "source": []
  },
  {
   "cell_type": "code",
   "execution_count": null,
   "id": "320886b9",
   "metadata": {},
   "outputs": [],
   "source": []
  }
 ],
 "metadata": {
  "kernelspec": {
   "display_name": "Python 3",
   "language": "python",
   "name": "python3"
  },
  "language_info": {
   "codemirror_mode": {
    "name": "ipython",
    "version": 3
   },
   "file_extension": ".py",
   "mimetype": "text/x-python",
   "name": "python",
   "nbconvert_exporter": "python",
   "pygments_lexer": "ipython3",
   "version": "3.12.0"
  }
 },
 "nbformat": 4,
 "nbformat_minor": 5
}
