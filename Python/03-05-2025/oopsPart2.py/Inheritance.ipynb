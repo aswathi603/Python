{
 "cells": [
  {
   "cell_type": "code",
   "execution_count": 2,
   "id": "7e68ce0b",
   "metadata": {},
   "outputs": [],
   "source": [
    "# Inheritance"
   ]
  },
  {
   "cell_type": "code",
   "execution_count": null,
   "id": "5a303f37",
   "metadata": {},
   "outputs": [],
   "source": [
    "## Without the inheritence \n",
    "class Speciallity:\n",
    "    def surgeon(self):\n",
    "        print(\"Surgeon Doctors.\")\n",
    "\n",
    "    def neuro(self):\n",
    "        print(\"Neuro Surgeon Doctors.\")\n",
    "\n",
    "class GeneralHospital():\n",
    "    def opd(self):\n",
    "        print(\"General Medicine Doctors.\")"
   ]
  },
  {
   "cell_type": "code",
   "execution_count": 9,
   "id": "106f4e7f",
   "metadata": {},
   "outputs": [],
   "source": [
    "genhos = GeneralHospital()"
   ]
  },
  {
   "cell_type": "code",
   "execution_count": 10,
   "id": "2af09f12",
   "metadata": {},
   "outputs": [
    {
     "name": "stdout",
     "output_type": "stream",
     "text": [
      "General Medicine Doctors.\n"
     ]
    }
   ],
   "source": [
    "genhos.opd()"
   ]
  },
  {
   "cell_type": "code",
   "execution_count": 11,
   "id": "d312dae5",
   "metadata": {},
   "outputs": [],
   "source": [
    "# genhos.surgeon()\n",
    "\n",
    "# without inheritance \n",
    "\n",
    "# AttributeError                            Traceback (most recent call last)\n",
    "# Cell In[7], line 1\n",
    "# ----> 1 genhos.surgeon()\n",
    "\n",
    "# AttributeError: 'GeneralHospital' object has no attribute 'surgeon'"
   ]
  },
  {
   "cell_type": "code",
   "execution_count": null,
   "id": "2a7abe90",
   "metadata": {},
   "outputs": [],
   "source": [
    "## With Inheritance \n",
    "\n",
    "class Speciallity:\n",
    "    def surgeon(self):\n",
    "        print(\"Surgeon Doctors.\")\n",
    "\n",
    "    def neuro(self):\n",
    "        print(\"Neuro Surgeon Doctors.\")\n",
    "\n",
    "class GeneralHospital(Speciallity):\n",
    "    def opd(self):\n",
    "        print(\"General Medicine Doctors.\")"
   ]
  },
  {
   "cell_type": "code",
   "execution_count": 13,
   "id": "e35b7ec6",
   "metadata": {},
   "outputs": [],
   "source": [
    "genhos1 = GeneralHospital()"
   ]
  },
  {
   "cell_type": "code",
   "execution_count": 14,
   "id": "b9d6972c",
   "metadata": {},
   "outputs": [
    {
     "name": "stdout",
     "output_type": "stream",
     "text": [
      "General Medicine Doctors.\n"
     ]
    }
   ],
   "source": [
    "genhos1.opd()"
   ]
  },
  {
   "cell_type": "code",
   "execution_count": 15,
   "id": "362039a4",
   "metadata": {},
   "outputs": [
    {
     "name": "stdout",
     "output_type": "stream",
     "text": [
      "Surgeon Doctors.\n"
     ]
    }
   ],
   "source": [
    "genhos1.surgeon()"
   ]
  },
  {
   "cell_type": "code",
   "execution_count": null,
   "id": "fbf1bce0",
   "metadata": {},
   "outputs": [],
   "source": [
    "##Cross Accessis not available if a class A and class B is inherit class A there is no vice versa it will be different code \n"
   ]
  },
  {
   "cell_type": "code",
   "execution_count": null,
   "id": "737870f4",
   "metadata": {},
   "outputs": [],
   "source": [
    "class Speciallity:\n",
    "    def surgeon(self):\n",
    "        print(\"Surgeon Doctors.\")\n",
    "\n",
    "    def neuro(self):\n",
    "        print(\"Neuro Surgeon Doctors.\")\n",
    "\n",
    "class GeneralHospital(Speciallity):\n",
    "    def opd(self):\n",
    "        print(\"General Medicine Doctors.\")\n",
    "\n",
    "class Megahospital(GeneralHospital,Speciallity):\n",
    "    def hello(self):\n",
    "        print(\"All is avaliable.\")"
   ]
  },
  {
   "cell_type": "code",
   "execution_count": null,
   "id": "40a31846",
   "metadata": {},
   "outputs": [],
   "source": [
    "doc=Megahospital()"
   ]
  },
  {
   "cell_type": "code",
   "execution_count": 18,
   "id": "f55974f7",
   "metadata": {},
   "outputs": [
    {
     "name": "stdout",
     "output_type": "stream",
     "text": [
      "Surgeon Doctors.\n"
     ]
    }
   ],
   "source": [
    "doc.surgeon()"
   ]
  },
  {
   "cell_type": "code",
   "execution_count": 19,
   "id": "ca2b2e56",
   "metadata": {},
   "outputs": [
    {
     "name": "stdout",
     "output_type": "stream",
     "text": [
      "General Medicine Doctors.\n"
     ]
    }
   ],
   "source": [
    "doc.opd()"
   ]
  },
  {
   "cell_type": "code",
   "execution_count": 20,
   "id": "fd35dc3f",
   "metadata": {},
   "outputs": [],
   "source": [
    "class Speciallity():\n",
    "    def surgeon(self):\n",
    "        print(\"Surgeon Doctors.\")\n",
    "\n",
    "    def neuro(self):\n",
    "        print(\"Neuro Surgeon Doctors.\")\n",
    "\n",
    "    def radiology(self):\n",
    "        print(\"Radiology Doctors.\")\n",
    "\n",
    "class GeneralHospital():\n",
    "    def opd(self):\n",
    "        print(\"General Medicine Doctors.\")\n",
    "\n",
    "class MegaHospital(GeneralHospital,Speciallity):\n",
    "    def All(self):\n",
    "        print(\"This is MegaHospital.\")\n",
    "\n",
    "class MiniHospital(GeneralHospital):\n",
    "    def general(self):\n",
    "        print(\"This is MiniHospital.\")"
   ]
  },
  {
   "cell_type": "code",
   "execution_count": 23,
   "id": "c0aa9178",
   "metadata": {},
   "outputs": [],
   "source": [
    "a=MegaHospital()"
   ]
  },
  {
   "cell_type": "code",
   "execution_count": 24,
   "id": "0017e1f2",
   "metadata": {},
   "outputs": [
    {
     "name": "stdout",
     "output_type": "stream",
     "text": [
      "Radiology Doctors.\n"
     ]
    }
   ],
   "source": [
    "a.radiology()"
   ]
  },
  {
   "cell_type": "code",
   "execution_count": 25,
   "id": "eedd9864",
   "metadata": {},
   "outputs": [],
   "source": [
    "b=MiniHospital()"
   ]
  },
  {
   "cell_type": "code",
   "execution_count": 27,
   "id": "5d46c4c5",
   "metadata": {},
   "outputs": [
    {
     "name": "stdout",
     "output_type": "stream",
     "text": [
      "General Medicine Doctors.\n"
     ]
    }
   ],
   "source": [
    "b.opd()"
   ]
  },
  {
   "cell_type": "code",
   "execution_count": null,
   "id": "30a80c84",
   "metadata": {},
   "outputs": [],
   "source": [
    "# b.surgeon can;t be because it is not inherit the speciality class"
   ]
  },
  {
   "cell_type": "code",
   "execution_count": 28,
   "id": "de9a4565",
   "metadata": {},
   "outputs": [],
   "source": [
    "###Supper Keyword\n"
   ]
  },
  {
   "cell_type": "code",
   "execution_count": 43,
   "id": "7f9f2db4",
   "metadata": {},
   "outputs": [],
   "source": [
    "# Task is to allot Manager and thier team size\n",
    "\n",
    "class Empolyee:\n",
    "    def __init__(self, name, senior_status):\n",
    "        self.name = name\n",
    "        self.seniority  = senior_status\n",
    "        print(\"Employee Name: \",self.name,\" status : \",self.seniority)\n",
    "\n",
    "class Manager(Empolyee):\n",
    "    def __init__(self, name, senior_status, team_size):\n",
    "        super().__init__(name, senior_status)\n",
    "        self.team_size = team_size\n",
    "\n",
    "    def show(self):\n",
    "        print(\"Manages\", self.team_size, \"people\")"
   ]
  },
  {
   "cell_type": "code",
   "execution_count": 44,
   "id": "0b3c9a52",
   "metadata": {},
   "outputs": [
    {
     "name": "stdout",
     "output_type": "stream",
     "text": [
      "Employee Name:  Aswathi  status :  Senior\n"
     ]
    }
   ],
   "source": [
    "M1 = Manager(\"Aswathi\",\"Senior\",\"100\")"
   ]
  },
  {
   "cell_type": "code",
   "execution_count": 45,
   "id": "72856b2b",
   "metadata": {},
   "outputs": [
    {
     "name": "stdout",
     "output_type": "stream",
     "text": [
      "Manages 100 people\n"
     ]
    }
   ],
   "source": [
    "M1.show()"
   ]
  },
  {
   "cell_type": "code",
   "execution_count": null,
   "id": "a83723c6",
   "metadata": {},
   "outputs": [],
   "source": []
  }
 ],
 "metadata": {
  "kernelspec": {
   "display_name": "Python 3",
   "language": "python",
   "name": "python3"
  },
  "language_info": {
   "codemirror_mode": {
    "name": "ipython",
    "version": 3
   },
   "file_extension": ".py",
   "mimetype": "text/x-python",
   "name": "python",
   "nbconvert_exporter": "python",
   "pygments_lexer": "ipython3",
   "version": "3.12.0"
  }
 },
 "nbformat": 4,
 "nbformat_minor": 5
}
