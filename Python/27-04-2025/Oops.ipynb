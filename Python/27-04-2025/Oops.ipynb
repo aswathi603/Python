{
 "cells": [
  {
   "cell_type": "code",
   "execution_count": null,
   "id": "39fb20df",
   "metadata": {},
   "outputs": [
    {
     "name": "stdout",
     "output_type": "stream",
     "text": [
      "Type of mobile is:  Aswathi\n",
      "Customer address is:  123 Main St, Cityville\n",
      "Brand name is:  Samsung\n",
      "Model name is:  Galaxy S21\n",
      "Color is:  Black\n",
      "Type of mobile is:  Smartphone\n",
      "Price is:  799\n"
     ]
    }
   ],
   "source": [
    "class Mobile:\n",
    "    def __init__(self,manufacture_name, model_name, address, price):\n",
    "        self.manufacture_name = manufacture_name\n",
    "        self.model_name = model_name\n",
    "        self.address = address\n",
    "        self.price = price\n",
    "\n",
    "    def customer_name(self, name):\n",
    "        self.name =name\n",
    "        print(\"Customer name is: \", self.name)\n",
    "\n",
    "    def customer_address(self, address):\n",
    "        self.address =address\n",
    "        print(\"Customer address is: \", self.address)\n",
    "\n",
    "    def brand_name(self, brand):\n",
    "        self.brand = brand\n",
    "        print(\"Brand name is: \", self.brand)\n",
    "\n",
    "    def model(self, model_name):\n",
    "        print(\"Model name is: \", self.model_name)\n",
    "\n",
    "    def color(self, color):\n",
    "        self.color = color\n",
    "        print(\"Color is: \", self.color)\n",
    "\n",
    "    def customer_name(self, type_of_mobile):\n",
    "        self.type_of_mobile = type_of_mobile\n",
    "        print(\"Type of mobile is: \", self.type_of_mobile)\n",
    "\n",
    "    def show_price(self,price):\n",
    "        self.price = price\n",
    "        print(\"Price is: \", self.price)\n",
    "\n",
    "# object creation \n",
    "mob1 = Mobile(\"Samsung\", \"Galaxy S21\", \"123 Main St, Cityville\", 799)\n",
    "mob1.customer_name(\"Aswathi\")\n",
    "mob1.customer_address(\"123 Main St, Cityville\")\n",
    "mob1.brand_name(\"Samsung\")\n",
    "mob1.model(\"Galaxy S21\")\n",
    "mob1.color(\"Black\")\n",
    "mob1.customer_name(\"Smartphone\")\n",
    "mob1.show_price(799)\n"
   ]
  },
  {
   "cell_type": "code",
   "execution_count": null,
   "id": "144071e8",
   "metadata": {},
   "outputs": [
    {
     "name": "stdout",
     "output_type": "stream",
     "text": [
      "Congratulations!  Aswathi You have secured a house of size  12000 sq ft at location  abc-123-werr-234\n",
      "House Left:  99\n",
      "Congratulations!  Veena You have secured a house of size  12000 sq ft at location  abc-123-werr-234\n",
      "House Left:  98\n",
      "Congratulations!  Arjun You have secured a house of size  12000 sq ft at location  abc-123-werr-234\n",
      "House Left:  97\n",
      "Congratulations!  Narayanan You have secured a house of size  12000 sq ft at location  abc-123-werr-234\n",
      "House Left:  96\n",
      "Congratulations!  Drakula You have secured a house of size  12000 sq ft at location  abc-123-werr-234\n",
      "House Left:  95\n"
     ]
    }
   ],
   "source": [
    "# We created  this for the  builders \n",
    "# In this we  are selling a home located in \" abc-123-werr-234\"\n",
    "\n",
    "\n",
    "class Home:\n",
    "    def __init__(self):\n",
    "        self.property_size = \"12000 sq ft\"\n",
    "        self.location = \"abc-123-werr-234\"\n",
    "        self.house_left= 100\n",
    "\n",
    "    def buy_house(self, customer_name):\n",
    "        print(\"Congratulations! \", customer_name, \"You have secured a house of size \", self.property_size, \"at location \",self.location)\n",
    "        self.house_left-=1 \n",
    "        # self.house_left = self.house_left-1\n",
    "        print(\"House Left: \", self.house_left)\n",
    "\n",
    "builder_manager =  Home()\n",
    "builder_manager.buy_house(\"Aswathi\")\n",
    "builder_manager.buy_house(\"Veena\")\n",
    "builder_manager.buy_house(\"Arjun\")\n",
    "builder_manager.buy_house(\"Narayanan\")\n",
    "builder_manager.buy_house(\"Drakula\")\n"
   ]
  },
  {
   "cell_type": "code",
   "execution_count": 7,
   "id": "3b71a82c",
   "metadata": {},
   "outputs": [
    {
     "name": "stdout",
     "output_type": "stream",
     "text": [
      "Congratulations!  Aswathi You have secured a house of size  2000sqft at location  bengaluru from builder  bridge\n",
      "House Left:  1999\n",
      "Congratulations!  Veena You have secured a house of size  2000sqft at location  bengaluru from builder  bridge\n",
      "House Left:  1998\n",
      "Congratulations!  Arjun You have secured a house of size  15000sqft at location  Delhi from builder  embssy\n",
      "House Left:  99\n",
      "Congratulations!  Narayanan You have secured a house of size  15000sqft at location  Delhi from builder  embssy\n",
      "House Left:  98\n"
     ]
    }
   ],
   "source": [
    "class Home:\n",
    "    def __init__(self,size,location,total_house,builder_name):\n",
    "        self.property_size =  size\n",
    "        self.location = location\n",
    "        self.house_left = int(total_house)\n",
    "        self.builder_name = builder_name\n",
    "\n",
    "    def buy_house(self, customer_name):\n",
    "        print(\"Congratulations! \", customer_name, \"You have secured a house of size \", self.property_size, \"at location \", self.location, \"from builder \", self.builder_name)\n",
    "        self.house_left-=1 \n",
    "        # self.house_left = self.house_left-1\n",
    "        print(\"House Left: \", self.house_left)\n",
    "\n",
    "builder_manager_1 =  Home(\"2000sqft\", \"bengaluru\", 2000, \"bridge\")\n",
    "builder_manager_2 =  Home(\"15000sqft\", \"Delhi\", 100, \"embssy\")\n",
    "builder_manager_1.buy_house(\"Aswathi\")\n",
    "builder_manager_1.buy_house(\"Veena\")\n",
    "builder_manager_2.buy_house(\"Arjun\")\n",
    "builder_manager_2.buy_house(\"Narayanan\")\n",
    "\n"
   ]
  },
  {
   "cell_type": "code",
   "execution_count": null,
   "id": "85544916",
   "metadata": {},
   "outputs": [],
   "source": []
  },
  {
   "cell_type": "code",
   "execution_count": null,
   "id": "cdd6d609",
   "metadata": {},
   "outputs": [],
   "source": []
  },
  {
   "cell_type": "code",
   "execution_count": null,
   "metadata": {},
   "outputs": [],
   "source": []
  },
  {
   "cell_type": "code",
   "execution_count": null,
   "id": "54520f80",
   "metadata": {},
   "outputs": [],
   "source": []
  },
  {
   "cell_type": "code",
   "execution_count": null,
   "id": "aad358a0",
   "metadata": {},
   "outputs": [],
   "source": []
  },
  {
   "cell_type": "code",
   "execution_count": null,
   "id": "069062c6",
   "metadata": {},
   "outputs": [],
   "source": []
  },
  {
   "cell_type": "code",
   "execution_count": null,
   "id": "eb9c2a95",
   "metadata": {},
   "outputs": [],
   "source": []
  },
  {
   "cell_type": "code",
   "execution_count": null,
   "id": "949cb356",
   "metadata": {},
   "outputs": [],
   "source": []
  }
 ],
 "metadata": {
  "kernelspec": {
   "display_name": "Python 3",
   "language": "python",
   "name": "python3"
  },
  "language_info": {
   "codemirror_mode": {
    "name": "ipython",
    "version": 3
   },
   "file_extension": ".py",
   "mimetype": "text/x-python",
   "name": "python",
   "nbconvert_exporter": "python",
   "pygments_lexer": "ipython3",
   "version": "3.12.0"
  }
 },
 "nbformat": 4,
 "nbformat_minor": 5
}
