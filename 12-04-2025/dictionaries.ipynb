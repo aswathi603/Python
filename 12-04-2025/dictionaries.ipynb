{
 "cells": [
  {
   "cell_type": "code",
   "execution_count": 1,
   "id": "c4dd8448",
   "metadata": {},
   "outputs": [
    {
     "name": "stdout",
     "output_type": "stream",
     "text": [
      "<class 'dict'>\n"
     ]
    }
   ],
   "source": [
    "a={}\n",
    "print(type(a))"
   ]
  },
  {
   "cell_type": "code",
   "execution_count": null,
   "id": "7e83c373",
   "metadata": {},
   "outputs": [],
   "source": [
    "#Task is to store Emp details \n",
    "\n",
    "\n",
    "#Lets stroe the empolyee setails using thier id \n",
    "emp_details ={ \n",
    "               \"001\": [\"Aswathi\",\"India\"],\n",
    "               \"002\":[\"Sidharth\",\"USA\"],\n",
    "               \"003\":[\"Monal\",\"Canada\"]\n",
    "               }\n"
   ]
  },
  {
   "cell_type": "code",
   "execution_count": 7,
   "id": "96b18890",
   "metadata": {},
   "outputs": [
    {
     "data": {
      "text/plain": [
       "['Aswathi', 'India']"
      ]
     },
     "execution_count": 7,
     "metadata": {},
     "output_type": "execute_result"
    }
   ],
   "source": [
    "emp_details[\"001\"]"
   ]
  },
  {
   "cell_type": "code",
   "execution_count": 11,
   "id": "3657a9f3",
   "metadata": {},
   "outputs": [],
   "source": [
    "emp_details={\n",
    "        \"001\":{\n",
    "            \"name\":\"Aswathi\",\n",
    "            \"Ph.no\":1234567890,\n",
    "            \"address\":\"india\",\n",
    "            \"Ocuppation\":\"Student\"\n",
    "            }\n",
    "         ,\"002\": {\n",
    "            \"name\":\"Sidharth\",\n",
    "            \"Ph.no\":8503758210,\n",
    "            \"address\":\"USA\",\n",
    "            \"Ocuppation\":\"CEO\"\n",
    "            }\n",
    "        }"
   ]
  },
  {
   "cell_type": "code",
   "execution_count": 12,
   "id": "09e7af59",
   "metadata": {},
   "outputs": [
    {
     "data": {
      "text/plain": [
       "'CEO'"
      ]
     },
     "execution_count": 12,
     "metadata": {},
     "output_type": "execute_result"
    }
   ],
   "source": [
    "emp_details[\"002\"][\"Ocuppation\"]"
   ]
  },
  {
   "cell_type": "code",
   "execution_count": 13,
   "id": "8bd1cc79",
   "metadata": {},
   "outputs": [],
   "source": [
    "##add\n",
    "\n",
    "a={\"002\":\"hello\"}"
   ]
  },
  {
   "cell_type": "code",
   "execution_count": 14,
   "id": "0126b9be",
   "metadata": {},
   "outputs": [
    {
     "name": "stdout",
     "output_type": "stream",
     "text": [
      "{'002': 'hello'}\n"
     ]
    }
   ],
   "source": [
    "print(a)"
   ]
  },
  {
   "cell_type": "code",
   "execution_count": 15,
   "id": "0ff4d0ef",
   "metadata": {},
   "outputs": [],
   "source": [
    "a[\"001\"]=\"Say\""
   ]
  },
  {
   "cell_type": "code",
   "execution_count": 16,
   "id": "48295aa3",
   "metadata": {},
   "outputs": [
    {
     "name": "stdout",
     "output_type": "stream",
     "text": [
      "{'002': 'hello', '001': 'Say'}\n"
     ]
    }
   ],
   "source": [
    "print(a)"
   ]
  },
  {
   "cell_type": "code",
   "execution_count": 18,
   "id": "6482f559",
   "metadata": {},
   "outputs": [
    {
     "data": {
      "text/plain": [
       "dict_keys(['002', '001'])"
      ]
     },
     "execution_count": 18,
     "metadata": {},
     "output_type": "execute_result"
    }
   ],
   "source": [
    "a.keys()"
   ]
  },
  {
   "cell_type": "code",
   "execution_count": 22,
   "id": "32b27940",
   "metadata": {},
   "outputs": [
    {
     "data": {
      "text/plain": [
       "['002', '001']"
      ]
     },
     "execution_count": 22,
     "metadata": {},
     "output_type": "execute_result"
    }
   ],
   "source": [
    "list(a.keys())"
   ]
  },
  {
   "cell_type": "code",
   "execution_count": 21,
   "id": "b7b3089e",
   "metadata": {},
   "outputs": [
    {
     "data": {
      "text/plain": [
       "dict_values(['hello', 'Say'])"
      ]
     },
     "execution_count": 21,
     "metadata": {},
     "output_type": "execute_result"
    }
   ],
   "source": [
    "a.values()"
   ]
  },
  {
   "cell_type": "code",
   "execution_count": 23,
   "id": "484a270c",
   "metadata": {},
   "outputs": [
    {
     "data": {
      "text/plain": [
       "['hello', 'Say']"
      ]
     },
     "execution_count": 23,
     "metadata": {},
     "output_type": "execute_result"
    }
   ],
   "source": [
    "list(a.values())"
   ]
  },
  {
   "cell_type": "code",
   "execution_count": 24,
   "id": "c59922bf",
   "metadata": {},
   "outputs": [
    {
     "data": {
      "text/plain": [
       "dict_items([('002', 'hello'), ('001', 'Say')])"
      ]
     },
     "execution_count": 24,
     "metadata": {},
     "output_type": "execute_result"
    }
   ],
   "source": [
    "a.items()"
   ]
  },
  {
   "cell_type": "code",
   "execution_count": 25,
   "id": "ab730939",
   "metadata": {},
   "outputs": [
    {
     "data": {
      "text/plain": [
       "[('002', 'hello'), ('001', 'Say')]"
      ]
     },
     "execution_count": 25,
     "metadata": {},
     "output_type": "execute_result"
    }
   ],
   "source": [
    "list(a.items())"
   ]
  }
 ],
 "metadata": {
  "kernelspec": {
   "display_name": "Python 3",
   "language": "python",
   "name": "python3"
  },
  "language_info": {
   "codemirror_mode": {
    "name": "ipython",
    "version": 3
   },
   "file_extension": ".py",
   "mimetype": "text/x-python",
   "name": "python",
   "nbconvert_exporter": "python",
   "pygments_lexer": "ipython3",
   "version": "3.12.0"
  }
 },
 "nbformat": 4,
 "nbformat_minor": 5
}
